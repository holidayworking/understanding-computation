{
 "metadata": {
  "language": "ruby",
  "name": "",
  "signature": "sha256:7671b73ea39b3164726a3d0fbedd162a4e83fab69a091dffba0192c0c9b7a078"
 },
 "nbformat": 3,
 "nbformat_minor": 0,
 "worksheets": [
  {
   "cells": [
    {
     "cell_type": "heading",
     "level": 1,
     "metadata": {},
     "source": [
      "3\u7ae0 \u6700\u3082\u5358\u7d14\u306a\u30b3\u30f3\u30d4\u30e5\u30fc\u30bf"
     ]
    },
    {
     "cell_type": "heading",
     "level": 2,
     "metadata": {},
     "source": [
      "3.1 \u6c7a\u5b9a\u6027\u6709\u9650\u30aa\u30fc\u30c8\u30de\u30c8\u30f3"
     ]
    },
    {
     "cell_type": "heading",
     "level": 3,
     "metadata": {},
     "source": [
      "3.1.4 \u30b7\u30df\u30e5\u30ec\u30fc\u30b7\u30e7\u30f3"
     ]
    },
    {
     "cell_type": "markdown",
     "metadata": {},
     "source": [
      "\u30b7\u30df\u30e5\u30ec\u30fc\u30b7\u30e7\u30f3\u3092\u69cb\u7bc9\u3059\u308b\u305f\u3081\u3001\u307e\u305a\u306f\u898f\u5247\u306e\u96c6\u5408\u3092\u5b9f\u88c5\u3059\u308b\u3053\u3068\u304b\u3089\u59cb\u3081\u308b\u3002\u3053\u306e\u898f\u5247\u306e\u96c6\u5408\u3092\u898f\u5247\u96c6 (rulebook) \u3068\u547c\u3076\u3053\u3068\u306b\u3059\u308b\u3002"
     ]
    },
    {
     "cell_type": "code",
     "collapsed": false,
     "input": [
      "class FARule < Struct.new(:state, :character, :next_state)\n",
      "  def applies_to?(state, character)\n",
      "    self.state == state && self.character == character\n",
      "  end\n",
      "  \n",
      "  def follow\n",
      "    next_state\n",
      "  end\n",
      "  \n",
      "  def inspect\n",
      "    \"#<FARule #{state.inspect} --#{character}--> #{next_state.inspect}>\"\n",
      "  end\n",
      "end\n",
      "\n",
      "class DFARulebook < Struct.new(:rules)\n",
      "  def next_state(state, character)\n",
      "    rule_for(state, character).follow\n",
      "  end\n",
      "  \n",
      "  def rule_for(state, character)\n",
      "    rules.detect { |rule| rule.applies_to?(state, character) }\n",
      "  end\n",
      "end"
     ],
     "language": "python",
     "metadata": {},
     "outputs": [
      {
       "metadata": {},
       "output_type": "pyout",
       "prompt_number": 1,
       "text": [
        ":rule_for"
       ]
      }
     ],
     "prompt_number": 1
    },
    {
     "cell_type": "markdown",
     "metadata": {},
     "source": [
      "\u898f\u5247\u96c6\u306f\u8907\u6570\u306e\u898f\u5247\u30921\u3064\u306e\u30aa\u30d6\u30b8\u30a7\u30af\u30c8\u306b\u307e\u3068\u3081\u3066\u3001\u6a5f\u68b0\u304c\u6b21\u306b\u3069\u3093\u306a\u72b6\u614b\u306b\u306a\u308b\u304b\u3068\u3044\u3046\u8cea\u554f\u306b\u7b54\u3048\u308b\u3002"
     ]
    },
    {
     "cell_type": "code",
     "collapsed": false,
     "input": [
      "rulebook = DFARulebook.new([\n",
      "  FARule.new(1, 'a', 2), FARule.new(1, 'b', 1),\n",
      "  FARule.new(2, 'a', 2), FARule.new(2, 'b', 3),\n",
      "  FARule.new(3, 'a', 3), FARule.new(3, 'b', 3)\n",
      "])"
     ],
     "language": "python",
     "metadata": {},
     "outputs": [
      {
       "metadata": {},
       "output_type": "pyout",
       "prompt_number": 2,
       "text": [
        "#<struct DFARulebook rules=[#<FARule 1 --a--> 2>, #<FARule 1 --b--> 1>, #<FARule 2 --a--> 2>, #<FARule 2 --b--> 3>, #<FARule 3 --a--> 3>, #<FARule 3 --b--> 3>]>"
       ]
      }
     ],
     "prompt_number": 2
    },
    {
     "cell_type": "code",
     "collapsed": false,
     "input": [
      "rulebook.next_state(1, 'a')"
     ],
     "language": "python",
     "metadata": {},
     "outputs": [
      {
       "metadata": {},
       "output_type": "pyout",
       "prompt_number": 3,
       "text": [
        "2"
       ]
      }
     ],
     "prompt_number": 3
    },
    {
     "cell_type": "code",
     "collapsed": false,
     "input": [
      "rulebook.next_state(1, 'b')"
     ],
     "language": "python",
     "metadata": {},
     "outputs": [
      {
       "metadata": {},
       "output_type": "pyout",
       "prompt_number": 4,
       "text": [
        "1"
       ]
      }
     ],
     "prompt_number": 4
    },
    {
     "cell_type": "code",
     "collapsed": false,
     "input": [
      "rulebook.next_state(2, 'b')"
     ],
     "language": "python",
     "metadata": {},
     "outputs": [
      {
       "metadata": {},
       "output_type": "pyout",
       "prompt_number": 5,
       "text": [
        "3"
       ]
      }
     ],
     "prompt_number": 5
    },
    {
     "cell_type": "markdown",
     "metadata": {},
     "source": [
      "\u73fe\u5728\u306e\u72b6\u614b\u3092\u8a18\u9332\u3057\u3066\u3001\u305d\u308c\u304c\u53d7\u7406\u72b6\u614b (accept state) \u304b\u3069\u3046\u304b\u3092\u5831\u544a\u3059\u308b `DFA` \u30aa\u30d6\u30b8\u30a7\u30af\u30c8\u3092\u4f5c\u308b\u3002"
     ]
    },
    {
     "cell_type": "code",
     "collapsed": false,
     "input": [
      "class DFA < Struct.new(:current_state, :accept_states, :rulebook)\n",
      "  def accepting?\n",
      "    accept_states.include?(current_state)\n",
      "  end\n",
      "end"
     ],
     "language": "python",
     "metadata": {},
     "outputs": [
      {
       "metadata": {},
       "output_type": "pyout",
       "prompt_number": 6,
       "text": [
        ":accepting?"
       ]
      }
     ],
     "prompt_number": 6
    },
    {
     "cell_type": "code",
     "collapsed": false,
     "input": [
      "DFA.new(1, [1, 3], rulebook).accepting?"
     ],
     "language": "python",
     "metadata": {},
     "outputs": [
      {
       "metadata": {},
       "output_type": "pyout",
       "prompt_number": 7,
       "text": [
        "true"
       ]
      }
     ],
     "prompt_number": 7
    },
    {
     "cell_type": "code",
     "collapsed": false,
     "input": [
      "DFA.new(1, [3], rulebook).accepting?"
     ],
     "language": "python",
     "metadata": {},
     "outputs": [
      {
       "metadata": {},
       "output_type": "pyout",
       "prompt_number": 8,
       "text": [
        "false"
       ]
      }
     ],
     "prompt_number": 8
    },
    {
     "cell_type": "markdown",
     "metadata": {},
     "source": [
      "\u5165\u529b\u304b\u30891\u6587\u5b57\u8aad\u3093\u3067\u3001\u898f\u5247\u96c6\u3092\u8abf\u3079\u3066\u3001\u305d\u308c\u306b\u5fdc\u3058\u3066\u73fe\u5728\u306e\u72b6\u614b\u3092\u5909\u66f4\u3059\u308b\u30e1\u30bd\u30c3\u30c9\u3092\u66f8\u304f\u3002"
     ]
    },
    {
     "cell_type": "code",
     "collapsed": false,
     "input": [
      "class DFA\n",
      "  def read_character(character)\n",
      "    self.current_state = rulebook.next_state(current_state, character)\n",
      "  end\n",
      "end"
     ],
     "language": "python",
     "metadata": {},
     "outputs": [
      {
       "metadata": {},
       "output_type": "pyout",
       "prompt_number": 9,
       "text": [
        ":read_character"
       ]
      }
     ],
     "prompt_number": 9
    },
    {
     "cell_type": "code",
     "collapsed": false,
     "input": [
      "dfa = DFA.new(1, [3], rulebook); dfa.accepting?"
     ],
     "language": "python",
     "metadata": {},
     "outputs": [
      {
       "metadata": {},
       "output_type": "pyout",
       "prompt_number": 10,
       "text": [
        "false"
       ]
      }
     ],
     "prompt_number": 10
    },
    {
     "cell_type": "code",
     "collapsed": false,
     "input": [
      "dfa.read_character('b'); dfa.accepting?"
     ],
     "language": "python",
     "metadata": {},
     "outputs": [
      {
       "metadata": {},
       "output_type": "pyout",
       "prompt_number": 11,
       "text": [
        "false"
       ]
      }
     ],
     "prompt_number": 11
    },
    {
     "cell_type": "code",
     "collapsed": false,
     "input": [
      "3.times { dfa.read_character('a') }; dfa.accepting?"
     ],
     "language": "python",
     "metadata": {},
     "outputs": [
      {
       "metadata": {},
       "output_type": "pyout",
       "prompt_number": 12,
       "text": [
        "false"
       ]
      }
     ],
     "prompt_number": 12
    },
    {
     "cell_type": "code",
     "collapsed": false,
     "input": [
      "dfa.read_character('b'); dfa.accepting?"
     ],
     "language": "python",
     "metadata": {},
     "outputs": [
      {
       "metadata": {},
       "output_type": "pyout",
       "prompt_number": 13,
       "text": [
        "true"
       ]
      }
     ],
     "prompt_number": 13
    },
    {
     "cell_type": "markdown",
     "metadata": {},
     "source": [
      "\u4e0e\u3048\u305f\u5165\u529b\u6587\u5b57\u5217\u3092\u3059\u3079\u3066\u8aad\u3080\u3053\u3068\u304c\u3067\u304d\u308b\u4fbf\u5229\u306a\u30e1\u30bd\u30c3\u30c9\u3092\u8ffd\u52a0\u3059\u308b\u3002"
     ]
    },
    {
     "cell_type": "code",
     "collapsed": false,
     "input": [
      "class DFA\n",
      "  def read_string(string)\n",
      "    string.chars.each do |character|\n",
      "      read_character(character)\n",
      "    end\n",
      "  end\n",
      "end"
     ],
     "language": "python",
     "metadata": {},
     "outputs": [
      {
       "metadata": {},
       "output_type": "pyout",
       "prompt_number": 14,
       "text": [
        ":read_string"
       ]
      }
     ],
     "prompt_number": 14
    },
    {
     "cell_type": "code",
     "collapsed": false,
     "input": [
      "dfa = DFA.new(1, [3], rulebook); dfa.accepting?"
     ],
     "language": "python",
     "metadata": {},
     "outputs": [
      {
       "metadata": {},
       "output_type": "pyout",
       "prompt_number": 15,
       "text": [
        "false"
       ]
      }
     ],
     "prompt_number": 15
    },
    {
     "cell_type": "code",
     "collapsed": false,
     "input": [
      "dfa.read_string('baaab'); dfa.accepting?"
     ],
     "language": "python",
     "metadata": {},
     "outputs": [
      {
       "metadata": {},
       "output_type": "pyout",
       "prompt_number": 16,
       "text": [
        "true"
       ]
      }
     ],
     "prompt_number": 16
    },
    {
     "cell_type": "markdown",
     "metadata": {},
     "source": [
      "\u7279\u5b9a\u306e DFA \u306e\u8a2d\u8a08\u3092\u8868\u73fe\u3059\u308b\u30aa\u30d6\u30b8\u30a7\u30af\u30c8\u3092\u4f5c\u308a\u3001\u305d\u3053\u306b DFA \u306e\u30b3\u30f3\u30b9\u30c8\u30e9\u30af\u30bf\u306b\u6e21\u3059\u5f15\u6570\u3092\u683c\u7d0d\u3059\u308b\u3002\u305d\u3057\u3066\u3001\u6587\u5b57\u5217\u3092\u30c1\u30a7\u30c3\u30af\u3059\u308b\u305f\u3073\u306b\u3001\u4f7f\u3044\u6368\u3066\u306e DFA \u306e\u30a4\u30f3\u30b9\u30bf\u30f3\u30b9\u3092\u81ea\u52d5\u69cb\u7bc9\u3059\u308b\u3088\u3046\u306b\u3059\u308b\u3002"
     ]
    },
    {
     "cell_type": "code",
     "collapsed": false,
     "input": [
      "class DFADesign < Struct.new(:start_state, :accept_states, :rulebook)\n",
      "  def to_dfa\n",
      "    DFA.new(start_state, accept_states, rulebook)\n",
      "  end\n",
      "  \n",
      "  def accepts?(string)\n",
      "    to_dfa.tap { |dfa| dfa.read_string(string) }.accepting?\n",
      "  end\n",
      "end"
     ],
     "language": "python",
     "metadata": {},
     "outputs": [
      {
       "metadata": {},
       "output_type": "pyout",
       "prompt_number": 17,
       "text": [
        ":accepts?"
       ]
      }
     ],
     "prompt_number": 17
    },
    {
     "cell_type": "code",
     "collapsed": false,
     "input": [
      "dfa_design = DFADesign.new(1, [3], rulebook)"
     ],
     "language": "python",
     "metadata": {},
     "outputs": [
      {
       "metadata": {},
       "output_type": "pyout",
       "prompt_number": 18,
       "text": [
        "#<struct DFADesign start_state=1, accept_states=[3], rulebook=#<struct DFARulebook rules=[#<FARule 1 --a--> 2>, #<FARule 1 --b--> 1>, #<FARule 2 --a--> 2>, #<FARule 2 --b--> 3>, #<FARule 3 --a--> 3>, #<FARule 3 --b--> 3>]>>"
       ]
      }
     ],
     "prompt_number": 18
    },
    {
     "cell_type": "code",
     "collapsed": false,
     "input": [
      "dfa_design.accepts?('a')"
     ],
     "language": "python",
     "metadata": {},
     "outputs": [
      {
       "metadata": {},
       "output_type": "pyout",
       "prompt_number": 19,
       "text": [
        "false"
       ]
      }
     ],
     "prompt_number": 19
    },
    {
     "cell_type": "code",
     "collapsed": false,
     "input": [
      "dfa_design.accepts?('baa')"
     ],
     "language": "python",
     "metadata": {},
     "outputs": [
      {
       "metadata": {},
       "output_type": "pyout",
       "prompt_number": 20,
       "text": [
        "false"
       ]
      }
     ],
     "prompt_number": 20
    },
    {
     "cell_type": "code",
     "collapsed": false,
     "input": [
      "dfa_design.accepts?('baba')"
     ],
     "language": "python",
     "metadata": {},
     "outputs": [
      {
       "metadata": {},
       "output_type": "pyout",
       "prompt_number": 21,
       "text": [
        "true"
       ]
      }
     ],
     "prompt_number": 21
    },
    {
     "cell_type": "heading",
     "level": 2,
     "metadata": {},
     "source": [
      "3.2 \u975e\u6c7a\u5b9a\u6027\u6709\u9650\u30aa\u30fc\u30c8\u30de\u30c8\u30f3"
     ]
    },
    {
     "cell_type": "heading",
     "level": 3,
     "metadata": {},
     "source": [
      "3.2.1 \u975e\u6c7a\u5b9a\u6027"
     ]
    },
    {
     "cell_type": "markdown",
     "metadata": {},
     "source": [
      "NFA \u306e\u898f\u5247\u96c6\u306e\u5b9f\u88c5\u306f\u6b21\u306e\u3088\u3046\u306b\u306a\u308b\u3002"
     ]
    },
    {
     "cell_type": "code",
     "collapsed": false,
     "input": [
      "require 'set'\n",
      "\n",
      "class NFARulebook < Struct.new(:rules)\n",
      "  def next_states(states, character)\n",
      "    states.flat_map { |state| follow_rules_for(state, character) }.to_set\n",
      "  end\n",
      "  \n",
      "  def follow_rules_for(state, character)\n",
      "    rules_for(state, character).map(&:follow)\n",
      "  end\n",
      "  \n",
      "  def rules_for(state, character)\n",
      "    rules.select { |rule| rule.applies_to?(state, character) }\n",
      "  end\n",
      "end"
     ],
     "language": "python",
     "metadata": {},
     "outputs": [
      {
       "metadata": {},
       "output_type": "pyout",
       "prompt_number": 22,
       "text": [
        ":rules_for"
       ]
      }
     ],
     "prompt_number": 22
    },
    {
     "cell_type": "code",
     "collapsed": false,
     "input": [
      "rulebook = NFARulebook.new([\n",
      "  FARule.new(1, 'a', 1), FARule.new(1, 'b', 1), FARule.new(1, 'b', 2),\n",
      "  FARule.new(2, 'a', 3), FARule.new(2, 'b', 3),\n",
      "  FARule.new(3, 'a', 4), FARule.new(3, 'b', 4)\n",
      "])"
     ],
     "language": "python",
     "metadata": {},
     "outputs": [
      {
       "metadata": {},
       "output_type": "pyout",
       "prompt_number": 23,
       "text": [
        "#<struct NFARulebook rules=[#<FARule 1 --a--> 1>, #<FARule 1 --b--> 1>, #<FARule 1 --b--> 2>, #<FARule 2 --a--> 3>, #<FARule 2 --b--> 3>, #<FARule 3 --a--> 4>, #<FARule 3 --b--> 4>]>"
       ]
      }
     ],
     "prompt_number": 23
    },
    {
     "cell_type": "code",
     "collapsed": false,
     "input": [
      "rulebook.next_states(Set[1], 'b')"
     ],
     "language": "python",
     "metadata": {},
     "outputs": [
      {
       "metadata": {},
       "output_type": "pyout",
       "prompt_number": 24,
       "text": [
        "#<Set: {1, 2}>"
       ]
      }
     ],
     "prompt_number": 24
    },
    {
     "cell_type": "code",
     "collapsed": false,
     "input": [
      "rulebook.next_states(Set[1, 2], 'a')"
     ],
     "language": "python",
     "metadata": {},
     "outputs": [
      {
       "metadata": {},
       "output_type": "pyout",
       "prompt_number": 25,
       "text": [
        "#<Set: {1, 3}>"
       ]
      }
     ],
     "prompt_number": 25
    },
    {
     "cell_type": "code",
     "collapsed": false,
     "input": [
      "rulebook.next_states(Set[1, 3], 'b')"
     ],
     "language": "python",
     "metadata": {},
     "outputs": [
      {
       "metadata": {},
       "output_type": "pyout",
       "prompt_number": 26,
       "text": [
        "#<Set: {1, 2, 4}>"
       ]
      }
     ],
     "prompt_number": 26
    },
    {
     "cell_type": "markdown",
     "metadata": {},
     "source": [
      "\u30b7\u30df\u30e5\u30ec\u30fc\u30c8\u3059\u308b\u6a5f\u68b0\u3092\u8868\u73fe\u3059\u308b NFA \u30af\u30e9\u30b9\u306e\u5b9f\u88c5\u306f\u6b21\u306e\u3088\u3046\u306b\u306a\u308b\u3002"
     ]
    },
    {
     "cell_type": "code",
     "collapsed": false,
     "input": [
      "class NFA < Struct.new(:current_states, :accept_states, :rulebook)\n",
      "  def accepting?\n",
      "    (current_states & accept_states).any?\n",
      "  end\n",
      "end"
     ],
     "language": "python",
     "metadata": {},
     "outputs": [
      {
       "metadata": {},
       "output_type": "pyout",
       "prompt_number": 27,
       "text": [
        ":accepting?"
       ]
      }
     ],
     "prompt_number": 27
    },
    {
     "cell_type": "code",
     "collapsed": false,
     "input": [
      "NFA.new(Set[1], [4], rulebook).accepting?"
     ],
     "language": "python",
     "metadata": {},
     "outputs": [
      {
       "metadata": {},
       "output_type": "pyout",
       "prompt_number": 28,
       "text": [
        "false"
       ]
      }
     ],
     "prompt_number": 28
    },
    {
     "cell_type": "code",
     "collapsed": false,
     "input": [
      "NFA.new(Set[1, 2, 4], [4], rulebook).accepting?"
     ],
     "language": "python",
     "metadata": {},
     "outputs": [
      {
       "metadata": {},
       "output_type": "pyout",
       "prompt_number": 29,
       "text": [
        "true"
       ]
      }
     ],
     "prompt_number": 29
    },
    {
     "cell_type": "markdown",
     "metadata": {},
     "source": [
      "\u5165\u529b\u304b\u30891\u6587\u5b57\u8aad\u3080\u305f\u3081\u306e `#read_character` \u30e1\u30bd\u30c3\u30c9\u3068\u3001\u8907\u6570\u306e\u6587\u5b57\u3092\u9806\u756a\u306b\u8aad\u3080 `#read_string` \u30e1\u30bd\u30c3\u30c9\u3092\u5b9f\u88c5\u3059\u308b\u3002"
     ]
    },
    {
     "cell_type": "code",
     "collapsed": false,
     "input": [
      "class NFA\n",
      "  def read_character(character)\n",
      "    self.current_states = rulebook.next_states(current_states, character)\n",
      "  end\n",
      "  \n",
      "  def read_string(string)\n",
      "    string.chars.each do |character|\n",
      "      read_character(character)\n",
      "    end\n",
      "  end\n",
      "end"
     ],
     "language": "python",
     "metadata": {},
     "outputs": [
      {
       "metadata": {},
       "output_type": "pyout",
       "prompt_number": 30,
       "text": [
        ":read_string"
       ]
      }
     ],
     "prompt_number": 30
    },
    {
     "cell_type": "code",
     "collapsed": false,
     "input": [
      "nfa = NFA.new(Set[1], [4], rulebook); nfa.accepting?"
     ],
     "language": "python",
     "metadata": {},
     "outputs": [
      {
       "metadata": {},
       "output_type": "pyout",
       "prompt_number": 31,
       "text": [
        "false"
       ]
      }
     ],
     "prompt_number": 31
    },
    {
     "cell_type": "code",
     "collapsed": false,
     "input": [
      "nfa.read_character('b'); nfa.accepting?"
     ],
     "language": "python",
     "metadata": {},
     "outputs": [
      {
       "metadata": {},
       "output_type": "pyout",
       "prompt_number": 32,
       "text": [
        "false"
       ]
      }
     ],
     "prompt_number": 32
    },
    {
     "cell_type": "code",
     "collapsed": false,
     "input": [
      "nfa.read_character('a'); nfa.accepting?"
     ],
     "language": "python",
     "metadata": {},
     "outputs": [
      {
       "metadata": {},
       "output_type": "pyout",
       "prompt_number": 33,
       "text": [
        "false"
       ]
      }
     ],
     "prompt_number": 33
    },
    {
     "cell_type": "code",
     "collapsed": false,
     "input": [
      "nfa.read_character('b'); nfa.accepting?"
     ],
     "language": "python",
     "metadata": {},
     "outputs": [
      {
       "metadata": {},
       "output_type": "pyout",
       "prompt_number": 34,
       "text": [
        "true"
       ]
      }
     ],
     "prompt_number": 34
    },
    {
     "cell_type": "code",
     "collapsed": false,
     "input": [
      "nfa = NFA.new(Set[1], [4], rulebook); nfa.accepting?"
     ],
     "language": "python",
     "metadata": {},
     "outputs": [
      {
       "metadata": {},
       "output_type": "pyout",
       "prompt_number": 35,
       "text": [
        "false"
       ]
      }
     ],
     "prompt_number": 35
    },
    {
     "cell_type": "code",
     "collapsed": false,
     "input": [
      "nfa.read_string('bbbbb'); nfa.accepting?"
     ],
     "language": "python",
     "metadata": {},
     "outputs": [
      {
       "metadata": {},
       "output_type": "pyout",
       "prompt_number": 36,
       "text": [
        "true"
       ]
      }
     ],
     "prompt_number": 36
    },
    {
     "cell_type": "markdown",
     "metadata": {},
     "source": [
      "`NFADesign` \u30aa\u30d6\u30b8\u30a7\u30af\u30c8\u3092\u4f7f\u3063\u3066\u5fc5\u8981\u306b\u5fdc\u3058\u3066\u65b0\u3057\u3044 `NFA` \u30a4\u30f3\u30b9\u30bf\u30f3\u30b9\u304c\u4f5c\u308c\u308b\u3068\u4fbf\u5229\u3067\u3042\u308b\u3002"
     ]
    },
    {
     "cell_type": "code",
     "collapsed": false,
     "input": [
      "class NFADesign < Struct.new(:start_state, :accept_states, :rulebook)\n",
      "  def accepts?(string)\n",
      "    to_nfa.tap { |nfa| nfa.read_string(string) }.accepting?\n",
      "  end\n",
      "  \n",
      "  def to_nfa\n",
      "    NFA.new(Set[start_state], accept_states, rulebook)\n",
      "  end\n",
      "end"
     ],
     "language": "python",
     "metadata": {},
     "outputs": [
      {
       "metadata": {},
       "output_type": "pyout",
       "prompt_number": 37,
       "text": [
        ":to_nfa"
       ]
      }
     ],
     "prompt_number": 37
    },
    {
     "cell_type": "code",
     "collapsed": false,
     "input": [
      "nfa_design = NFADesign.new(1, [4], rulebook)"
     ],
     "language": "python",
     "metadata": {},
     "outputs": [
      {
       "metadata": {},
       "output_type": "pyout",
       "prompt_number": 38,
       "text": [
        "#<struct NFADesign start_state=1, accept_states=[4], rulebook=#<struct NFARulebook rules=[#<FARule 1 --a--> 1>, #<FARule 1 --b--> 1>, #<FARule 1 --b--> 2>, #<FARule 2 --a--> 3>, #<FARule 2 --b--> 3>, #<FARule 3 --a--> 4>, #<FARule 3 --b--> 4>]>>"
       ]
      }
     ],
     "prompt_number": 38
    },
    {
     "cell_type": "code",
     "collapsed": false,
     "input": [
      "nfa_design.accepts?('bab')"
     ],
     "language": "python",
     "metadata": {},
     "outputs": [
      {
       "metadata": {},
       "output_type": "pyout",
       "prompt_number": 39,
       "text": [
        "true"
       ]
      }
     ],
     "prompt_number": 39
    },
    {
     "cell_type": "code",
     "collapsed": false,
     "input": [
      "nfa_design.accepts?('bbbbb')"
     ],
     "language": "python",
     "metadata": {},
     "outputs": [
      {
       "metadata": {},
       "output_type": "pyout",
       "prompt_number": 40,
       "text": [
        "true"
       ]
      }
     ],
     "prompt_number": 40
    },
    {
     "cell_type": "code",
     "collapsed": false,
     "input": [
      "nfa_design.accepts?('bbabb')"
     ],
     "language": "python",
     "metadata": {},
     "outputs": [
      {
       "metadata": {},
       "output_type": "pyout",
       "prompt_number": 41,
       "text": [
        "false"
       ]
      }
     ],
     "prompt_number": 41
    },
    {
     "cell_type": "heading",
     "level": 3,
     "metadata": {},
     "source": [
      "3.2.2 \u81ea\u7531\u79fb\u52d5"
     ]
    },
    {
     "cell_type": "markdown",
     "metadata": {},
     "source": [
      "\u81ea\u7531\u79fb\u52d5\u3092\u8868\u73fe\u3059\u308b\u4e00\u756a\u7c21\u5358\u306a\u65b9\u6cd5\u306f\u3001\u6587\u5b57\u306e\u3068\u3053\u308d\u3092 `nil` \u306b\u3057\u305f `FARule` \u3092\u4f7f\u3046\u3053\u3068\u3067\u3042\u308b\u3002"
     ]
    },
    {
     "cell_type": "code",
     "collapsed": false,
     "input": [
      "rulebook = NFARulebook.new([\n",
      "  FARule.new(1, nil, 2), FARule.new(1, nil, 4),\n",
      "  FARule.new(2, 'a', 3),\n",
      "  FARule.new(3, 'a', 2),\n",
      "  FARule.new(4, 'a', 5),\n",
      "  FARule.new(5, 'a', 6),\n",
      "  FARule.new(6, 'a', 4)\n",
      "])"
     ],
     "language": "python",
     "metadata": {},
     "outputs": [
      {
       "metadata": {},
       "output_type": "pyout",
       "prompt_number": 42,
       "text": [
        "#<struct NFARulebook rules=[#<FARule 1 ----> 2>, #<FARule 1 ----> 4>, #<FARule 2 --a--> 3>, #<FARule 3 --a--> 2>, #<FARule 4 --a--> 5>, #<FARule 5 --a--> 6>, #<FARule 6 --a--> 4>]>"
       ]
      }
     ],
     "prompt_number": 42
    },
    {
     "cell_type": "code",
     "collapsed": false,
     "input": [
      "rulebook.next_states(Set[1], nil)"
     ],
     "language": "python",
     "metadata": {},
     "outputs": [
      {
       "metadata": {},
       "output_type": "pyout",
       "prompt_number": 43,
       "text": [
        "#<Set: {2, 4}>"
       ]
      }
     ],
     "prompt_number": 43
    },
    {
     "cell_type": "markdown",
     "metadata": {},
     "source": [
      "\u7279\u5b9a\u306e\u72b6\u614b\u306e\u96c6\u5408\u304b\u3089\u81ea\u7531\u79fb\u52d5\u306b\u3088\u3063\u3066\u5230\u9054\u53ef\u80fd\u306a\u3059\u3079\u3066\u306e\u72b6\u614b\u3092\u898b\u3064\u3051\u308b\u3001\u30d8\u30eb\u30d1\u30fc\u30b3\u30fc\u30c9\u304c\u5fc5\u8981\u306b\u306a\u308b\u3002"
     ]
    },
    {
     "cell_type": "code",
     "collapsed": false,
     "input": [
      "class NFARulebook\n",
      "  def follow_free_moves(states)\n",
      "    more_states = next_states(states, nil)\n",
      "    \n",
      "    if more_states.subset?(states)\n",
      "      states\n",
      "    else\n",
      "      follow_free_moves(states + more_states)\n",
      "    end\n",
      "  end\n",
      "end"
     ],
     "language": "python",
     "metadata": {},
     "outputs": [
      {
       "metadata": {},
       "output_type": "pyout",
       "prompt_number": 44,
       "text": [
        ":follow_free_moves"
       ]
      }
     ],
     "prompt_number": 44
    },
    {
     "cell_type": "code",
     "collapsed": false,
     "input": [
      "rulebook.follow_free_moves(Set[1])"
     ],
     "language": "python",
     "metadata": {},
     "outputs": [
      {
       "metadata": {},
       "output_type": "pyout",
       "prompt_number": 45,
       "text": [
        "#<Set: {1, 2, 4}>"
       ]
      }
     ],
     "prompt_number": 45
    },
    {
     "cell_type": "markdown",
     "metadata": {},
     "source": [
      "`NFA#current_states` \u306e\u5b9f\u88c5\u3092\u30aa\u30fc\u30d0\u30fc\u30e9\u30a4\u30c9\u3059\u308b\u3053\u3068\u3067\u3001NFA \u306b\u81ea\u7531\u79fb\u52d5\u306e\u30b5\u30dd\u30fc\u30c8\u3092\u7d44\u307f\u8fbc\u3080\u3002"
     ]
    },
    {
     "cell_type": "code",
     "collapsed": false,
     "input": [
      "class NFA\n",
      "  def current_states\n",
      "    rulebook.follow_free_moves(super)\n",
      "  end\n",
      "end"
     ],
     "language": "python",
     "metadata": {},
     "outputs": [
      {
       "metadata": {},
       "output_type": "pyout",
       "prompt_number": 46,
       "text": [
        ":current_states"
       ]
      }
     ],
     "prompt_number": 46
    },
    {
     "cell_type": "code",
     "collapsed": false,
     "input": [
      "nfa_design = NFADesign.new(1, [2, 4], rulebook)"
     ],
     "language": "python",
     "metadata": {},
     "outputs": [
      {
       "metadata": {},
       "output_type": "pyout",
       "prompt_number": 47,
       "text": [
        "#<struct NFADesign start_state=1, accept_states=[2, 4], rulebook=#<struct NFARulebook rules=[#<FARule 1 ----> 2>, #<FARule 1 ----> 4>, #<FARule 2 --a--> 3>, #<FARule 3 --a--> 2>, #<FARule 4 --a--> 5>, #<FARule 5 --a--> 6>, #<FARule 6 --a--> 4>]>>"
       ]
      }
     ],
     "prompt_number": 47
    },
    {
     "cell_type": "code",
     "collapsed": false,
     "input": [
      "nfa_design.accepts?('aa')"
     ],
     "language": "python",
     "metadata": {},
     "outputs": [
      {
       "metadata": {},
       "output_type": "pyout",
       "prompt_number": 48,
       "text": [
        "true"
       ]
      }
     ],
     "prompt_number": 48
    },
    {
     "cell_type": "code",
     "collapsed": false,
     "input": [
      "nfa_design.accepts?('aaa')"
     ],
     "language": "python",
     "metadata": {},
     "outputs": [
      {
       "metadata": {},
       "output_type": "pyout",
       "prompt_number": 49,
       "text": [
        "true"
       ]
      }
     ],
     "prompt_number": 49
    },
    {
     "cell_type": "code",
     "collapsed": false,
     "input": [
      "nfa_design.accepts?('aaaaa')"
     ],
     "language": "python",
     "metadata": {},
     "outputs": [
      {
       "metadata": {},
       "output_type": "pyout",
       "prompt_number": 50,
       "text": [
        "false"
       ]
      }
     ],
     "prompt_number": 50
    },
    {
     "cell_type": "code",
     "collapsed": false,
     "input": [
      "nfa_design.accepts?('aaaaaa')"
     ],
     "language": "python",
     "metadata": {},
     "outputs": [
      {
       "metadata": {},
       "output_type": "pyout",
       "prompt_number": 51,
       "text": [
        "true"
       ]
      }
     ],
     "prompt_number": 51
    },
    {
     "cell_type": "heading",
     "level": 2,
     "metadata": {},
     "source": [
      "3.3 \u6b63\u898f\u8868\u73fe"
     ]
    },
    {
     "cell_type": "heading",
     "level": 3,
     "metadata": {},
     "source": [
      "3.3.1 \u69cb\u6587"
     ]
    },
    {
     "cell_type": "code",
     "collapsed": false,
     "input": [
      "module Pattern\n",
      "  def bracket(outer_precedence)\n",
      "    if precedence < outer_precedence\n",
      "      '(' + to_s + ')'\n",
      "    else\n",
      "      to_s\n",
      "    end\n",
      "  end\n",
      "  \n",
      "  def inspect\n",
      "    \"/#{self}/\"\n",
      "  end\n",
      "end\n",
      "\n",
      "class Empty\n",
      "  include Pattern\n",
      "  \n",
      "  def to_s\n",
      "    ''\n",
      "  end\n",
      "  \n",
      "  def precedence\n",
      "    3\n",
      "  end\n",
      "end\n",
      "\n",
      "class Literal < Struct.new(:character)\n",
      "  include Pattern\n",
      "  \n",
      "  def to_s\n",
      "    character\n",
      "  end\n",
      "  \n",
      "  def precedence\n",
      "    3\n",
      "  end\n",
      "end\n",
      "\n",
      "class Concatenate < Struct.new(:first, :second)\n",
      "  include Pattern\n",
      "  \n",
      "  def to_s\n",
      "    [first, second].map { |pattern| pattern.bracket(precedence) }.join\n",
      "  end\n",
      "  \n",
      "  def precedence\n",
      "    1\n",
      "  end\n",
      "end\n",
      "\n",
      "class Choose < Struct.new(:first, :second)\n",
      "  include Pattern\n",
      "  \n",
      "  def to_s\n",
      "    [first, second].map { |pattern| pattern.bracket(precedence) }.join('|')\n",
      "  end\n",
      "  \n",
      "  def precedence\n",
      "    0\n",
      "  end\n",
      "end\n",
      "\n",
      "class Repeat < Struct.new(:pattern)\n",
      "  include Pattern\n",
      "  \n",
      "  def to_s\n",
      "    pattern.bracket(precedence) + '*'\n",
      "  end\n",
      "  \n",
      "  def precedence\n",
      "    2\n",
      "  end\n",
      "end"
     ],
     "language": "python",
     "metadata": {},
     "outputs": [
      {
       "metadata": {},
       "output_type": "pyout",
       "prompt_number": 52,
       "text": [
        ":precedence"
       ]
      }
     ],
     "prompt_number": 52
    },
    {
     "cell_type": "code",
     "collapsed": false,
     "input": [
      "pattern =\n",
      "  Repeat.new(\n",
      "    Choose.new(\n",
      "      Concatenate.new(Literal.new('a'), Literal.new('b')),\n",
      "      Literal.new('a')\n",
      "    )\n",
      "  )"
     ],
     "language": "python",
     "metadata": {},
     "outputs": [
      {
       "metadata": {},
       "output_type": "pyout",
       "prompt_number": 53,
       "text": [
        "/(ab|a)*/"
       ]
      }
     ],
     "prompt_number": 53
    },
    {
     "cell_type": "heading",
     "level": 3,
     "metadata": {},
     "source": [
      "3.3.2 \u610f\u5473\u8ad6"
     ]
    },
    {
     "cell_type": "markdown",
     "metadata": {},
     "source": [
      "`Empty` \u3068 `Literal` \u306b\u5bfe\u3057\u3066\u3001NFA \u3092\u751f\u6210\u3059\u308b `#to_nfa_design` \u30e1\u30bd\u30c3\u30c9\u3092\u5b9f\u88c5\u3059\u308b\u306b\u306f\u7c21\u5358\u3067\u3042\u308b\u3002"
     ]
    },
    {
     "cell_type": "code",
     "collapsed": false,
     "input": [
      "class Empty\n",
      "  def to_nfa_design\n",
      "    start_state = Object.new\n",
      "    accept_states = [start_state]\n",
      "    rulebook = NFARulebook.new([])\n",
      "    \n",
      "    NFADesign.new(start_state, accept_states, rulebook)\n",
      "  end\n",
      "end\n",
      "\n",
      "class Literal\n",
      "  def to_nfa_design\n",
      "    start_state = Object.new\n",
      "    accept_state = Object.new\n",
      "    rule = FARule.new(start_state, character, accept_state)\n",
      "    rulebook = NFARulebook.new([rule])\n",
      "    \n",
      "    NFADesign.new(start_state, [accept_state], rulebook)\n",
      "  end\n",
      "end"
     ],
     "language": "python",
     "metadata": {},
     "outputs": [
      {
       "metadata": {},
       "output_type": "pyout",
       "prompt_number": 54,
       "text": [
        ":to_nfa_design"
       ]
      }
     ],
     "prompt_number": 54
    },
    {
     "cell_type": "markdown",
     "metadata": {},
     "source": [
      "\u671f\u5f85\u901a\u308a\u306e\u6587\u5b57\u5217\u3092\u53d7\u7406\u3059\u308b\u3053\u3068\u3092\u78ba\u8a8d\u3059\u308b\u3002"
     ]
    },
    {
     "cell_type": "code",
     "collapsed": false,
     "input": [
      "nfa_design = Empty.new.to_nfa_design "
     ],
     "language": "python",
     "metadata": {},
     "outputs": [
      {
       "metadata": {},
       "output_type": "pyout",
       "prompt_number": 55,
       "text": [
        "#<struct NFADesign start_state=#<Object:0x007faa8989b378>, accept_states=[#<Object:0x007faa8989b378>], rulebook=#<struct NFARulebook rules=[]>>"
       ]
      }
     ],
     "prompt_number": 55
    },
    {
     "cell_type": "code",
     "collapsed": false,
     "input": [
      "nfa_design.accepts?('')"
     ],
     "language": "python",
     "metadata": {},
     "outputs": [
      {
       "metadata": {},
       "output_type": "pyout",
       "prompt_number": 56,
       "text": [
        "true"
       ]
      }
     ],
     "prompt_number": 56
    },
    {
     "cell_type": "code",
     "collapsed": false,
     "input": [
      "nfa_design.accepts?('a')"
     ],
     "language": "python",
     "metadata": {},
     "outputs": [
      {
       "metadata": {},
       "output_type": "pyout",
       "prompt_number": 57,
       "text": [
        "false"
       ]
      }
     ],
     "prompt_number": 57
    },
    {
     "cell_type": "code",
     "collapsed": false,
     "input": [
      "nfa_design = Literal.new('a').to_nfa_design"
     ],
     "language": "python",
     "metadata": {},
     "outputs": [
      {
       "metadata": {},
       "output_type": "pyout",
       "prompt_number": 58,
       "text": [
        "#<struct NFADesign start_state=#<Object:0x007faa89111b20>, accept_states=[#<Object:0x007faa89111af8>], rulebook=#<struct NFARulebook rules=[#<FARule #<Object:0x007faa89111b20> --a--> #<Object:0x007faa89111af8>>]>>"
       ]
      }
     ],
     "prompt_number": 58
    },
    {
     "cell_type": "code",
     "collapsed": false,
     "input": [
      "nfa_design.accepts?('')"
     ],
     "language": "python",
     "metadata": {},
     "outputs": [
      {
       "metadata": {},
       "output_type": "pyout",
       "prompt_number": 59,
       "text": [
        "false"
       ]
      }
     ],
     "prompt_number": 59
    },
    {
     "cell_type": "code",
     "collapsed": false,
     "input": [
      "nfa_design.accepts?('a')"
     ],
     "language": "python",
     "metadata": {},
     "outputs": [
      {
       "metadata": {},
       "output_type": "pyout",
       "prompt_number": 60,
       "text": [
        "true"
       ]
      }
     ],
     "prompt_number": 60
    },
    {
     "cell_type": "code",
     "collapsed": false,
     "input": [
      "nfa_design.accepts?('b')"
     ],
     "language": "python",
     "metadata": {},
     "outputs": [
      {
       "metadata": {},
       "output_type": "pyout",
       "prompt_number": 61,
       "text": [
        "false"
       ]
      }
     ],
     "prompt_number": 61
    },
    {
     "cell_type": "markdown",
     "metadata": {},
     "source": [
      "`#to_nfa_design` \u3092 `#matches?` \u30e1\u30bd\u30c3\u30c9\u306b\u304f\u308b\u3093\u3067\u3001\u30a4\u30f3\u30bf\u30fc\u30d5\u30a7\u30a4\u30b9\u3092\u6539\u5584\u3059\u308b\u3002"
     ]
    },
    {
     "cell_type": "code",
     "collapsed": false,
     "input": [
      "module Pattern\n",
      "  def matches?(string)\n",
      "    to_nfa_design.accepts?(string)\n",
      "  end\n",
      "end"
     ],
     "language": "python",
     "metadata": {},
     "outputs": [
      {
       "metadata": {},
       "output_type": "pyout",
       "prompt_number": 62,
       "text": [
        ":matches?"
       ]
      }
     ],
     "prompt_number": 62
    },
    {
     "cell_type": "code",
     "collapsed": false,
     "input": [
      "Empty.new.matches?('a')"
     ],
     "language": "python",
     "metadata": {},
     "outputs": [
      {
       "metadata": {},
       "output_type": "pyout",
       "prompt_number": 63,
       "text": [
        "false"
       ]
      }
     ],
     "prompt_number": 63
    },
    {
     "cell_type": "code",
     "collapsed": false,
     "input": [
      "Literal.new('a').matches?('a')"
     ],
     "language": "python",
     "metadata": {},
     "outputs": [
      {
       "metadata": {},
       "output_type": "pyout",
       "prompt_number": 64,
       "text": [
        "true"
       ]
      }
     ],
     "prompt_number": 64
    },
    {
     "cell_type": "markdown",
     "metadata": {},
     "source": [
      "`Concatenate#to_nfa_design` \u306e\u5b9f\u88c5\u306f\u4e0b\u8a18\u306e\u3088\u3046\u306b\u306a\u308b\u3002"
     ]
    },
    {
     "cell_type": "code",
     "collapsed": false,
     "input": [
      "class Concatenate\n",
      "  def to_nfa_design\n",
      "    first_nfa_design = first.to_nfa_design\n",
      "    second_nfa_design = second.to_nfa_design\n",
      "    \n",
      "    start_state = first_nfa_design.start_state\n",
      "    accept_states = second_nfa_design.accept_states\n",
      "    rules = first_nfa_design.rulebook.rules + second_nfa_design.rulebook.rules\n",
      "    extra_rules = first_nfa_design.accept_states.map { |state|\n",
      "      FARule.new(state, nil, second_nfa_design.start_state)\n",
      "    }\n",
      "    rulebook = NFARulebook.new(rules + extra_rules)\n",
      "    \n",
      "    NFADesign.new(start_state, accept_states, rulebook)\n",
      "  end\n",
      "end"
     ],
     "language": "python",
     "metadata": {},
     "outputs": [
      {
       "metadata": {},
       "output_type": "pyout",
       "prompt_number": 65,
       "text": [
        ":to_nfa_design"
       ]
      }
     ],
     "prompt_number": 65
    },
    {
     "cell_type": "code",
     "collapsed": false,
     "input": [
      "pattern = Concatenate.new(Literal.new('a'), Literal.new('b'))"
     ],
     "language": "python",
     "metadata": {},
     "outputs": [
      {
       "metadata": {},
       "output_type": "pyout",
       "prompt_number": 66,
       "text": [
        "/ab/"
       ]
      }
     ],
     "prompt_number": 66
    },
    {
     "cell_type": "code",
     "collapsed": false,
     "input": [
      "pattern.matches?('a')"
     ],
     "language": "python",
     "metadata": {},
     "outputs": [
      {
       "metadata": {},
       "output_type": "pyout",
       "prompt_number": 67,
       "text": [
        "false"
       ]
      }
     ],
     "prompt_number": 67
    },
    {
     "cell_type": "code",
     "collapsed": false,
     "input": [
      "pattern.matches?('ab')"
     ],
     "language": "python",
     "metadata": {},
     "outputs": [
      {
       "metadata": {},
       "output_type": "pyout",
       "prompt_number": 68,
       "text": [
        "true"
       ]
      }
     ],
     "prompt_number": 68
    },
    {
     "cell_type": "code",
     "collapsed": false,
     "input": [
      "pattern.matches?('abc')"
     ],
     "language": "python",
     "metadata": {},
     "outputs": [
      {
       "metadata": {},
       "output_type": "pyout",
       "prompt_number": 69,
       "text": [
        "false"
       ]
      }
     ],
     "prompt_number": 69
    },
    {
     "cell_type": "code",
     "collapsed": false,
     "input": [
      "pattern =\n",
      "  Concatenate.new(\n",
      "    Literal.new('a'),\n",
      "    Concatenate.new(Literal.new('b'), Literal.new('c'))\n",
      "  )"
     ],
     "language": "python",
     "metadata": {},
     "outputs": [
      {
       "metadata": {},
       "output_type": "pyout",
       "prompt_number": 70,
       "text": [
        "/abc/"
       ]
      }
     ],
     "prompt_number": 70
    },
    {
     "cell_type": "code",
     "collapsed": false,
     "input": [
      "pattern.matches?('a')"
     ],
     "language": "python",
     "metadata": {},
     "outputs": [
      {
       "metadata": {},
       "output_type": "pyout",
       "prompt_number": 71,
       "text": [
        "false"
       ]
      }
     ],
     "prompt_number": 71
    },
    {
     "cell_type": "code",
     "collapsed": false,
     "input": [
      "pattern.matches?('ab')"
     ],
     "language": "python",
     "metadata": {},
     "outputs": [
      {
       "metadata": {},
       "output_type": "pyout",
       "prompt_number": 72,
       "text": [
        "false"
       ]
      }
     ],
     "prompt_number": 72
    },
    {
     "cell_type": "code",
     "collapsed": false,
     "input": [
      "pattern.matches?('abc')"
     ],
     "language": "python",
     "metadata": {},
     "outputs": [
      {
       "metadata": {},
       "output_type": "pyout",
       "prompt_number": 73,
       "text": [
        "true"
       ]
      }
     ],
     "prompt_number": 73
    },
    {
     "cell_type": "markdown",
     "metadata": {},
     "source": [
      "`Choose#to_nfa_design` \u306e\u5b9f\u88c5\u306f\u4e0b\u8a18\u306e\u3088\u3046\u306b\u306a\u308b\u3002"
     ]
    },
    {
     "cell_type": "code",
     "collapsed": false,
     "input": [
      "class Choose\n",
      "  def to_nfa_design\n",
      "    first_nfa_design = first.to_nfa_design\n",
      "    second_nfa_design = second.to_nfa_design\n",
      "    \n",
      "    start_state = Object.new\n",
      "    accept_states = first_nfa_design.accept_states + second_nfa_design.accept_states\n",
      "    rules = first_nfa_design.rulebook.rules + second_nfa_design.rulebook.rules\n",
      "    extra_rules = [first_nfa_design, second_nfa_design].map { |nfa_design|\n",
      "      FARule.new(start_state, nil, nfa_design.start_state)\n",
      "    }\n",
      "    rulebook = NFARulebook.new(rules + extra_rules)\n",
      "    \n",
      "    NFADesign.new(start_state, accept_states, rulebook)\n",
      "  end\n",
      "end"
     ],
     "language": "python",
     "metadata": {},
     "outputs": [
      {
       "metadata": {},
       "output_type": "pyout",
       "prompt_number": 74,
       "text": [
        ":to_nfa_design"
       ]
      }
     ],
     "prompt_number": 74
    },
    {
     "cell_type": "code",
     "collapsed": false,
     "input": [
      "pattern = Choose.new(Literal.new('a'), Literal.new('b'))"
     ],
     "language": "python",
     "metadata": {},
     "outputs": [
      {
       "metadata": {},
       "output_type": "pyout",
       "prompt_number": 75,
       "text": [
        "/a|b/"
       ]
      }
     ],
     "prompt_number": 75
    },
    {
     "cell_type": "code",
     "collapsed": false,
     "input": [
      "pattern.matches?('a')"
     ],
     "language": "python",
     "metadata": {},
     "outputs": [
      {
       "metadata": {},
       "output_type": "pyout",
       "prompt_number": 76,
       "text": [
        "true"
       ]
      }
     ],
     "prompt_number": 76
    },
    {
     "cell_type": "code",
     "collapsed": false,
     "input": [
      "pattern.matches?('b')"
     ],
     "language": "python",
     "metadata": {},
     "outputs": [
      {
       "metadata": {},
       "output_type": "pyout",
       "prompt_number": 77,
       "text": [
        "true"
       ]
      }
     ],
     "prompt_number": 77
    },
    {
     "cell_type": "code",
     "collapsed": false,
     "input": [
      "pattern.matches?('c')"
     ],
     "language": "python",
     "metadata": {},
     "outputs": [
      {
       "metadata": {},
       "output_type": "pyout",
       "prompt_number": 78,
       "text": [
        "false"
       ]
      }
     ],
     "prompt_number": 78
    },
    {
     "cell_type": "markdown",
     "metadata": {},
     "source": [
      "`Repeat#to_nfa_design` \u306e\u5b9f\u88c5\u306f\u4e0b\u8a18\u306e\u3088\u3046\u306b\u306a\u308b\u3002"
     ]
    },
    {
     "cell_type": "code",
     "collapsed": false,
     "input": [
      "class Repeat\n",
      "  def to_nfa_design\n",
      "    pattern_nfa_design = pattern.to_nfa_design\n",
      "    \n",
      "    start_state = Object.new\n",
      "    accept_states = pattern_nfa_design.accept_states + [start_state]\n",
      "    rules = pattern_nfa_design.rulebook.rules\n",
      "    extra_rules =\n",
      "      pattern_nfa_design.accept_states.map { |accept_state|\n",
      "        FARule.new(accept_state, nil, pattern_nfa_design.start_state)\n",
      "      } +\n",
      "      [FARule.new(start_state, nil, pattern_nfa_design.start_state)]\n",
      "    rulebook = NFARulebook.new(rules + extra_rules)\n",
      "    \n",
      "    NFADesign.new(start_state, accept_states, rulebook)\n",
      "  end\n",
      "end"
     ],
     "language": "python",
     "metadata": {},
     "outputs": [
      {
       "metadata": {},
       "output_type": "pyout",
       "prompt_number": 79,
       "text": [
        ":to_nfa_design"
       ]
      }
     ],
     "prompt_number": 79
    },
    {
     "cell_type": "code",
     "collapsed": false,
     "input": [
      "pattern = Repeat.new(Literal.new('a'))"
     ],
     "language": "python",
     "metadata": {},
     "outputs": [
      {
       "metadata": {},
       "output_type": "pyout",
       "prompt_number": 80,
       "text": [
        "/a*/"
       ]
      }
     ],
     "prompt_number": 80
    },
    {
     "cell_type": "code",
     "collapsed": false,
     "input": [
      "pattern.matches?('')"
     ],
     "language": "python",
     "metadata": {},
     "outputs": [
      {
       "metadata": {},
       "output_type": "pyout",
       "prompt_number": 81,
       "text": [
        "true"
       ]
      }
     ],
     "prompt_number": 81
    },
    {
     "cell_type": "code",
     "collapsed": false,
     "input": [
      "pattern.matches?('a')"
     ],
     "language": "python",
     "metadata": {},
     "outputs": [
      {
       "metadata": {},
       "output_type": "pyout",
       "prompt_number": 82,
       "text": [
        "true"
       ]
      }
     ],
     "prompt_number": 82
    },
    {
     "cell_type": "code",
     "collapsed": false,
     "input": [
      "pattern.matches?('aaaa')"
     ],
     "language": "python",
     "metadata": {},
     "outputs": [
      {
       "metadata": {},
       "output_type": "pyout",
       "prompt_number": 83,
       "text": [
        "true"
       ]
      }
     ],
     "prompt_number": 83
    },
    {
     "cell_type": "code",
     "collapsed": false,
     "input": [
      "pattern.matches?('b')"
     ],
     "language": "python",
     "metadata": {},
     "outputs": [
      {
       "metadata": {},
       "output_type": "pyout",
       "prompt_number": 84,
       "text": [
        "false"
       ]
      }
     ],
     "prompt_number": 84
    },
    {
     "cell_type": "markdown",
     "metadata": {},
     "source": [
      "\u305d\u308c\u305e\u308c\u306e\u69cb\u6587\u30af\u30e9\u30b9\u306e `to_nfa_design` \u5b9f\u88c5\u304c\u3067\u304d\u305f\u306e\u3067\u3001\u8907\u96d1\u306a\u30d1\u30bf\u30fc\u30f3\u3092\u4f5c\u3063\u3066\u6587\u5b57\u5217\u3092\u30de\u30c3\u30c1\u3055\u305b\u308b\u3053\u3068\u304c\u3067\u304d\u308b\u3002"
     ]
    },
    {
     "cell_type": "code",
     "collapsed": false,
     "input": [
      "pattern = \n",
      "  Repeat.new(\n",
      "    Concatenate.new(\n",
      "      Literal.new('a'),\n",
      "      Choose.new(Empty.new, Literal.new('b'))\n",
      "    )\n",
      "  )"
     ],
     "language": "python",
     "metadata": {},
     "outputs": [
      {
       "metadata": {},
       "output_type": "pyout",
       "prompt_number": 85,
       "text": [
        "/(a(|b))*/"
       ]
      }
     ],
     "prompt_number": 85
    },
    {
     "cell_type": "code",
     "collapsed": false,
     "input": [
      "pattern.matches?('')"
     ],
     "language": "python",
     "metadata": {},
     "outputs": [
      {
       "metadata": {},
       "output_type": "pyout",
       "prompt_number": 86,
       "text": [
        "true"
       ]
      }
     ],
     "prompt_number": 86
    },
    {
     "cell_type": "code",
     "collapsed": false,
     "input": [
      "pattern.matches?('a')"
     ],
     "language": "python",
     "metadata": {},
     "outputs": [
      {
       "metadata": {},
       "output_type": "pyout",
       "prompt_number": 87,
       "text": [
        "true"
       ]
      }
     ],
     "prompt_number": 87
    },
    {
     "cell_type": "code",
     "collapsed": false,
     "input": [
      "pattern.matches?('ab')"
     ],
     "language": "python",
     "metadata": {},
     "outputs": [
      {
       "metadata": {},
       "output_type": "pyout",
       "prompt_number": 88,
       "text": [
        "true"
       ]
      }
     ],
     "prompt_number": 88
    },
    {
     "cell_type": "code",
     "collapsed": false,
     "input": [
      "pattern.matches?('aba')"
     ],
     "language": "python",
     "metadata": {},
     "outputs": [
      {
       "metadata": {},
       "output_type": "pyout",
       "prompt_number": 89,
       "text": [
        "true"
       ]
      }
     ],
     "prompt_number": 89
    },
    {
     "cell_type": "code",
     "collapsed": false,
     "input": [
      "pattern.matches?('abab')"
     ],
     "language": "python",
     "metadata": {},
     "outputs": [
      {
       "metadata": {},
       "output_type": "pyout",
       "prompt_number": 90,
       "text": [
        "true"
       ]
      }
     ],
     "prompt_number": 90
    },
    {
     "cell_type": "code",
     "collapsed": false,
     "input": [
      "pattern.matches?('abaab')"
     ],
     "language": "python",
     "metadata": {},
     "outputs": [
      {
       "metadata": {},
       "output_type": "pyout",
       "prompt_number": 91,
       "text": [
        "true"
       ]
      }
     ],
     "prompt_number": 91
    },
    {
     "cell_type": "code",
     "collapsed": false,
     "input": [
      "pattern.matches?('abba')"
     ],
     "language": "python",
     "metadata": {},
     "outputs": [
      {
       "metadata": {},
       "output_type": "pyout",
       "prompt_number": 92,
       "text": [
        "false"
       ]
      }
     ],
     "prompt_number": 92
    },
    {
     "cell_type": "heading",
     "level": 3,
     "metadata": {},
     "source": [
      "3.3.3 \u30d1\u30fc\u30b9"
     ]
    },
    {
     "cell_type": "code",
     "collapsed": false,
     "input": [
      "require 'treetop'"
     ],
     "language": "python",
     "metadata": {},
     "outputs": [
      {
       "metadata": {},
       "output_type": "pyout",
       "prompt_number": 93,
       "text": [
        "true"
       ]
      }
     ],
     "prompt_number": 93
    },
    {
     "cell_type": "code",
     "collapsed": false,
     "input": [
      "Treetop.load('pattern')"
     ],
     "language": "python",
     "metadata": {},
     "outputs": [
      {
       "metadata": {},
       "output_type": "pyout",
       "prompt_number": 94,
       "text": [
        "PatternParser"
       ]
      }
     ],
     "prompt_number": 94
    },
    {
     "cell_type": "code",
     "collapsed": false,
     "input": [
      "parse_tree = PatternParser.new.parse('(a(|b))*')"
     ],
     "language": "python",
     "metadata": {},
     "outputs": [
      {
       "metadata": {},
       "output_type": "pyout",
       "prompt_number": 95,
       "text": [
        "SyntaxNode+Repeat1+Repeat0 offset=0, \"(a(|b))*\" (to_ast,brackets):\n",
        "  SyntaxNode+Brackets1+Brackets0 offset=0, \"(a(|b))\" (to_ast,choose):\n",
        "    SyntaxNode offset=0, \"(\"\n",
        "    SyntaxNode+Concatenate1+Concatenate0 offset=1, \"a(|b)\" (to_ast,first,rest):\n",
        "      SyntaxNode+Literal0 offset=1, \"a\" (to_ast)\n",
        "      SyntaxNode+Brackets1+Brackets0 offset=2, \"(|b)\" (to_ast,choose):\n",
        "        SyntaxNode offset=2, \"(\"\n",
        "        SyntaxNode+Choose1+Choose0 offset=3, \"|b\" (to_ast,first,rest):\n",
        "          SyntaxNode+Empty0 offset=3, \"\" (to_ast)\n",
        "          SyntaxNode offset=3, \"|\"\n",
        "          SyntaxNode+Literal0 offset=4, \"b\" (to_ast)\n",
        "        SyntaxNode offset=5, \")\"\n",
        "    SyntaxNode offset=6, \")\"\n",
        "  SyntaxNode offset=7, \"*\""
       ]
      }
     ],
     "prompt_number": 95
    },
    {
     "cell_type": "code",
     "collapsed": false,
     "input": [
      "pattern = parse_tree.to_ast"
     ],
     "language": "python",
     "metadata": {},
     "outputs": [
      {
       "metadata": {},
       "output_type": "pyout",
       "prompt_number": 96,
       "text": [
        "/(a(|b))*/"
       ]
      }
     ],
     "prompt_number": 96
    },
    {
     "cell_type": "code",
     "collapsed": false,
     "input": [
      "pattern.matches?('abaab')"
     ],
     "language": "python",
     "metadata": {},
     "outputs": [
      {
       "metadata": {},
       "output_type": "pyout",
       "prompt_number": 97,
       "text": [
        "true"
       ]
      }
     ],
     "prompt_number": 97
    },
    {
     "cell_type": "code",
     "collapsed": false,
     "input": [
      "pattern.matches?('abba')"
     ],
     "language": "python",
     "metadata": {},
     "outputs": [
      {
       "metadata": {},
       "output_type": "pyout",
       "prompt_number": 98,
       "text": [
        "false"
       ]
      }
     ],
     "prompt_number": 98
    },
    {
     "cell_type": "heading",
     "level": 2,
     "metadata": {},
     "source": [
      "3.4 \u7b49\u4fa1\u6027"
     ]
    },
    {
     "cell_type": "markdown",
     "metadata": {},
     "source": [
      "`NFADesign#to_nfa` \u306b `current_states` \u3068\u3044\u3046\u5f15\u6570\u3092\u30aa\u30d7\u30b7\u30e7\u30f3\u3068\u3057\u3066\u8ffd\u52a0\u3059\u308b\u3002"
     ]
    },
    {
     "cell_type": "code",
     "collapsed": false,
     "input": [
      "class NFADesign\n",
      "  def to_nfa(current_states = Set[start_state])\n",
      "    NFA.new(current_states, accept_states, rulebook)\n",
      "  end\n",
      "end"
     ],
     "language": "python",
     "metadata": {},
     "outputs": [
      {
       "metadata": {},
       "output_type": "pyout",
       "prompt_number": 99,
       "text": [
        ":to_nfa"
       ]
      }
     ],
     "prompt_number": 99
    },
    {
     "cell_type": "markdown",
     "metadata": {},
     "source": [
      "\u3053\u306e\u65b0\u3057\u3044\u5f15\u6570\u3092\u4f7f\u3046\u3053\u3068\u3067\u3001\u4efb\u610f\u306e\u72b6\u614b\u306b\u30b8\u30e3\u30f3\u30d7\u3057\u3066\u305d\u3053\u304b\u3089\u59cb\u3081\u308b\u3053\u3068\u304c\u3067\u304d\u308b\u3002"
     ]
    },
    {
     "cell_type": "code",
     "collapsed": false,
     "input": [
      "rulebook = NFARulebook.new([\n",
      "  FARule.new(1, 'a', 1), FARule.new(1, 'a', 2), FARule.new(1, nil, 2),\n",
      "  FARule.new(2, 'b', 3),\n",
      "  FARule.new(3, 'b', 1), FARule.new(3, nil, 2)\n",
      "])"
     ],
     "language": "python",
     "metadata": {},
     "outputs": [
      {
       "metadata": {},
       "output_type": "pyout",
       "prompt_number": 100,
       "text": [
        "#<struct NFARulebook rules=[#<FARule 1 --a--> 1>, #<FARule 1 --a--> 2>, #<FARule 1 ----> 2>, #<FARule 2 --b--> 3>, #<FARule 3 --b--> 1>, #<FARule 3 ----> 2>]>"
       ]
      }
     ],
     "prompt_number": 100
    },
    {
     "cell_type": "code",
     "collapsed": false,
     "input": [
      "nfa_design = NFADesign.new(1, [3], rulebook)"
     ],
     "language": "python",
     "metadata": {},
     "outputs": [
      {
       "metadata": {},
       "output_type": "pyout",
       "prompt_number": 101,
       "text": [
        "#<struct NFADesign start_state=1, accept_states=[3], rulebook=#<struct NFARulebook rules=[#<FARule 1 --a--> 1>, #<FARule 1 --a--> 2>, #<FARule 1 ----> 2>, #<FARule 2 --b--> 3>, #<FARule 3 --b--> 1>, #<FARule 3 ----> 2>]>>"
       ]
      }
     ],
     "prompt_number": 101
    },
    {
     "cell_type": "code",
     "collapsed": false,
     "input": [
      "nfa_design.to_nfa.current_states"
     ],
     "language": "python",
     "metadata": {},
     "outputs": [
      {
       "metadata": {},
       "output_type": "pyout",
       "prompt_number": 102,
       "text": [
        "#<Set: {1, 2}>"
       ]
      }
     ],
     "prompt_number": 102
    },
    {
     "cell_type": "code",
     "collapsed": false,
     "input": [
      "nfa_design.to_nfa(Set[2]).current_states"
     ],
     "language": "python",
     "metadata": {},
     "outputs": [
      {
       "metadata": {},
       "output_type": "pyout",
       "prompt_number": 103,
       "text": [
        "#<Set: {2}>"
       ]
      }
     ],
     "prompt_number": 103
    },
    {
     "cell_type": "code",
     "collapsed": false,
     "input": [
      "nfa_design.to_nfa(Set[3]).current_states"
     ],
     "language": "python",
     "metadata": {},
     "outputs": [
      {
       "metadata": {},
       "output_type": "pyout",
       "prompt_number": 104,
       "text": [
        "#<Set: {3, 2}>"
       ]
      }
     ],
     "prompt_number": 104
    },
    {
     "cell_type": "code",
     "collapsed": false,
     "input": [
      "nfa = nfa_design.to_nfa(Set[2, 3])"
     ],
     "language": "python",
     "metadata": {},
     "outputs": [
      {
       "metadata": {},
       "output_type": "pyout",
       "prompt_number": 105,
       "text": [
        "#<struct NFA current_states=#<Set: {2, 3}>, accept_states=[3], rulebook=#<struct NFARulebook rules=[#<FARule 1 --a--> 1>, #<FARule 1 --a--> 2>, #<FARule 1 ----> 2>, #<FARule 2 --b--> 3>, #<FARule 3 --b--> 1>, #<FARule 3 ----> 2>]>>"
       ]
      }
     ],
     "prompt_number": 105
    },
    {
     "cell_type": "code",
     "collapsed": false,
     "input": [
      "nfa.read_character('b'); nfa.current_states"
     ],
     "language": "python",
     "metadata": {},
     "outputs": [
      {
       "metadata": {},
       "output_type": "pyout",
       "prompt_number": 106,
       "text": [
        "#<Set: {3, 1, 2}>"
       ]
      }
     ],
     "prompt_number": 106
    },
    {
     "cell_type": "markdown",
     "metadata": {},
     "source": [
      "`NFASimulation` \u30af\u30e9\u30b9\u3092\u5b9f\u88c5\u3059\u308b\u3002"
     ]
    },
    {
     "cell_type": "code",
     "collapsed": false,
     "input": [
      "class NFASimulation < Struct.new(:nfa_design)\n",
      "  def next_state(state, character)\n",
      "    nfa_design.to_nfa(state).tap { |nfa|\n",
      "      nfa.read_character(character)\n",
      "    }.current_states\n",
      "  end\n",
      "end"
     ],
     "language": "python",
     "metadata": {},
     "outputs": [
      {
       "metadata": {},
       "output_type": "pyout",
       "prompt_number": 107,
       "text": [
        ":next_state"
       ]
      }
     ],
     "prompt_number": 107
    },
    {
     "cell_type": "code",
     "collapsed": false,
     "input": [
      "simulation = NFASimulation.new(nfa_design)"
     ],
     "language": "python",
     "metadata": {},
     "outputs": [
      {
       "metadata": {},
       "output_type": "pyout",
       "prompt_number": 108,
       "text": [
        "#<struct NFASimulation nfa_design=#<struct NFADesign start_state=1, accept_states=[3], rulebook=#<struct NFARulebook rules=[#<FARule 1 --a--> 1>, #<FARule 1 --a--> 2>, #<FARule 1 ----> 2>, #<FARule 2 --b--> 3>, #<FARule 3 --b--> 1>, #<FARule 3 ----> 2>]>>>"
       ]
      }
     ],
     "prompt_number": 108
    },
    {
     "cell_type": "code",
     "collapsed": false,
     "input": [
      "simulation.next_state(Set[1, 2], 'a')"
     ],
     "language": "python",
     "metadata": {},
     "outputs": [
      {
       "metadata": {},
       "output_type": "pyout",
       "prompt_number": 109,
       "text": [
        "#<Set: {1, 2}>"
       ]
      }
     ],
     "prompt_number": 109
    },
    {
     "cell_type": "code",
     "collapsed": false,
     "input": [
      "simulation.next_state(Set[1, 2], 'b')"
     ],
     "language": "python",
     "metadata": {},
     "outputs": [
      {
       "metadata": {},
       "output_type": "pyout",
       "prompt_number": 110,
       "text": [
        "#<Set: {3, 2}>"
       ]
      }
     ],
     "prompt_number": 110
    },
    {
     "cell_type": "code",
     "collapsed": false,
     "input": [
      "simulation.next_state(Set[3, 2], 'b')"
     ],
     "language": "python",
     "metadata": {},
     "outputs": [
      {
       "metadata": {},
       "output_type": "pyout",
       "prompt_number": 111,
       "text": [
        "#<Set: {1, 3, 2}>"
       ]
      }
     ],
     "prompt_number": 111
    },
    {
     "cell_type": "code",
     "collapsed": false,
     "input": [
      "simulation.next_state(Set[1, 3, 2], 'b')"
     ],
     "language": "python",
     "metadata": {},
     "outputs": [
      {
       "metadata": {},
       "output_type": "pyout",
       "prompt_number": 112,
       "text": [
        "#<Set: {1, 3, 2}>"
       ]
      }
     ],
     "prompt_number": 112
    },
    {
     "cell_type": "code",
     "collapsed": false,
     "input": [
      "simulation.next_state(Set[1, 3, 2], 'a')"
     ],
     "language": "python",
     "metadata": {},
     "outputs": [
      {
       "metadata": {},
       "output_type": "pyout",
       "prompt_number": 113,
       "text": [
        "#<Set: {1, 2}>"
       ]
      }
     ],
     "prompt_number": 113
    },
    {
     "cell_type": "code",
     "collapsed": false,
     "input": [
      "class NFARulebook\n",
      "  def alphabet\n",
      "    rules.map(&:character).compact.uniq\n",
      "  end\n",
      "end\n",
      "\n",
      "class NFASimulation\n",
      "  def rules_for(state)\n",
      "    nfa_design.rulebook.alphabet.map { |character|\n",
      "      FARule.new(state, character, next_state(state, character))\n",
      "    }\n",
      "  end\n",
      "end"
     ],
     "language": "python",
     "metadata": {},
     "outputs": [
      {
       "metadata": {},
       "output_type": "pyout",
       "prompt_number": 114,
       "text": [
        ":rules_for"
       ]
      }
     ],
     "prompt_number": 114
    },
    {
     "cell_type": "code",
     "collapsed": false,
     "input": [
      "rulebook.alphabet"
     ],
     "language": "python",
     "metadata": {},
     "outputs": [
      {
       "metadata": {},
       "output_type": "pyout",
       "prompt_number": 115,
       "text": [
        "[\"a\", \"b\"]"
       ]
      }
     ],
     "prompt_number": 115
    },
    {
     "cell_type": "code",
     "collapsed": false,
     "input": [
      "simulation.rules_for(Set[1, 2])"
     ],
     "language": "python",
     "metadata": {},
     "outputs": [
      {
       "metadata": {},
       "output_type": "pyout",
       "prompt_number": 116,
       "text": [
        "[#<FARule #<Set: {1, 2}> --a--> #<Set: {1, 2}>>, #<FARule #<Set: {1, 2}> --b--> #<Set: {3, 2}>>]"
       ]
      }
     ],
     "prompt_number": 116
    },
    {
     "cell_type": "code",
     "collapsed": false,
     "input": [
      "simulation.rules_for(Set[3, 2])"
     ],
     "language": "python",
     "metadata": {},
     "outputs": [
      {
       "metadata": {},
       "output_type": "pyout",
       "prompt_number": 117,
       "text": [
        "[#<FARule #<Set: {3, 2}> --a--> #<Set: {}>>, #<FARule #<Set: {3, 2}> --b--> #<Set: {1, 3, 2}>>]"
       ]
      }
     ],
     "prompt_number": 117
    },
    {
     "cell_type": "code",
     "collapsed": false,
     "input": [
      "class NFASimulation\n",
      "  def discover_states_and_rules(states)\n",
      "    rules = states.flat_map { |state| rules_for(state) }\n",
      "    more_states = rules.map(&:follow).to_set\n",
      "    \n",
      "    if more_states.subset?(states)\n",
      "      [states, rules]\n",
      "    else\n",
      "      discover_states_and_rules(states + more_states)\n",
      "    end\n",
      "  end\n",
      "end"
     ],
     "language": "python",
     "metadata": {},
     "outputs": [
      {
       "metadata": {},
       "output_type": "pyout",
       "prompt_number": 118,
       "text": [
        ":discover_states_and_rules"
       ]
      }
     ],
     "prompt_number": 118
    },
    {
     "cell_type": "code",
     "collapsed": false,
     "input": [
      "start_state = nfa_design.to_nfa.current_states"
     ],
     "language": "python",
     "metadata": {},
     "outputs": [
      {
       "metadata": {},
       "output_type": "pyout",
       "prompt_number": 119,
       "text": [
        "#<Set: {1, 2}>"
       ]
      }
     ],
     "prompt_number": 119
    },
    {
     "cell_type": "code",
     "collapsed": false,
     "input": [
      "simulation.discover_states_and_rules(Set[start_state])"
     ],
     "language": "python",
     "metadata": {},
     "outputs": [
      {
       "metadata": {},
       "output_type": "pyout",
       "prompt_number": 120,
       "text": [
        "[#<Set: {#<Set: {1, 2}>, #<Set: {3, 2}>, #<Set: {}>, #<Set: {1, 3, 2}>}>, [#<FARule #<Set: {1, 2}> --a--> #<Set: {1, 2}>>, #<FARule #<Set: {1, 2}> --b--> #<Set: {3, 2}>>, #<FARule #<Set: {3, 2}> --a--> #<Set: {}>>, #<FARule #<Set: {3, 2}> --b--> #<Set: {1, 3, 2}>>, #<FARule #<Set: {}> --a--> #<Set: {}>>, #<FARule #<Set: {}> --b--> #<Set: {}>>, #<FARule #<Set: {1, 3, 2}> --a--> #<Set: {1, 2}>>, #<FARule #<Set: {1, 3, 2}> --b--> #<Set: {1, 3, 2}>>]]"
       ]
      }
     ],
     "prompt_number": 120
    },
    {
     "cell_type": "code",
     "collapsed": false,
     "input": [
      "nfa_design.to_nfa(Set[1, 2]).accepting?"
     ],
     "language": "python",
     "metadata": {},
     "outputs": [
      {
       "metadata": {},
       "output_type": "pyout",
       "prompt_number": 121,
       "text": [
        "false"
       ]
      }
     ],
     "prompt_number": 121
    },
    {
     "cell_type": "code",
     "collapsed": false,
     "input": [
      "nfa_design.to_nfa(Set[2, 3]).accepting?"
     ],
     "language": "python",
     "metadata": {},
     "outputs": [
      {
       "metadata": {},
       "output_type": "pyout",
       "prompt_number": 122,
       "text": [
        "true"
       ]
      }
     ],
     "prompt_number": 122
    },
    {
     "cell_type": "code",
     "collapsed": false,
     "input": [
      "class NFASimulation\n",
      "  def to_dfa_design\n",
      "    start_state = nfa_design.to_nfa.current_states\n",
      "    states, rules = discover_states_and_rules(Set[start_state])\n",
      "    accept_states = states.select { |state| nfa_design.to_nfa(state).accepting? }\n",
      "    \n",
      "    DFADesign.new(start_state, accept_states, DFARulebook.new(rules))\n",
      "  end\n",
      "end"
     ],
     "language": "python",
     "metadata": {},
     "outputs": [
      {
       "metadata": {},
       "output_type": "pyout",
       "prompt_number": 123,
       "text": [
        ":to_dfa_design"
       ]
      }
     ],
     "prompt_number": 123
    },
    {
     "cell_type": "code",
     "collapsed": false,
     "input": [
      "dfa_design = simulation.to_dfa_design"
     ],
     "language": "python",
     "metadata": {},
     "outputs": [
      {
       "metadata": {},
       "output_type": "pyout",
       "prompt_number": 124,
       "text": [
        "#<struct DFADesign start_state=#<Set: {1, 2}>, accept_states=[#<Set: {3, 2}>, #<Set: {1, 3, 2}>], rulebook=#<struct DFARulebook rules=[#<FARule #<Set: {1, 2}> --a--> #<Set: {1, 2}>>, #<FARule #<Set: {1, 2}> --b--> #<Set: {3, 2}>>, #<FARule #<Set: {3, 2}> --a--> #<Set: {}>>, #<FARule #<Set: {3, 2}> --b--> #<Set: {1, 3, 2}>>, #<FARule #<Set: {}> --a--> #<Set: {}>>, #<FARule #<Set: {}> --b--> #<Set: {}>>, #<FARule #<Set: {1, 3, 2}> --a--> #<Set: {1, 2}>>, #<FARule #<Set: {1, 3, 2}> --b--> #<Set: {1, 3, 2}>>]>>"
       ]
      }
     ],
     "prompt_number": 124
    },
    {
     "cell_type": "code",
     "collapsed": false,
     "input": [
      "dfa_design.accepts?('aaa')"
     ],
     "language": "python",
     "metadata": {},
     "outputs": [
      {
       "metadata": {},
       "output_type": "pyout",
       "prompt_number": 126,
       "text": [
        "false"
       ]
      }
     ],
     "prompt_number": 126
    },
    {
     "cell_type": "code",
     "collapsed": false,
     "input": [
      "dfa_design.accepts?('aab')"
     ],
     "language": "python",
     "metadata": {},
     "outputs": [
      {
       "metadata": {},
       "output_type": "pyout",
       "prompt_number": 127,
       "text": [
        "true"
       ]
      }
     ],
     "prompt_number": 127
    },
    {
     "cell_type": "code",
     "collapsed": false,
     "input": [
      "dfa_design.accepts?('bbbabb')"
     ],
     "language": "python",
     "metadata": {},
     "outputs": [
      {
       "metadata": {},
       "output_type": "pyout",
       "prompt_number": 128,
       "text": [
        "true"
       ]
      }
     ],
     "prompt_number": 128
    }
   ],
   "metadata": {}
  }
 ]
}