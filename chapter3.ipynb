{
 "metadata": {
  "language": "ruby",
  "name": "",
  "signature": "sha256:b6ccce87d2c62e73fa71fcc845f800c23e61e56d696cdff4c9fc2692d0db39e7"
 },
 "nbformat": 3,
 "nbformat_minor": 0,
 "worksheets": [
  {
   "cells": [
    {
     "cell_type": "heading",
     "level": 1,
     "metadata": {},
     "source": [
      "3\u7ae0 \u6700\u3082\u5358\u7d14\u306a\u30b3\u30f3\u30d4\u30e5\u30fc\u30bf"
     ]
    },
    {
     "cell_type": "heading",
     "level": 2,
     "metadata": {},
     "source": [
      "3.1 \u6c7a\u5b9a\u6027\u6709\u9650\u30aa\u30fc\u30c8\u30de\u30c8\u30f3"
     ]
    },
    {
     "cell_type": "heading",
     "level": 3,
     "metadata": {},
     "source": [
      "3.1.4 \u30b7\u30df\u30e5\u30ec\u30fc\u30b7\u30e7\u30f3"
     ]
    },
    {
     "cell_type": "markdown",
     "metadata": {},
     "source": [
      "\u30b7\u30df\u30e5\u30ec\u30fc\u30b7\u30e7\u30f3\u3092\u69cb\u7bc9\u3059\u308b\u305f\u3081\u3001\u307e\u305a\u306f\u898f\u5247\u306e\u96c6\u5408\u3092\u5b9f\u88c5\u3059\u308b\u3053\u3068\u304b\u3089\u59cb\u3081\u308b\u3002\u3053\u306e\u898f\u5247\u306e\u96c6\u5408\u3092\u898f\u5247\u96c6 (rulebook) \u3068\u547c\u3076\u3053\u3068\u306b\u3059\u308b\u3002"
     ]
    },
    {
     "cell_type": "code",
     "collapsed": false,
     "input": [
      "class FARule < Struct.new(:state, :character, :next_state)\n",
      "  def applies_to?(state, character)\n",
      "    self.state == state && self.character == character\n",
      "  end\n",
      "  \n",
      "  def follow\n",
      "    next_state\n",
      "  end\n",
      "  \n",
      "  def inspect\n",
      "    \"#<FARule #{state.inspect} --#{character}--> #{next_state.inspect}>\"\n",
      "  end\n",
      "end\n",
      "\n",
      "class DFARuleBook < Struct.new(:rules)\n",
      "  def next_state(state, character)\n",
      "    rule_for(state, character).follow\n",
      "  end\n",
      "  \n",
      "  def rule_for(state, character)\n",
      "    rules.detect { |rule| rule.applies_to?(state, character) }\n",
      "  end\n",
      "end"
     ],
     "language": "python",
     "metadata": {},
     "outputs": [
      {
       "metadata": {},
       "output_type": "pyout",
       "prompt_number": 1,
       "text": [
        ":rule_for"
       ]
      }
     ],
     "prompt_number": 1
    },
    {
     "cell_type": "markdown",
     "metadata": {},
     "source": [
      "\u898f\u5247\u96c6\u306f\u8907\u6570\u306e\u898f\u5247\u30921\u3064\u306e\u30aa\u30d6\u30b8\u30a7\u30af\u30c8\u306b\u307e\u3068\u3081\u3066\u3001\u6a5f\u68b0\u304c\u6b21\u306b\u3069\u3093\u306a\u72b6\u614b\u306b\u306a\u308b\u304b\u3068\u3044\u3046\u8cea\u554f\u306b\u7b54\u3048\u308b\u3002"
     ]
    },
    {
     "cell_type": "code",
     "collapsed": false,
     "input": [
      "rulebook = DFARuleBook.new([\n",
      "  FARule.new(1, 'a', 2), FARule.new(1, 'b', 1),\n",
      "  FARule.new(2, 'a', 2), FARule.new(2, 'b', 3),\n",
      "  FARule.new(3, 'a', 3), FARule.new(3, 'b', 3)\n",
      "])"
     ],
     "language": "python",
     "metadata": {},
     "outputs": [
      {
       "metadata": {},
       "output_type": "pyout",
       "prompt_number": 2,
       "text": [
        "#<struct DFARuleBook rules=[#<FARule 1 --a--> 2>, #<FARule 1 --b--> 1>, #<FARule 2 --a--> 2>, #<FARule 2 --b--> 3>, #<FARule 3 --a--> 3>, #<FARule 3 --b--> 3>]>"
       ]
      }
     ],
     "prompt_number": 2
    },
    {
     "cell_type": "code",
     "collapsed": false,
     "input": [
      "rulebook.next_state(1, 'a')"
     ],
     "language": "python",
     "metadata": {},
     "outputs": [
      {
       "metadata": {},
       "output_type": "pyout",
       "prompt_number": 3,
       "text": [
        "2"
       ]
      }
     ],
     "prompt_number": 3
    },
    {
     "cell_type": "code",
     "collapsed": false,
     "input": [
      "rulebook.next_state(1, 'b')"
     ],
     "language": "python",
     "metadata": {},
     "outputs": [
      {
       "metadata": {},
       "output_type": "pyout",
       "prompt_number": 4,
       "text": [
        "1"
       ]
      }
     ],
     "prompt_number": 4
    },
    {
     "cell_type": "code",
     "collapsed": false,
     "input": [
      "rulebook.next_state(2, 'b')"
     ],
     "language": "python",
     "metadata": {},
     "outputs": [
      {
       "metadata": {},
       "output_type": "pyout",
       "prompt_number": 5,
       "text": [
        "3"
       ]
      }
     ],
     "prompt_number": 5
    },
    {
     "cell_type": "markdown",
     "metadata": {},
     "source": [
      "\u73fe\u5728\u306e\u72b6\u614b\u3092\u8a18\u9332\u3057\u3066\u3001\u305d\u308c\u304c\u53d7\u7406\u72b6\u614b (accept state) \u304b\u3069\u3046\u304b\u3092\u5831\u544a\u3059\u308b `DFA` \u30aa\u30d6\u30b8\u30a7\u30af\u30c8\u3092\u4f5c\u308b\u3002"
     ]
    },
    {
     "cell_type": "code",
     "collapsed": false,
     "input": [
      "class DFA < Struct.new(:current_state, :accept_states, :rulebook)\n",
      "  def accepting?\n",
      "    accept_states.include?(current_state)\n",
      "  end\n",
      "end"
     ],
     "language": "python",
     "metadata": {},
     "outputs": [
      {
       "metadata": {},
       "output_type": "pyout",
       "prompt_number": 6,
       "text": [
        ":accepting?"
       ]
      }
     ],
     "prompt_number": 6
    },
    {
     "cell_type": "code",
     "collapsed": false,
     "input": [
      "DFA.new(1, [1, 3], rulebook).accepting?"
     ],
     "language": "python",
     "metadata": {},
     "outputs": [
      {
       "metadata": {},
       "output_type": "pyout",
       "prompt_number": 7,
       "text": [
        "true"
       ]
      }
     ],
     "prompt_number": 7
    },
    {
     "cell_type": "code",
     "collapsed": false,
     "input": [
      "DFA.new(1, [3], rulebook).accepting?"
     ],
     "language": "python",
     "metadata": {},
     "outputs": [
      {
       "metadata": {},
       "output_type": "pyout",
       "prompt_number": 8,
       "text": [
        "false"
       ]
      }
     ],
     "prompt_number": 8
    },
    {
     "cell_type": "markdown",
     "metadata": {},
     "source": [
      "\u5165\u529b\u304b\u30891\u6587\u5b57\u8aad\u3093\u3067\u3001\u898f\u5247\u96c6\u3092\u8abf\u3079\u3066\u3001\u305d\u308c\u306b\u5fdc\u3058\u3066\u73fe\u5728\u306e\u72b6\u614b\u3092\u5909\u66f4\u3059\u308b\u30e1\u30bd\u30c3\u30c9\u3092\u66f8\u304f\u3002"
     ]
    },
    {
     "cell_type": "code",
     "collapsed": false,
     "input": [
      "class DFA\n",
      "  def read_character(character)\n",
      "    self.current_state = rulebook.next_state(current_state, character)\n",
      "  end\n",
      "end"
     ],
     "language": "python",
     "metadata": {},
     "outputs": [
      {
       "metadata": {},
       "output_type": "pyout",
       "prompt_number": 9,
       "text": [
        ":read_character"
       ]
      }
     ],
     "prompt_number": 9
    },
    {
     "cell_type": "code",
     "collapsed": false,
     "input": [
      "dfa = DFA.new(1, [3], rulebook); dfa.accepting?"
     ],
     "language": "python",
     "metadata": {},
     "outputs": [
      {
       "metadata": {},
       "output_type": "pyout",
       "prompt_number": 10,
       "text": [
        "false"
       ]
      }
     ],
     "prompt_number": 10
    },
    {
     "cell_type": "code",
     "collapsed": false,
     "input": [
      "dfa.read_character('b'); dfa.accepting?"
     ],
     "language": "python",
     "metadata": {},
     "outputs": [
      {
       "metadata": {},
       "output_type": "pyout",
       "prompt_number": 11,
       "text": [
        "false"
       ]
      }
     ],
     "prompt_number": 11
    },
    {
     "cell_type": "code",
     "collapsed": false,
     "input": [
      "3.times { dfa.read_character('a') }; dfa.accepting?"
     ],
     "language": "python",
     "metadata": {},
     "outputs": [
      {
       "metadata": {},
       "output_type": "pyout",
       "prompt_number": 12,
       "text": [
        "false"
       ]
      }
     ],
     "prompt_number": 12
    },
    {
     "cell_type": "code",
     "collapsed": false,
     "input": [
      "dfa.read_character('b'); dfa.accepting?"
     ],
     "language": "python",
     "metadata": {},
     "outputs": [
      {
       "metadata": {},
       "output_type": "pyout",
       "prompt_number": 13,
       "text": [
        "true"
       ]
      }
     ],
     "prompt_number": 13
    },
    {
     "cell_type": "markdown",
     "metadata": {},
     "source": [
      "\u4e0e\u3048\u305f\u5165\u529b\u6587\u5b57\u5217\u3092\u3059\u3079\u3066\u8aad\u3080\u3053\u3068\u304c\u3067\u304d\u308b\u4fbf\u5229\u306a\u30e1\u30bd\u30c3\u30c9\u3092\u8ffd\u52a0\u3059\u308b\u3002"
     ]
    },
    {
     "cell_type": "code",
     "collapsed": false,
     "input": [
      "class DFA\n",
      "  def read_string(string)\n",
      "    string.chars.each do |character|\n",
      "      read_character(character)\n",
      "    end\n",
      "  end\n",
      "end"
     ],
     "language": "python",
     "metadata": {},
     "outputs": [
      {
       "metadata": {},
       "output_type": "pyout",
       "prompt_number": 14,
       "text": [
        ":read_string"
       ]
      }
     ],
     "prompt_number": 14
    },
    {
     "cell_type": "code",
     "collapsed": false,
     "input": [
      "dfa = DFA.new(1, [3], rulebook); dfa.accepting?"
     ],
     "language": "python",
     "metadata": {},
     "outputs": [
      {
       "metadata": {},
       "output_type": "pyout",
       "prompt_number": 15,
       "text": [
        "false"
       ]
      }
     ],
     "prompt_number": 15
    },
    {
     "cell_type": "code",
     "collapsed": false,
     "input": [
      "dfa.read_string('baaab'); dfa.accepting?"
     ],
     "language": "python",
     "metadata": {},
     "outputs": [
      {
       "metadata": {},
       "output_type": "pyout",
       "prompt_number": 16,
       "text": [
        "true"
       ]
      }
     ],
     "prompt_number": 16
    },
    {
     "cell_type": "markdown",
     "metadata": {},
     "source": [
      "\u7279\u5b9a\u306e DFA \u306e\u8a2d\u8a08\u3092\u8868\u73fe\u3059\u308b\u30aa\u30d6\u30b8\u30a7\u30af\u30c8\u3092\u4f5c\u308a\u3001\u305d\u3053\u306b DFA \u306e\u30b3\u30f3\u30b9\u30c8\u30e9\u30af\u30bf\u306b\u6e21\u3059\u5f15\u6570\u3092\u683c\u7d0d\u3059\u308b\u3002\u305d\u3057\u3066\u3001\u6587\u5b57\u5217\u3092\u30c1\u30a7\u30c3\u30af\u3059\u308b\u305f\u3073\u306b\u3001\u4f7f\u3044\u6368\u3066\u306e DFA \u306e\u30a4\u30f3\u30b9\u30bf\u30f3\u30b9\u3092\u81ea\u52d5\u69cb\u7bc9\u3059\u308b\u3088\u3046\u306b\u3059\u308b\u3002"
     ]
    },
    {
     "cell_type": "code",
     "collapsed": false,
     "input": [
      "class DFADesign < Struct.new(:start_state, :accept_states, :rulebook)\n",
      "  def to_dfa\n",
      "    DFA.new(start_state, accept_states, rulebook)\n",
      "  end\n",
      "  \n",
      "  def accepts?(string)\n",
      "    to_dfa.tap { |dfa| dfa.read_string(string) }.accepting?\n",
      "  end\n",
      "end"
     ],
     "language": "python",
     "metadata": {},
     "outputs": [
      {
       "metadata": {},
       "output_type": "pyout",
       "prompt_number": 17,
       "text": [
        ":accepts?"
       ]
      }
     ],
     "prompt_number": 17
    },
    {
     "cell_type": "code",
     "collapsed": false,
     "input": [
      "dfa_design = DFADesign.new(1, [3], rulebook)"
     ],
     "language": "python",
     "metadata": {},
     "outputs": [
      {
       "metadata": {},
       "output_type": "pyout",
       "prompt_number": 18,
       "text": [
        "#<struct DFADesign start_state=1, accept_states=[3], rulebook=#<struct DFARuleBook rules=[#<FARule 1 --a--> 2>, #<FARule 1 --b--> 1>, #<FARule 2 --a--> 2>, #<FARule 2 --b--> 3>, #<FARule 3 --a--> 3>, #<FARule 3 --b--> 3>]>>"
       ]
      }
     ],
     "prompt_number": 18
    },
    {
     "cell_type": "code",
     "collapsed": false,
     "input": [
      "dfa_design.accepts?('a')"
     ],
     "language": "python",
     "metadata": {},
     "outputs": [
      {
       "metadata": {},
       "output_type": "pyout",
       "prompt_number": 19,
       "text": [
        "false"
       ]
      }
     ],
     "prompt_number": 19
    },
    {
     "cell_type": "code",
     "collapsed": false,
     "input": [
      "dfa_design.accepts?('baa')"
     ],
     "language": "python",
     "metadata": {},
     "outputs": [
      {
       "metadata": {},
       "output_type": "pyout",
       "prompt_number": 20,
       "text": [
        "false"
       ]
      }
     ],
     "prompt_number": 20
    },
    {
     "cell_type": "code",
     "collapsed": false,
     "input": [
      "dfa_design.accepts?('baba')"
     ],
     "language": "python",
     "metadata": {},
     "outputs": [
      {
       "metadata": {},
       "output_type": "pyout",
       "prompt_number": 21,
       "text": [
        "true"
       ]
      }
     ],
     "prompt_number": 21
    },
    {
     "cell_type": "heading",
     "level": 2,
     "metadata": {},
     "source": [
      "3.2 \u975e\u6c7a\u5b9a\u6027\u6709\u9650\u30aa\u30fc\u30c8\u30de\u30c8\u30f3"
     ]
    },
    {
     "cell_type": "heading",
     "level": 3,
     "metadata": {},
     "source": [
      "3.2.1 \u975e\u6c7a\u5b9a\u6027"
     ]
    },
    {
     "cell_type": "markdown",
     "metadata": {},
     "source": [
      "NFA \u306e\u898f\u5247\u96c6\u306e\u5b9f\u88c5\u306f\u6b21\u306e\u3088\u3046\u306b\u306a\u308b\u3002"
     ]
    },
    {
     "cell_type": "code",
     "collapsed": false,
     "input": [
      "require 'set'\n",
      "\n",
      "class NFARulebook < Struct.new(:rules)\n",
      "  def next_states(states, character)\n",
      "    states.flat_map { |state| follow_rules_for(state, character) }.to_set\n",
      "  end\n",
      "  \n",
      "  def follow_rules_for(state, character)\n",
      "    rules_for(state, character).map(&:follow)\n",
      "  end\n",
      "  \n",
      "  def rules_for(state, character)\n",
      "    rules.select { |rule| rule.applies_to?(state, character) }\n",
      "  end\n",
      "end"
     ],
     "language": "python",
     "metadata": {},
     "outputs": [
      {
       "metadata": {},
       "output_type": "pyout",
       "prompt_number": 22,
       "text": [
        ":rules_for"
       ]
      }
     ],
     "prompt_number": 22
    },
    {
     "cell_type": "code",
     "collapsed": false,
     "input": [
      "rulebook = NFARulebook.new([\n",
      "  FARule.new(1, 'a', 1), FARule.new(1, 'b', 1), FARule.new(1, 'b', 2),\n",
      "  FARule.new(2, 'a', 3), FARule.new(2, 'b', 3),\n",
      "  FARule.new(3, 'a', 4), FARule.new(3, 'b', 4)\n",
      "])"
     ],
     "language": "python",
     "metadata": {},
     "outputs": [
      {
       "metadata": {},
       "output_type": "pyout",
       "prompt_number": 23,
       "text": [
        "#<struct NFARulebook rules=[#<FARule 1 --a--> 1>, #<FARule 1 --b--> 1>, #<FARule 1 --b--> 2>, #<FARule 2 --a--> 3>, #<FARule 2 --b--> 3>, #<FARule 3 --a--> 4>, #<FARule 3 --b--> 4>]>"
       ]
      }
     ],
     "prompt_number": 23
    },
    {
     "cell_type": "code",
     "collapsed": false,
     "input": [
      "rulebook.next_states(Set[1], 'b')"
     ],
     "language": "python",
     "metadata": {},
     "outputs": [
      {
       "metadata": {},
       "output_type": "pyout",
       "prompt_number": 24,
       "text": [
        "#<Set: {1, 2}>"
       ]
      }
     ],
     "prompt_number": 24
    },
    {
     "cell_type": "code",
     "collapsed": false,
     "input": [
      "rulebook.next_states(Set[1, 2], 'a')"
     ],
     "language": "python",
     "metadata": {},
     "outputs": [
      {
       "metadata": {},
       "output_type": "pyout",
       "prompt_number": 25,
       "text": [
        "#<Set: {1, 3}>"
       ]
      }
     ],
     "prompt_number": 25
    },
    {
     "cell_type": "code",
     "collapsed": false,
     "input": [
      "rulebook.next_states(Set[1, 3], 'b')"
     ],
     "language": "python",
     "metadata": {},
     "outputs": [
      {
       "metadata": {},
       "output_type": "pyout",
       "prompt_number": 26,
       "text": [
        "#<Set: {1, 2, 4}>"
       ]
      }
     ],
     "prompt_number": 26
    },
    {
     "cell_type": "markdown",
     "metadata": {},
     "source": [
      "\u30b7\u30df\u30e5\u30ec\u30fc\u30c8\u3059\u308b\u6a5f\u68b0\u3092\u8868\u73fe\u3059\u308b NFA \u30af\u30e9\u30b9\u306e\u5b9f\u88c5\u306f\u6b21\u306e\u3088\u3046\u306b\u306a\u308b\u3002"
     ]
    },
    {
     "cell_type": "code",
     "collapsed": false,
     "input": [
      "class NFA < Struct.new(:current_states, :accept_states, :rulebook)\n",
      "  def accepting?\n",
      "    (current_states & accept_states).any?\n",
      "  end\n",
      "end"
     ],
     "language": "python",
     "metadata": {},
     "outputs": [
      {
       "metadata": {},
       "output_type": "pyout",
       "prompt_number": 27,
       "text": [
        ":accepting?"
       ]
      }
     ],
     "prompt_number": 27
    },
    {
     "cell_type": "code",
     "collapsed": false,
     "input": [
      "NFA.new(Set[1], [4], rulebook).accepting?"
     ],
     "language": "python",
     "metadata": {},
     "outputs": [
      {
       "metadata": {},
       "output_type": "pyout",
       "prompt_number": 28,
       "text": [
        "false"
       ]
      }
     ],
     "prompt_number": 28
    },
    {
     "cell_type": "code",
     "collapsed": false,
     "input": [
      "NFA.new(Set[1, 2, 4], [4], rulebook).accepting?"
     ],
     "language": "python",
     "metadata": {},
     "outputs": [
      {
       "metadata": {},
       "output_type": "pyout",
       "prompt_number": 29,
       "text": [
        "true"
       ]
      }
     ],
     "prompt_number": 29
    },
    {
     "cell_type": "markdown",
     "metadata": {},
     "source": [
      "\u5165\u529b\u304b\u30891\u6587\u5b57\u8aad\u3080\u305f\u3081\u306e `#read_character` \u30e1\u30bd\u30c3\u30c9\u3068\u3001\u8907\u6570\u306e\u6587\u5b57\u3092\u9806\u756a\u306b\u8aad\u3080 `#read_string` \u30e1\u30bd\u30c3\u30c9\u3092\u5b9f\u88c5\u3059\u308b\u3002"
     ]
    },
    {
     "cell_type": "code",
     "collapsed": false,
     "input": [
      "class NFA\n",
      "  def read_character(character)\n",
      "    self.current_states = rulebook.next_states(current_states, character)\n",
      "  end\n",
      "  \n",
      "  def read_string(string)\n",
      "    string.chars.each do |character|\n",
      "      read_character(character)\n",
      "    end\n",
      "  end\n",
      "end"
     ],
     "language": "python",
     "metadata": {},
     "outputs": [
      {
       "metadata": {},
       "output_type": "pyout",
       "prompt_number": 30,
       "text": [
        ":read_string"
       ]
      }
     ],
     "prompt_number": 30
    },
    {
     "cell_type": "code",
     "collapsed": false,
     "input": [
      "nfa = NFA.new(Set[1], [4], rulebook); nfa.accepting?"
     ],
     "language": "python",
     "metadata": {},
     "outputs": [
      {
       "metadata": {},
       "output_type": "pyout",
       "prompt_number": 31,
       "text": [
        "false"
       ]
      }
     ],
     "prompt_number": 31
    },
    {
     "cell_type": "code",
     "collapsed": false,
     "input": [
      "nfa.read_character('b'); nfa.accepting?"
     ],
     "language": "python",
     "metadata": {},
     "outputs": [
      {
       "metadata": {},
       "output_type": "pyout",
       "prompt_number": 32,
       "text": [
        "false"
       ]
      }
     ],
     "prompt_number": 32
    },
    {
     "cell_type": "code",
     "collapsed": false,
     "input": [
      "nfa.read_character('a'); nfa.accepting?"
     ],
     "language": "python",
     "metadata": {},
     "outputs": [
      {
       "metadata": {},
       "output_type": "pyout",
       "prompt_number": 33,
       "text": [
        "false"
       ]
      }
     ],
     "prompt_number": 33
    },
    {
     "cell_type": "code",
     "collapsed": false,
     "input": [
      "nfa.read_character('b'); nfa.accepting?"
     ],
     "language": "python",
     "metadata": {},
     "outputs": [
      {
       "metadata": {},
       "output_type": "pyout",
       "prompt_number": 34,
       "text": [
        "true"
       ]
      }
     ],
     "prompt_number": 34
    },
    {
     "cell_type": "code",
     "collapsed": false,
     "input": [
      "nfa = NFA.new(Set[1], [4], rulebook); nfa.accepting?"
     ],
     "language": "python",
     "metadata": {},
     "outputs": [
      {
       "metadata": {},
       "output_type": "pyout",
       "prompt_number": 35,
       "text": [
        "false"
       ]
      }
     ],
     "prompt_number": 35
    },
    {
     "cell_type": "code",
     "collapsed": false,
     "input": [
      "nfa.read_string('bbbbb'); nfa.accepting?"
     ],
     "language": "python",
     "metadata": {},
     "outputs": [
      {
       "metadata": {},
       "output_type": "pyout",
       "prompt_number": 36,
       "text": [
        "true"
       ]
      }
     ],
     "prompt_number": 36
    },
    {
     "cell_type": "markdown",
     "metadata": {},
     "source": [
      "`NFADesign` \u30aa\u30d6\u30b8\u30a7\u30af\u30c8\u3092\u4f7f\u3063\u3066\u5fc5\u8981\u306b\u5fdc\u3058\u3066\u65b0\u3057\u3044 `NFA` \u30a4\u30f3\u30b9\u30bf\u30f3\u30b9\u304c\u4f5c\u308c\u308b\u3068\u4fbf\u5229\u3067\u3042\u308b\u3002"
     ]
    },
    {
     "cell_type": "code",
     "collapsed": false,
     "input": [
      "class NFADesign < Struct.new(:start_state, :accept_states, :rulebook)\n",
      "  def accepts?(string)\n",
      "    to_nfa.tap { |nfa| nfa.read_string(string) }.accepting?\n",
      "  end\n",
      "  \n",
      "  def to_nfa\n",
      "    NFA.new(Set[start_state], accept_states, rulebook)\n",
      "  end\n",
      "end"
     ],
     "language": "python",
     "metadata": {},
     "outputs": [
      {
       "metadata": {},
       "output_type": "pyout",
       "prompt_number": 37,
       "text": [
        ":to_nfa"
       ]
      }
     ],
     "prompt_number": 37
    },
    {
     "cell_type": "code",
     "collapsed": false,
     "input": [
      "nfa_design = NFADesign.new(1, [4], rulebook)"
     ],
     "language": "python",
     "metadata": {},
     "outputs": [
      {
       "metadata": {},
       "output_type": "pyout",
       "prompt_number": 38,
       "text": [
        "#<struct NFADesign start_state=1, accept_states=[4], rulebook=#<struct NFARulebook rules=[#<FARule 1 --a--> 1>, #<FARule 1 --b--> 1>, #<FARule 1 --b--> 2>, #<FARule 2 --a--> 3>, #<FARule 2 --b--> 3>, #<FARule 3 --a--> 4>, #<FARule 3 --b--> 4>]>>"
       ]
      }
     ],
     "prompt_number": 38
    },
    {
     "cell_type": "code",
     "collapsed": false,
     "input": [
      "nfa_design.accepts?('bab')"
     ],
     "language": "python",
     "metadata": {},
     "outputs": [
      {
       "metadata": {},
       "output_type": "pyout",
       "prompt_number": 39,
       "text": [
        "true"
       ]
      }
     ],
     "prompt_number": 39
    },
    {
     "cell_type": "code",
     "collapsed": false,
     "input": [
      "nfa_design.accepts?('bbbbb')"
     ],
     "language": "python",
     "metadata": {},
     "outputs": [
      {
       "metadata": {},
       "output_type": "pyout",
       "prompt_number": 40,
       "text": [
        "true"
       ]
      }
     ],
     "prompt_number": 40
    },
    {
     "cell_type": "code",
     "collapsed": false,
     "input": [
      "nfa_design.accepts?('bbabb')"
     ],
     "language": "python",
     "metadata": {},
     "outputs": [
      {
       "metadata": {},
       "output_type": "pyout",
       "prompt_number": 41,
       "text": [
        "false"
       ]
      }
     ],
     "prompt_number": 41
    },
    {
     "cell_type": "heading",
     "level": 3,
     "metadata": {},
     "source": [
      "3.2.2 \u81ea\u7531\u79fb\u52d5"
     ]
    },
    {
     "cell_type": "markdown",
     "metadata": {},
     "source": [
      "\u81ea\u7531\u79fb\u52d5\u3092\u8868\u73fe\u3059\u308b\u4e00\u756a\u7c21\u5358\u306a\u65b9\u6cd5\u306f\u3001\u6587\u5b57\u306e\u3068\u3053\u308d\u3092 `nil` \u306b\u3057\u305f `FARule` \u3092\u4f7f\u3046\u3053\u3068\u3067\u3042\u308b\u3002"
     ]
    },
    {
     "cell_type": "code",
     "collapsed": false,
     "input": [
      "rulebook = NFARulebook.new([\n",
      "  FARule.new(1, nil, 2), FARule.new(1, nil, 4),\n",
      "  FARule.new(2, 'a', 3),\n",
      "  FARule.new(3, 'a', 2),\n",
      "  FARule.new(4, 'a', 5),\n",
      "  FARule.new(5, 'a', 6),\n",
      "  FARule.new(6, 'a', 4)\n",
      "])"
     ],
     "language": "python",
     "metadata": {},
     "outputs": [
      {
       "metadata": {},
       "output_type": "pyout",
       "prompt_number": 42,
       "text": [
        "#<struct NFARulebook rules=[#<FARule 1 ----> 2>, #<FARule 1 ----> 4>, #<FARule 2 --a--> 3>, #<FARule 3 --a--> 2>, #<FARule 4 --a--> 5>, #<FARule 5 --a--> 6>, #<FARule 6 --a--> 4>]>"
       ]
      }
     ],
     "prompt_number": 42
    },
    {
     "cell_type": "code",
     "collapsed": false,
     "input": [
      "rulebook.next_states(Set[1], nil)"
     ],
     "language": "python",
     "metadata": {},
     "outputs": [
      {
       "metadata": {},
       "output_type": "pyout",
       "prompt_number": 43,
       "text": [
        "#<Set: {2, 4}>"
       ]
      }
     ],
     "prompt_number": 43
    },
    {
     "cell_type": "markdown",
     "metadata": {},
     "source": [
      "\u7279\u5b9a\u306e\u72b6\u614b\u306e\u96c6\u5408\u304b\u3089\u81ea\u7531\u79fb\u52d5\u306b\u3088\u3063\u3066\u5230\u9054\u53ef\u80fd\u306a\u3059\u3079\u3066\u306e\u72b6\u614b\u3092\u898b\u3064\u3051\u308b\u3001\u30d8\u30eb\u30d1\u30fc\u30b3\u30fc\u30c9\u304c\u5fc5\u8981\u306b\u306a\u308b\u3002"
     ]
    },
    {
     "cell_type": "code",
     "collapsed": false,
     "input": [
      "class NFARulebook\n",
      "  def follow_free_moves(states)\n",
      "    more_states = next_states(states, nil)\n",
      "    \n",
      "    if more_states.subset?(states)\n",
      "      states\n",
      "    else\n",
      "      follow_free_moves(states + more_states)\n",
      "    end\n",
      "  end\n",
      "end"
     ],
     "language": "python",
     "metadata": {},
     "outputs": [
      {
       "metadata": {},
       "output_type": "pyout",
       "prompt_number": 44,
       "text": [
        ":follow_free_moves"
       ]
      }
     ],
     "prompt_number": 44
    },
    {
     "cell_type": "code",
     "collapsed": false,
     "input": [
      "rulebook.follow_free_moves(Set[1])"
     ],
     "language": "python",
     "metadata": {},
     "outputs": [
      {
       "metadata": {},
       "output_type": "pyout",
       "prompt_number": 45,
       "text": [
        "#<Set: {1, 2, 4}>"
       ]
      }
     ],
     "prompt_number": 45
    },
    {
     "cell_type": "markdown",
     "metadata": {},
     "source": [
      "`NFA#current_states` \u306e\u5b9f\u88c5\u3092\u30aa\u30fc\u30d0\u30fc\u30e9\u30a4\u30c9\u3059\u308b\u3053\u3068\u3067\u3001NFA \u306b\u81ea\u7531\u79fb\u52d5\u306e\u30b5\u30dd\u30fc\u30c8\u3092\u7d44\u307f\u8fbc\u3080\u3002"
     ]
    },
    {
     "cell_type": "code",
     "collapsed": false,
     "input": [
      "class NFA\n",
      "  def current_states\n",
      "    rulebook.follow_free_moves(super)\n",
      "  end\n",
      "end"
     ],
     "language": "python",
     "metadata": {},
     "outputs": [
      {
       "metadata": {},
       "output_type": "pyout",
       "prompt_number": 46,
       "text": [
        ":current_states"
       ]
      }
     ],
     "prompt_number": 46
    },
    {
     "cell_type": "code",
     "collapsed": false,
     "input": [
      "nfa_design = NFADesign.new(1, [2, 4], rulebook)"
     ],
     "language": "python",
     "metadata": {},
     "outputs": [
      {
       "metadata": {},
       "output_type": "pyout",
       "prompt_number": 47,
       "text": [
        "#<struct NFADesign start_state=1, accept_states=[2, 4], rulebook=#<struct NFARulebook rules=[#<FARule 1 ----> 2>, #<FARule 1 ----> 4>, #<FARule 2 --a--> 3>, #<FARule 3 --a--> 2>, #<FARule 4 --a--> 5>, #<FARule 5 --a--> 6>, #<FARule 6 --a--> 4>]>>"
       ]
      }
     ],
     "prompt_number": 47
    },
    {
     "cell_type": "code",
     "collapsed": false,
     "input": [
      "nfa_design.accepts?('aa')"
     ],
     "language": "python",
     "metadata": {},
     "outputs": [
      {
       "metadata": {},
       "output_type": "pyout",
       "prompt_number": 48,
       "text": [
        "true"
       ]
      }
     ],
     "prompt_number": 48
    },
    {
     "cell_type": "code",
     "collapsed": false,
     "input": [
      "nfa_design.accepts?('aaa')"
     ],
     "language": "python",
     "metadata": {},
     "outputs": [
      {
       "metadata": {},
       "output_type": "pyout",
       "prompt_number": 49,
       "text": [
        "true"
       ]
      }
     ],
     "prompt_number": 49
    },
    {
     "cell_type": "code",
     "collapsed": false,
     "input": [
      "nfa_design.accepts?('aaaaa')"
     ],
     "language": "python",
     "metadata": {},
     "outputs": [
      {
       "metadata": {},
       "output_type": "pyout",
       "prompt_number": 50,
       "text": [
        "false"
       ]
      }
     ],
     "prompt_number": 50
    },
    {
     "cell_type": "code",
     "collapsed": false,
     "input": [
      "nfa_design.accepts?('aaaaaa')"
     ],
     "language": "python",
     "metadata": {},
     "outputs": [
      {
       "metadata": {},
       "output_type": "pyout",
       "prompt_number": 51,
       "text": [
        "true"
       ]
      }
     ],
     "prompt_number": 51
    }
   ],
   "metadata": {}
  }
 ]
}