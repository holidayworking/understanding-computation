{
 "metadata": {
  "language": "ruby",
  "name": "",
  "signature": "sha256:49254c799b62e2953312cbb9b4af3c040af61ed8d4f7e4324580ee3bda09bed0"
 },
 "nbformat": 3,
 "nbformat_minor": 0,
 "worksheets": [
  {
   "cells": [
    {
     "cell_type": "heading",
     "level": 1,
     "metadata": {},
     "source": [
      "4\u7ae0 \u80fd\u529b\u3092\u9ad8\u3081\u308b"
     ]
    },
    {
     "cell_type": "heading",
     "level": 2,
     "metadata": {},
     "source": [
      "4.1 \u6c7a\u5b9a\u6027\u30d7\u30c3\u30b7\u30e5\u30c0\u30a6\u30f3\u30fb\u30aa\u30fc\u30c8\u30de\u30c8\u30f3"
     ]
    },
    {
     "cell_type": "heading",
     "level": 3,
     "metadata": {},
     "source": [
      "4.1.4 \u30b7\u30df\u30e5\u30ec\u30fc\u30b7\u30e7\u30f3"
     ]
    },
    {
     "cell_type": "markdown",
     "metadata": {},
     "source": [
      "`Stack` \u30af\u30e9\u30b9\u306e\u5b9f\u88c5\u306f\u4ee5\u4e0b\u306e\u3088\u3046\u306b\u306a\u308b\u3002"
     ]
    },
    {
     "cell_type": "code",
     "collapsed": false,
     "input": [
      "class Stack < Struct.new(:contents)\n",
      "  def push(character)\n",
      "    Stack.new([character] + contents)\n",
      "  end\n",
      "  \n",
      "  def pop\n",
      "    Stack.new(contents.drop(1))\n",
      "  end\n",
      "  \n",
      "  def top\n",
      "    contents.first\n",
      "  end\n",
      "  \n",
      "  def inspect\n",
      "    \"#<Stack (#{top})#{contents.drop(1).join}>\"\n",
      "  end\n",
      "end"
     ],
     "language": "python",
     "metadata": {},
     "outputs": [
      {
       "metadata": {},
       "output_type": "pyout",
       "prompt_number": 1,
       "text": [
        ":inspect"
       ]
      }
     ],
     "prompt_number": 1
    },
    {
     "cell_type": "code",
     "collapsed": false,
     "input": [
      "stack = Stack.new(['a', 'b', 'c', 'd', 'e'])"
     ],
     "language": "python",
     "metadata": {},
     "outputs": [
      {
       "metadata": {},
       "output_type": "pyout",
       "prompt_number": 2,
       "text": [
        "#<Stack (a)bcde>"
       ]
      }
     ],
     "prompt_number": 2
    },
    {
     "cell_type": "code",
     "collapsed": false,
     "input": [
      "stack.top"
     ],
     "language": "python",
     "metadata": {},
     "outputs": [
      {
       "metadata": {},
       "output_type": "pyout",
       "prompt_number": 3,
       "text": [
        "\"a\""
       ]
      }
     ],
     "prompt_number": 3
    },
    {
     "cell_type": "code",
     "collapsed": false,
     "input": [
      "stack.pop.pop.top"
     ],
     "language": "python",
     "metadata": {},
     "outputs": [
      {
       "metadata": {},
       "output_type": "pyout",
       "prompt_number": 4,
       "text": [
        "\"c\""
       ]
      }
     ],
     "prompt_number": 4
    },
    {
     "cell_type": "code",
     "collapsed": false,
     "input": [
      "stack.push('x').push('y').top"
     ],
     "language": "python",
     "metadata": {},
     "outputs": [
      {
       "metadata": {},
       "output_type": "pyout",
       "prompt_number": 5,
       "text": [
        "\"y\""
       ]
      }
     ],
     "prompt_number": 5
    },
    {
     "cell_type": "code",
     "collapsed": false,
     "input": [
      "stack.push('x').push('y').pop.top"
     ],
     "language": "python",
     "metadata": {},
     "outputs": [
      {
       "metadata": {},
       "output_type": "pyout",
       "prompt_number": 6,
       "text": [
        "\"x\""
       ]
      }
     ],
     "prompt_number": 6
    },
    {
     "cell_type": "markdown",
     "metadata": {},
     "source": [
      "PDA \u306e\u69cb\u6210\uff08\u72b6\u614b\u3068\u30b9\u30bf\u30c3\u30af\uff09\u3092\u4fdd\u6301\u3059\u308b `PDAConfiguraiton` \u30af\u30e9\u30b9\u3068\u3001PDA \u306e\u898f\u5247\u96c6\u306b\u542b\u307e\u308c\u308b1\u3064\u306e\u898f\u5247\u3092\u8868\u73fe\u3059\u308b `PDARule` \u30af\u30e9\u30b9\u306f\u4ee5\u4e0b\u306e\u3088\u3046\u306b\u306a\u308b\u3002"
     ]
    },
    {
     "cell_type": "code",
     "collapsed": false,
     "input": [
      "class PDAConfiguration < Struct.new(:state, :stack)\n",
      "end\n",
      "\n",
      "class PDARule < Struct.new(:state, :character, :next_state, :pop_character, :push_characters)\n",
      "  def applies_to?(configuration, character)\n",
      "    self.state == configuration.state &&\n",
      "      self.pop_character == configuration.stack.top &&\n",
      "      self.character == character\n",
      "  end\n",
      "end"
     ],
     "language": "python",
     "metadata": {},
     "outputs": [
      {
       "metadata": {},
       "output_type": "pyout",
       "prompt_number": 7,
       "text": [
        ":applies_to?"
       ]
      }
     ],
     "prompt_number": 7
    },
    {
     "cell_type": "code",
     "collapsed": false,
     "input": [
      "rule = PDARule.new(1, '(', 2, '$', ['b', '$'])"
     ],
     "language": "python",
     "metadata": {},
     "outputs": [
      {
       "metadata": {},
       "output_type": "pyout",
       "prompt_number": 8,
       "text": [
        "#<struct PDARule state=1, character=\"(\", next_state=2, pop_character=\"$\", push_characters=[\"b\", \"$\"]>"
       ]
      }
     ],
     "prompt_number": 8
    },
    {
     "cell_type": "code",
     "collapsed": false,
     "input": [
      "configuration = PDAConfiguration.new(1, Stack.new(['$']))"
     ],
     "language": "python",
     "metadata": {},
     "outputs": [
      {
       "metadata": {},
       "output_type": "pyout",
       "prompt_number": 9,
       "text": [
        "#<struct PDAConfiguration state=1, stack=#<Stack ($)>>"
       ]
      }
     ],
     "prompt_number": 9
    },
    {
     "cell_type": "markdown",
     "metadata": {},
     "source": [
      "rule.applies_to?(configuration, '(')"
     ]
    },
    {
     "cell_type": "markdown",
     "metadata": {},
     "source": [
      "`PDARule#follow` \u306f\u3001\u73fe\u5728\u306e\u69cb\u6210\u3092\u5f15\u6570\u306b\u3068\u3063\u3066\u3001\u6b21\u306e\u69cb\u6210\u3092\u8fd4\u3059\u5fc5\u8981\u304c\u3042\u308b\u3002"
     ]
    },
    {
     "cell_type": "code",
     "collapsed": false,
     "input": [
      "class PDARule\n",
      "  def follow(configuration)\n",
      "    PDAConfiguration.new(next_state, next_stack(configuration))\n",
      "  end\n",
      "  \n",
      "  def next_stack(configuration)\n",
      "    popped_stack = configuration.stack.pop\n",
      "    \n",
      "    push_characters.reverse.\n",
      "      inject(popped_stack) { |stack, character| stack.push(character) }\n",
      "  end\n",
      "end"
     ],
     "language": "python",
     "metadata": {},
     "outputs": [
      {
       "metadata": {},
       "output_type": "pyout",
       "prompt_number": 10,
       "text": [
        ":next_stack"
       ]
      }
     ],
     "prompt_number": 10
    },
    {
     "cell_type": "code",
     "collapsed": false,
     "input": [
      "rule.follow(configuration)"
     ],
     "language": "python",
     "metadata": {},
     "outputs": [
      {
       "metadata": {},
       "output_type": "pyout",
       "prompt_number": 11,
       "text": [
        "#<struct PDAConfiguration state=2, stack=#<Stack (b)$>>"
       ]
      }
     ],
     "prompt_number": 11
    },
    {
     "cell_type": "markdown",
     "metadata": {},
     "source": [
      "\u3053\u308c\u3067 DPDA \u306e\u898f\u5247\u96c6\u3092\u5b9f\u88c5\u3059\u308b\u6e96\u5099\u304c\u3067\u304d\u305f\u3002"
     ]
    },
    {
     "cell_type": "code",
     "collapsed": false,
     "input": [
      "class DPDARulebook < Struct.new(:rules)\n",
      "  def next_configuration(configuration, character)\n",
      "    rule_for(configuration, character).follow(configuration)\n",
      "  end\n",
      "  \n",
      "  def rule_for(configuration, character)\n",
      "    rules.detect { |rule| rule.applies_to?(configuration, character) }\n",
      "  end\n",
      "end"
     ],
     "language": "python",
     "metadata": {},
     "outputs": [
      {
       "metadata": {},
       "output_type": "pyout",
       "prompt_number": 12,
       "text": [
        ":rule_for"
       ]
      }
     ],
     "prompt_number": 12
    },
    {
     "cell_type": "code",
     "collapsed": false,
     "input": [
      "rulebook = DPDARulebook.new([\n",
      "  PDARule.new(1, '(', 2, '$', ['b', '$']),\n",
      "  PDARule.new(2, '(', 2, 'b', ['b', 'b']),\n",
      "  PDARule.new(2, ')', 2, 'b', []),\n",
      "  PDARule.new(2, nil, 1, '$', ['$'])\n",
      "])"
     ],
     "language": "python",
     "metadata": {},
     "outputs": [
      {
       "metadata": {},
       "output_type": "pyout",
       "prompt_number": 13,
       "text": [
        "#<struct DPDARulebook rules=[#<struct PDARule state=1, character=\"(\", next_state=2, pop_character=\"$\", push_characters=[\"b\", \"$\"]>, #<struct PDARule state=2, character=\"(\", next_state=2, pop_character=\"b\", push_characters=[\"b\", \"b\"]>, #<struct PDARule state=2, character=\")\", next_state=2, pop_character=\"b\", push_characters=[]>, #<struct PDARule state=2, character=nil, next_state=1, pop_character=\"$\", push_characters=[\"$\"]>]>"
       ]
      }
     ],
     "prompt_number": 13
    },
    {
     "cell_type": "code",
     "collapsed": false,
     "input": [
      "configuration = rulebook.next_configuration(configuration, '(')"
     ],
     "language": "python",
     "metadata": {},
     "outputs": [
      {
       "metadata": {},
       "output_type": "pyout",
       "prompt_number": 14,
       "text": [
        "#<struct PDAConfiguration state=2, stack=#<Stack (b)$>>"
       ]
      }
     ],
     "prompt_number": 14
    },
    {
     "cell_type": "code",
     "collapsed": false,
     "input": [
      "configuration = rulebook.next_configuration(configuration, '(')"
     ],
     "language": "python",
     "metadata": {},
     "outputs": [
      {
       "metadata": {},
       "output_type": "pyout",
       "prompt_number": 15,
       "text": [
        "#<struct PDAConfiguration state=2, stack=#<Stack (b)b$>>"
       ]
      }
     ],
     "prompt_number": 15
    },
    {
     "cell_type": "code",
     "collapsed": false,
     "input": [
      "configuration = rulebook.next_configuration(configuration, ')')"
     ],
     "language": "python",
     "metadata": {},
     "outputs": [
      {
       "metadata": {},
       "output_type": "pyout",
       "prompt_number": 16,
       "text": [
        "#<struct PDAConfiguration state=2, stack=#<Stack (b)$>>"
       ]
      }
     ],
     "prompt_number": 16
    },
    {
     "cell_type": "markdown",
     "metadata": {},
     "source": [
      "`DPDA` \u30aa\u30d6\u30b8\u30a7\u30af\u30c8\u3092\u69cb\u7bc9\u3059\u308b\u3002"
     ]
    },
    {
     "cell_type": "code",
     "collapsed": false,
     "input": [
      "class DPDA < Struct.new(:current_configuration, :accept_states, :rulebook)\n",
      "  def accepting?\n",
      "    accept_states.include?(current_configuration.state)\n",
      "  end\n",
      "  \n",
      "  def read_character(character)\n",
      "    self.current_configuration =\n",
      "      rulebook.next_configuration(current_configuration, character)\n",
      "  end\n",
      "  \n",
      "  def read_string(string)\n",
      "    string.chars.each do |character|\n",
      "      read_character(character)\n",
      "    end\n",
      "  end\n",
      "end"
     ],
     "language": "python",
     "metadata": {},
     "outputs": [
      {
       "metadata": {},
       "output_type": "pyout",
       "prompt_number": 17,
       "text": [
        ":read_string"
       ]
      }
     ],
     "prompt_number": 17
    },
    {
     "cell_type": "code",
     "collapsed": false,
     "input": [
      "dpda = DPDA.new(PDAConfiguration.new(1, Stack.new(['$'])), [1], rulebook)"
     ],
     "language": "python",
     "metadata": {},
     "outputs": [
      {
       "metadata": {},
       "output_type": "pyout",
       "prompt_number": 18,
       "text": [
        "#<struct DPDA current_configuration=#<struct PDAConfiguration state=1, stack=#<Stack ($)>>, accept_states=[1], rulebook=#<struct DPDARulebook rules=[#<struct PDARule state=1, character=\"(\", next_state=2, pop_character=\"$\", push_characters=[\"b\", \"$\"]>, #<struct PDARule state=2, character=\"(\", next_state=2, pop_character=\"b\", push_characters=[\"b\", \"b\"]>, #<struct PDARule state=2, character=\")\", next_state=2, pop_character=\"b\", push_characters=[]>, #<struct PDARule state=2, character=nil, next_state=1, pop_character=\"$\", push_characters=[\"$\"]>]>>"
       ]
      }
     ],
     "prompt_number": 18
    },
    {
     "cell_type": "code",
     "collapsed": false,
     "input": [
      "dpda.accepting?"
     ],
     "language": "python",
     "metadata": {},
     "outputs": [
      {
       "metadata": {},
       "output_type": "pyout",
       "prompt_number": 19,
       "text": [
        "true"
       ]
      }
     ],
     "prompt_number": 19
    },
    {
     "cell_type": "code",
     "collapsed": false,
     "input": [
      "dpda.read_string('(()'); dpda.accepting?"
     ],
     "language": "python",
     "metadata": {},
     "outputs": [
      {
       "metadata": {},
       "output_type": "pyout",
       "prompt_number": 20,
       "text": [
        "false"
       ]
      }
     ],
     "prompt_number": 20
    },
    {
     "cell_type": "code",
     "collapsed": false,
     "input": [
      "dpda.current_configuration"
     ],
     "language": "python",
     "metadata": {},
     "outputs": [
      {
       "metadata": {},
       "output_type": "pyout",
       "prompt_number": 21,
       "text": [
        "#<struct PDAConfiguration state=2, stack=#<Stack (b)$>>"
       ]
      }
     ],
     "prompt_number": 21
    },
    {
     "cell_type": "markdown",
     "metadata": {},
     "source": [
      "\u81ea\u7531\u79fb\u52d5\u306e\u305f\u3081\u306e\u30d8\u30eb\u30d1\u30fc\u30e1\u30bd\u30c3\u30c9\u3092 `DPDARulebook` \u306b\u8ffd\u52a0\u3059\u308b\u3002"
     ]
    },
    {
     "cell_type": "code",
     "collapsed": false,
     "input": [
      "class DPDARulebook\n",
      "  def applies_to?(configuration, character)\n",
      "    !rule_for(configuration, character).nil?\n",
      "  end\n",
      "  \n",
      "  def follow_free_moves(configuration)\n",
      "    if applies_to?(configuration, nil)\n",
      "      follow_free_moves(next_configuration(configuration, nil))\n",
      "    else\n",
      "      configuration\n",
      "    end\n",
      "  end\n",
      "end"
     ],
     "language": "python",
     "metadata": {},
     "outputs": [
      {
       "metadata": {},
       "output_type": "pyout",
       "prompt_number": 22,
       "text": [
        ":follow_free_moves"
       ]
      }
     ],
     "prompt_number": 22
    },
    {
     "cell_type": "code",
     "collapsed": false,
     "input": [
      "configuraiton = PDAConfiguration.new(2, Stack.new(['$']))"
     ],
     "language": "python",
     "metadata": {},
     "outputs": [
      {
       "metadata": {},
       "output_type": "pyout",
       "prompt_number": 23,
       "text": [
        "#<struct PDAConfiguration state=2, stack=#<Stack ($)>>"
       ]
      }
     ],
     "prompt_number": 23
    },
    {
     "cell_type": "code",
     "collapsed": false,
     "input": [
      "rulebook.follow_free_moves(configuraiton)"
     ],
     "language": "python",
     "metadata": {},
     "outputs": [
      {
       "metadata": {},
       "output_type": "pyout",
       "prompt_number": 24,
       "text": [
        "#<struct PDAConfiguration state=1, stack=#<Stack ($)>>"
       ]
      }
     ],
     "prompt_number": 24
    },
    {
     "cell_type": "markdown",
     "metadata": {},
     "source": [
      "\u898f\u5247\u96c6\u306b\u304a\u3051\u308b\u81ea\u7531\u79fb\u52d5\u306e\u30b5\u30dd\u30fc\u30c8\u3092\u5229\u7528\u3059\u308b\u305f\u3081\u306b\u306f, `DPDA#current_configuration` \u306e\u30c7\u30d5\u30a9\u30eb\u30c8\u5b9f\u88c5\u3092\u4e0a\u66f8\u304d\u3059\u308b\u5fc5\u8981\u304c\u3042\u308b\u3002"
     ]
    },
    {
     "cell_type": "code",
     "collapsed": false,
     "input": [
      "class DPDA\n",
      "  def current_configuration\n",
      "    rulebook.follow_free_moves(super)\n",
      "  end\n",
      "end"
     ],
     "language": "python",
     "metadata": {},
     "outputs": [
      {
       "metadata": {},
       "output_type": "pyout",
       "prompt_number": 25,
       "text": [
        ":current_configuration"
       ]
      }
     ],
     "prompt_number": 25
    },
    {
     "cell_type": "code",
     "collapsed": false,
     "input": [
      "dpda = DPDA.new(PDAConfiguration.new(1, Stack.new(['$'])), [1], rulebook)"
     ],
     "language": "python",
     "metadata": {},
     "outputs": [
      {
       "metadata": {},
       "output_type": "pyout",
       "prompt_number": 26,
       "text": [
        "#<struct DPDA current_configuration=#<struct PDAConfiguration state=1, stack=#<Stack ($)>>, accept_states=[1], rulebook=#<struct DPDARulebook rules=[#<struct PDARule state=1, character=\"(\", next_state=2, pop_character=\"$\", push_characters=[\"b\", \"$\"]>, #<struct PDARule state=2, character=\"(\", next_state=2, pop_character=\"b\", push_characters=[\"b\", \"b\"]>, #<struct PDARule state=2, character=\")\", next_state=2, pop_character=\"b\", push_characters=[]>, #<struct PDARule state=2, character=nil, next_state=1, pop_character=\"$\", push_characters=[\"$\"]>]>>"
       ]
      }
     ],
     "prompt_number": 26
    },
    {
     "cell_type": "code",
     "collapsed": false,
     "input": [
      "dpda.read_string('(()('); dpda.accepting?"
     ],
     "language": "python",
     "metadata": {},
     "outputs": [
      {
       "metadata": {},
       "output_type": "pyout",
       "prompt_number": 27,
       "text": [
        "false"
       ]
      }
     ],
     "prompt_number": 27
    },
    {
     "cell_type": "code",
     "collapsed": false,
     "input": [
      "dpda.current_configuration"
     ],
     "language": "python",
     "metadata": {},
     "outputs": [
      {
       "metadata": {},
       "output_type": "pyout",
       "prompt_number": 28,
       "text": [
        "#<struct PDAConfiguration state=2, stack=#<Stack (b)b$>>"
       ]
      }
     ],
     "prompt_number": 28
    },
    {
     "cell_type": "code",
     "collapsed": false,
     "input": [
      "dpda.read_string('))()'); dpda.accepting?"
     ],
     "language": "python",
     "metadata": {},
     "outputs": [
      {
       "metadata": {},
       "output_type": "pyout",
       "prompt_number": 29,
       "text": [
        "true"
       ]
      }
     ],
     "prompt_number": 29
    },
    {
     "cell_type": "code",
     "collapsed": false,
     "input": [
      "dpda.current_configuration"
     ],
     "language": "python",
     "metadata": {},
     "outputs": [
      {
       "metadata": {},
       "output_type": "pyout",
       "prompt_number": 30,
       "text": [
        "#<struct PDAConfiguration state=1, stack=#<Stack ($)>>"
       ]
      }
     ],
     "prompt_number": 30
    },
    {
     "cell_type": "markdown",
     "metadata": {},
     "source": [
      "`DPDADesing` \u306b\u30e9\u30c3\u30d7\u3059\u308b\u3002"
     ]
    },
    {
     "cell_type": "code",
     "collapsed": false,
     "input": [
      "class DPDADesign < Struct.new(:start_state, :bottom_character, :accept_states, :rulebook)\n",
      "  def accepts?(string)\n",
      "    to_dpda.tap { |dpda| dpda.read_string(string) }.accepting?\n",
      "  end\n",
      "  \n",
      "  def to_dpda\n",
      "    start_stack = Stack.new([bottom_character])\n",
      "    start_configuration = PDAConfiguration.new(start_state, start_stack)\n",
      "    DPDA.new(start_configuration, accept_states, rulebook)\n",
      "  end\n",
      "end"
     ],
     "language": "python",
     "metadata": {},
     "outputs": [
      {
       "metadata": {},
       "output_type": "pyout",
       "prompt_number": 31,
       "text": [
        ":to_dpda"
       ]
      }
     ],
     "prompt_number": 31
    },
    {
     "cell_type": "code",
     "collapsed": false,
     "input": [
      "dpda_design = DPDADesign.new(1, '$', [1], rulebook)"
     ],
     "language": "python",
     "metadata": {},
     "outputs": [
      {
       "metadata": {},
       "output_type": "pyout",
       "prompt_number": 32,
       "text": [
        "#<struct DPDADesign start_state=1, bottom_character=\"$\", accept_states=[1], rulebook=#<struct DPDARulebook rules=[#<struct PDARule state=1, character=\"(\", next_state=2, pop_character=\"$\", push_characters=[\"b\", \"$\"]>, #<struct PDARule state=2, character=\"(\", next_state=2, pop_character=\"b\", push_characters=[\"b\", \"b\"]>, #<struct PDARule state=2, character=\")\", next_state=2, pop_character=\"b\", push_characters=[]>, #<struct PDARule state=2, character=nil, next_state=1, pop_character=\"$\", push_characters=[\"$\"]>]>>"
       ]
      }
     ],
     "prompt_number": 32
    },
    {
     "cell_type": "code",
     "collapsed": false,
     "input": [
      "dpda_design.accepts?('(((((((((())))))))))')"
     ],
     "language": "python",
     "metadata": {},
     "outputs": [
      {
       "metadata": {},
       "output_type": "pyout",
       "prompt_number": 33,
       "text": [
        "true"
       ]
      }
     ],
     "prompt_number": 33
    },
    {
     "cell_type": "code",
     "collapsed": false,
     "input": [
      "dpda_design.accepts?('()(())((()))(()(()))')"
     ],
     "language": "python",
     "metadata": {},
     "outputs": [
      {
       "metadata": {},
       "output_type": "pyout",
       "prompt_number": 34,
       "text": [
        "true"
       ]
      }
     ],
     "prompt_number": 34
    },
    {
     "cell_type": "code",
     "collapsed": false,
     "input": [
      "dpda_design.accepts?('(()(()(()()(()()))()')"
     ],
     "language": "python",
     "metadata": {},
     "outputs": [
      {
       "metadata": {},
       "output_type": "pyout",
       "prompt_number": 35,
       "text": [
        "false"
       ]
      }
     ],
     "prompt_number": 35
    },
    {
     "cell_type": "markdown",
     "metadata": {},
     "source": [
      "DPDA \u3092\u6709\u52b9\u306a\u72b6\u614b\u306e\u307e\u307e\u4fdd\u3064\u3088\u3046\u306a\u5165\u529b\u306b\u5bfe\u3057\u3066\u306f\u5b8c\u5168\u306b\u52d5\u4f5c\u3059\u308b\u304c\u3001\u6a5f\u68b0\u304c\u52d5\u3051\u306a\u304f\u306a\u308b\u3068\u5931\u6557\u3059\u308b\u3002"
     ]
    },
    {
     "cell_type": "code",
     "collapsed": false,
     "input": [
      "dpda_design.accepts?('())')"
     ],
     "language": "python",
     "metadata": {},
     "outputs": [
      {
       "ename": "NoMethodError",
       "evalue": "undefined method `follow' for nil:NilClass",
       "output_type": "pyerr",
       "traceback": [
        "\u001b[31mNoMethodError\u001b[0m: undefined method `follow' for nil:NilClass",
        "\u001b[37m<main>:2:in `next_configuration'\u001b[0m",
        "\u001b[37m<main>:7:in `read_character'\u001b[0m",
        "\u001b[37m<main>:12:in `block in read_string'\u001b[0m",
        "\u001b[37m<main>:11:in `each'\u001b[0m",
        "\u001b[37m<main>:11:in `read_string'\u001b[0m",
        "\u001b[37m<main>:2:in `block in accepts?'\u001b[0m",
        "\u001b[37m<main>:2:in `tap'\u001b[0m",
        "\u001b[37m<main>:2:in `accepts?'\u001b[0m",
        "\u001b[37m<main>:in `<main>'\u001b[0m",
        "\u001b[37m/Users/hidekazu/src/github.com/holidayworking/understanding-computation/vendor/bundle/ruby/2.2.0/gems/iruby-0.1.13/lib/iruby/backend.rb:8:in `eval'\u001b[0m",
        "\u001b[37m/Users/hidekazu/src/github.com/holidayworking/understanding-computation/vendor/bundle/ruby/2.2.0/gems/iruby-0.1.13/lib/iruby/backend.rb:8:in `eval'\u001b[0m",
        "\u001b[37m/Users/hidekazu/src/github.com/holidayworking/understanding-computation/vendor/bundle/ruby/2.2.0/gems/iruby-0.1.13/lib/iruby/kernel.rb:110:in `execute_request'\u001b[0m",
        "\u001b[37m/Users/hidekazu/src/github.com/holidayworking/understanding-computation/vendor/bundle/ruby/2.2.0/gems/iruby-0.1.13/lib/iruby/kernel.rb:62:in `run'\u001b[0m",
        "\u001b[37m/Users/hidekazu/src/github.com/holidayworking/understanding-computation/vendor/bundle/ruby/2.2.0/gems/iruby-0.1.13/lib/iruby/command.rb:30:in `run_kernel'\u001b[0m",
        "\u001b[37m/Users/hidekazu/src/github.com/holidayworking/understanding-computation/vendor/bundle/ruby/2.2.0/gems/iruby-0.1.13/lib/iruby/command.rb:16:in `run'\u001b[0m",
        "\u001b[37m/Users/hidekazu/src/github.com/holidayworking/understanding-computation/vendor/bundle/ruby/2.2.0/gems/iruby-0.1.13/bin/iruby:6:in `<top (required)>'\u001b[0m",
        "\u001b[37m/Users/hidekazu/src/github.com/holidayworking/understanding-computation/vendor/bin/iruby:16:in `load'\u001b[0m",
        "\u001b[37m/Users/hidekazu/src/github.com/holidayworking/understanding-computation/vendor/bin/iruby:16:in `<main>'\u001b[0m"
       ]
      }
     ],
     "prompt_number": 36
    },
    {
     "cell_type": "markdown",
     "metadata": {},
     "source": [
      "`DPDA#read_character` \u3092\u4fee\u6b63\u3057\u3066\u3001\u9069\u7528\u53ef\u80fd\u306a\u898f\u5247\u304c\u3042\u308b\u304b\u3092\u30c1\u30a7\u30c3\u30af\u3057\u3001\u3082\u3057\u306a\u3051\u308c\u3070\u4e8c\u5ea6\u3068\u629c\u3051\u51fa\u305b\u306a\u3044\u7279\u5225\u306a\u884c\u304d\u8a70\u307e\u308a\u72b6\u614b\u306b\u3059\u308b\u3053\u3068\u3067\u3001\u3053\u306e\u554f\u984c\u3092\u4f1a\u8e74\u308b\u3059\u308b\u3002"
     ]
    },
    {
     "cell_type": "code",
     "collapsed": false,
     "input": [
      "class PDAConfiguration\n",
      "  STUCK_STATE = Object.new\n",
      "  \n",
      "  def stuck\n",
      "    PDAConfiguration.new(STUCK_STATE, stack)\n",
      "  end\n",
      "  \n",
      "  def stuck?\n",
      "    state == STUCK_STATE\n",
      "  end\n",
      "end\n",
      "\n",
      "class DPDA\n",
      "  def next_configuration(character)\n",
      "    if rulebook.applies_to?(current_configuration, character)\n",
      "      rulebook.next_configuration(current_configuration, character)\n",
      "    else\n",
      "      current_configuration.stuck\n",
      "    end\n",
      "  end\n",
      "  \n",
      "  def stuck?\n",
      "    current_configuration.stuck?\n",
      "  end\n",
      "  \n",
      "  def read_character(character)\n",
      "    self.current_configuration = next_configuration(character)\n",
      "  end\n",
      "  \n",
      "  def read_string(string)\n",
      "    string.chars.each do |character|\n",
      "      read_character(character) unless self.stuck?\n",
      "    end\n",
      "  end\n",
      "end"
     ],
     "language": "python",
     "metadata": {},
     "outputs": [
      {
       "metadata": {},
       "output_type": "pyout",
       "prompt_number": 37,
       "text": [
        ":read_string"
       ]
      }
     ],
     "prompt_number": 37
    },
    {
     "cell_type": "code",
     "collapsed": false,
     "input": [
      "dpda = DPDA.new(PDAConfiguration.new(1, Stack.new(['$'])), [1], rulebook)"
     ],
     "language": "python",
     "metadata": {},
     "outputs": [
      {
       "metadata": {},
       "output_type": "pyout",
       "prompt_number": 38,
       "text": [
        "#<struct DPDA current_configuration=#<struct PDAConfiguration state=1, stack=#<Stack ($)>>, accept_states=[1], rulebook=#<struct DPDARulebook rules=[#<struct PDARule state=1, character=\"(\", next_state=2, pop_character=\"$\", push_characters=[\"b\", \"$\"]>, #<struct PDARule state=2, character=\"(\", next_state=2, pop_character=\"b\", push_characters=[\"b\", \"b\"]>, #<struct PDARule state=2, character=\")\", next_state=2, pop_character=\"b\", push_characters=[]>, #<struct PDARule state=2, character=nil, next_state=1, pop_character=\"$\", push_characters=[\"$\"]>]>>"
       ]
      }
     ],
     "prompt_number": 38
    },
    {
     "cell_type": "code",
     "collapsed": false,
     "input": [
      "dpda.read_string('())'); dpda.current_configuration"
     ],
     "language": "python",
     "metadata": {},
     "outputs": [
      {
       "metadata": {},
       "output_type": "pyout",
       "prompt_number": 39,
       "text": [
        "#<struct PDAConfiguration state=#<Object:0x007ff711ad0b78>, stack=#<Stack ($)>>"
       ]
      }
     ],
     "prompt_number": 39
    },
    {
     "cell_type": "code",
     "collapsed": false,
     "input": [
      "dpda.accepting?"
     ],
     "language": "python",
     "metadata": {},
     "outputs": [
      {
       "metadata": {},
       "output_type": "pyout",
       "prompt_number": 40,
       "text": [
        "false"
       ]
      }
     ],
     "prompt_number": 40
    },
    {
     "cell_type": "code",
     "collapsed": false,
     "input": [
      "dpda.stuck?"
     ],
     "language": "python",
     "metadata": {},
     "outputs": [
      {
       "metadata": {},
       "output_type": "pyout",
       "prompt_number": 41,
       "text": [
        "true"
       ]
      }
     ],
     "prompt_number": 41
    },
    {
     "cell_type": "code",
     "collapsed": false,
     "input": [
      "dpda_design.accepts?('())')"
     ],
     "language": "python",
     "metadata": {},
     "outputs": [
      {
       "metadata": {},
       "output_type": "pyout",
       "prompt_number": 42,
       "text": [
        "false"
       ]
      }
     ],
     "prompt_number": 42
    },
    {
     "cell_type": "heading",
     "level": 2,
     "metadata": {},
     "source": [
      "4.2 \u975e\u6c7a\u5b9a\u6027\u30d7\u30c3\u30b7\u30e5\u30c0\u30a6\u30f3\u30fb\u30aa\u30fc\u30c8\u30de\u30c8\u30f3"
     ]
    },
    {
     "cell_type": "markdown",
     "metadata": {},
     "source": [
      "\u5358\u7d14\u306a\u4f8b\u3068\u3057\u3066\u3001a \u3068 b \u306e\u6587\u5b57\u3092\u540c\u3058\u6570\u3060\u3051\u542b\u3093\u3060\u6587\u5b57\u5217\u3092\u8a8d\u8b58\u3059\u308b\u6a5f\u68b0\u3092\u898b\u3066\u3044\u304f\u3002"
     ]
    },
    {
     "cell_type": "code",
     "collapsed": false,
     "input": [
      "rulebook = DPDARulebook.new([\n",
      "  PDARule.new(1, 'a', 2, '$', ['a', '$']),\n",
      "  PDARule.new(1, 'b', 2, '$', ['b', '$']),\n",
      "  PDARule.new(2, 'a', 2, 'a', ['a', 'a']),\n",
      "  PDARule.new(2, 'b', 2, 'b', ['b', 'b']),\n",
      "  PDARule.new(2, 'a', 2, 'b', []),\n",
      "  PDARule.new(2, 'b', 2, 'a', []),\n",
      "  PDARule.new(2, nil, 1, '$', ['$']),\n",
      "])"
     ],
     "language": "python",
     "metadata": {},
     "outputs": [
      {
       "metadata": {},
       "output_type": "pyout",
       "prompt_number": 43,
       "text": [
        "#<struct DPDARulebook rules=[#<struct PDARule state=1, character=\"a\", next_state=2, pop_character=\"$\", push_characters=[\"a\", \"$\"]>, #<struct PDARule state=1, character=\"b\", next_state=2, pop_character=\"$\", push_characters=[\"b\", \"$\"]>, #<struct PDARule state=2, character=\"a\", next_state=2, pop_character=\"a\", push_characters=[\"a\", \"a\"]>, #<struct PDARule state=2, character=\"b\", next_state=2, pop_character=\"b\", push_characters=[\"b\", \"b\"]>, #<struct PDARule state=2, character=\"a\", next_state=2, pop_character=\"b\", push_characters=[]>, #<struct PDARule state=2, character=\"b\", next_state=2, pop_character=\"a\", push_characters=[]>, #<struct PDARule state=2, character=nil, next_state=1, pop_character=\"$\", push_characters=[\"$\"]>]>"
       ]
      }
     ],
     "prompt_number": 43
    },
    {
     "cell_type": "code",
     "collapsed": false,
     "input": [
      "dpda_design = DPDADesign.new(1, '$', [1], rulebook)"
     ],
     "language": "python",
     "metadata": {},
     "outputs": [
      {
       "metadata": {},
       "output_type": "pyout",
       "prompt_number": 44,
       "text": [
        "#<struct DPDADesign start_state=1, bottom_character=\"$\", accept_states=[1], rulebook=#<struct DPDARulebook rules=[#<struct PDARule state=1, character=\"a\", next_state=2, pop_character=\"$\", push_characters=[\"a\", \"$\"]>, #<struct PDARule state=1, character=\"b\", next_state=2, pop_character=\"$\", push_characters=[\"b\", \"$\"]>, #<struct PDARule state=2, character=\"a\", next_state=2, pop_character=\"a\", push_characters=[\"a\", \"a\"]>, #<struct PDARule state=2, character=\"b\", next_state=2, pop_character=\"b\", push_characters=[\"b\", \"b\"]>, #<struct PDARule state=2, character=\"a\", next_state=2, pop_character=\"b\", push_characters=[]>, #<struct PDARule state=2, character=\"b\", next_state=2, pop_character=\"a\", push_characters=[]>, #<struct PDARule state=2, character=nil, next_state=1, pop_character=\"$\", push_characters=[\"$\"]>]>>"
       ]
      }
     ],
     "prompt_number": 44
    },
    {
     "cell_type": "code",
     "collapsed": false,
     "input": [
      "dpda_design.accepts?('ababab')"
     ],
     "language": "python",
     "metadata": {},
     "outputs": [
      {
       "metadata": {},
       "output_type": "pyout",
       "prompt_number": 45,
       "text": [
        "true"
       ]
      }
     ],
     "prompt_number": 45
    },
    {
     "cell_type": "code",
     "collapsed": false,
     "input": [
      "dpda_design.accepts?('bbbaaaab')"
     ],
     "language": "python",
     "metadata": {},
     "outputs": [
      {
       "metadata": {},
       "output_type": "pyout",
       "prompt_number": 46,
       "text": [
        "true"
       ]
      }
     ],
     "prompt_number": 46
    },
    {
     "cell_type": "code",
     "collapsed": false,
     "input": [
      "dpda_design.accepts?('baa')"
     ],
     "language": "python",
     "metadata": {},
     "outputs": [
      {
       "metadata": {},
       "output_type": "pyout",
       "prompt_number": 47,
       "text": [
        "false"
       ]
      }
     ],
     "prompt_number": 47
    },
    {
     "cell_type": "markdown",
     "metadata": {},
     "source": [
      "\u6587\u5b57\u5217\u306e\u771f\u3093\u4e2d\u306b\u6587\u5b57 m \u306e\u3042\u308b a \u3068 b \u304b\u3089\u306a\u308b\u56de\u6587\u3092\u8a8d\u8b58\u3059\u308b DPDA \u306e\u30b7\u30df\u30e5\u30ec\u30fc\u30c8\u3092\u3057\u3066\u307f\u308b\u3002"
     ]
    },
    {
     "cell_type": "code",
     "collapsed": false,
     "input": [
      "rulebook = DPDARulebook.new([\n",
      "  PDARule.new(1, 'a', 1, '$', ['a', '$']),\n",
      "  PDARule.new(1, 'a', 1, 'a', ['a', 'a']),\n",
      "  PDARule.new(1, 'a', 1, 'b', ['a', 'b']),\n",
      "  PDARule.new(1, 'b', 1, '$', ['b', '$']),\n",
      "  PDARule.new(1, 'b', 1, 'a', ['b', 'a']),\n",
      "  PDARule.new(1, 'b', 1, 'b', ['b', 'b']),\n",
      "  PDARule.new(1, 'm', 2, '$', ['$']),\n",
      "  PDARule.new(1, 'm', 2, 'a', ['a']),\n",
      "  PDARule.new(1, 'm', 2, 'b', ['b']),\n",
      "  PDARule.new(2, 'a', 2, 'a', []),\n",
      "  PDARule.new(2, 'b', 2, 'b', []),\n",
      "  PDARule.new(2, nil, 3, '$', ['$'])\n",
      "])"
     ],
     "language": "python",
     "metadata": {},
     "outputs": [
      {
       "metadata": {},
       "output_type": "pyout",
       "prompt_number": 48,
       "text": [
        "#<struct DPDARulebook rules=[#<struct PDARule state=1, character=\"a\", next_state=1, pop_character=\"$\", push_characters=[\"a\", \"$\"]>, #<struct PDARule state=1, character=\"a\", next_state=1, pop_character=\"a\", push_characters=[\"a\", \"a\"]>, #<struct PDARule state=1, character=\"a\", next_state=1, pop_character=\"b\", push_characters=[\"a\", \"b\"]>, #<struct PDARule state=1, character=\"b\", next_state=1, pop_character=\"$\", push_characters=[\"b\", \"$\"]>, #<struct PDARule state=1, character=\"b\", next_state=1, pop_character=\"a\", push_characters=[\"b\", \"a\"]>, #<struct PDARule state=1, character=\"b\", next_state=1, pop_character=\"b\", push_characters=[\"b\", \"b\"]>, #<struct PDARule state=1, character=\"m\", next_state=2, pop_character=\"$\", push_characters=[\"$\"]>, #<struct PDARule state=1, character=\"m\", next_state=2, pop_character=\"a\", push_characters=[\"a\"]>, #<struct PDARule state=1, character=\"m\", next_state=2, pop_character=\"b\", push_characters=[\"b\"]>, #<struct PDARule state=2, character=\"a\", next_state=2, pop_character=\"a\", push_characters=[]>, #<struct PDARule state=2, character=\"b\", next_state=2, pop_character=\"b\", push_characters=[]>, #<struct PDARule state=2, character=nil, next_state=3, pop_character=\"$\", push_characters=[\"$\"]>]>"
       ]
      }
     ],
     "prompt_number": 48
    },
    {
     "cell_type": "code",
     "collapsed": false,
     "input": [
      "dpda_design = DPDADesign.new(1, '$', [3], rulebook)"
     ],
     "language": "python",
     "metadata": {},
     "outputs": [
      {
       "metadata": {},
       "output_type": "pyout",
       "prompt_number": 49,
       "text": [
        "#<struct DPDADesign start_state=1, bottom_character=\"$\", accept_states=[3], rulebook=#<struct DPDARulebook rules=[#<struct PDARule state=1, character=\"a\", next_state=1, pop_character=\"$\", push_characters=[\"a\", \"$\"]>, #<struct PDARule state=1, character=\"a\", next_state=1, pop_character=\"a\", push_characters=[\"a\", \"a\"]>, #<struct PDARule state=1, character=\"a\", next_state=1, pop_character=\"b\", push_characters=[\"a\", \"b\"]>, #<struct PDARule state=1, character=\"b\", next_state=1, pop_character=\"$\", push_characters=[\"b\", \"$\"]>, #<struct PDARule state=1, character=\"b\", next_state=1, pop_character=\"a\", push_characters=[\"b\", \"a\"]>, #<struct PDARule state=1, character=\"b\", next_state=1, pop_character=\"b\", push_characters=[\"b\", \"b\"]>, #<struct PDARule state=1, character=\"m\", next_state=2, pop_character=\"$\", push_characters=[\"$\"]>, #<struct PDARule state=1, character=\"m\", next_state=2, pop_character=\"a\", push_characters=[\"a\"]>, #<struct PDARule state=1, character=\"m\", next_state=2, pop_character=\"b\", push_characters=[\"b\"]>, #<struct PDARule state=2, character=\"a\", next_state=2, pop_character=\"a\", push_characters=[]>, #<struct PDARule state=2, character=\"b\", next_state=2, pop_character=\"b\", push_characters=[]>, #<struct PDARule state=2, character=nil, next_state=3, pop_character=\"$\", push_characters=[\"$\"]>]>>"
       ]
      }
     ],
     "prompt_number": 49
    },
    {
     "cell_type": "code",
     "collapsed": false,
     "input": [
      "dpda_design.accepts?('abmba')"
     ],
     "language": "python",
     "metadata": {},
     "outputs": [
      {
       "metadata": {},
       "output_type": "pyout",
       "prompt_number": 50,
       "text": [
        "true"
       ]
      }
     ],
     "prompt_number": 50
    },
    {
     "cell_type": "code",
     "collapsed": false,
     "input": [
      "dpda_design.accepts?('babbamabbab')"
     ],
     "language": "python",
     "metadata": {},
     "outputs": [
      {
       "metadata": {},
       "output_type": "pyout",
       "prompt_number": 51,
       "text": [
        "true"
       ]
      }
     ],
     "prompt_number": 51
    },
    {
     "cell_type": "code",
     "collapsed": false,
     "input": [
      "dpda_design.accepts?('abmb')"
     ],
     "language": "python",
     "metadata": {},
     "outputs": [
      {
       "metadata": {},
       "output_type": "pyout",
       "prompt_number": 52,
       "text": [
        "false"
       ]
      }
     ],
     "prompt_number": 52
    },
    {
     "cell_type": "code",
     "collapsed": false,
     "input": [
      "dpda_design.accepts?('baambaa')"
     ],
     "language": "python",
     "metadata": {},
     "outputs": [
      {
       "metadata": {},
       "output_type": "pyout",
       "prompt_number": 53,
       "text": [
        "false"
       ]
      }
     ],
     "prompt_number": 53
    },
    {
     "cell_type": "heading",
     "level": 3,
     "metadata": {},
     "source": [
      "4.2.1 \u30b7\u30df\u30e5\u30ec\u30fc\u30b7\u30e7\u30f3"
     ]
    },
    {
     "cell_type": "code",
     "collapsed": false,
     "input": [
      "require 'set'\n",
      "\n",
      "class NPDARulebook < Struct.new(:rules)\n",
      "  def next_configurations(configurations, character)\n",
      "    configurations.flat_map { |config| follow_rule_for(config, character) }.to_set\n",
      "  end\n",
      "  \n",
      "  def follow_rule_for(configuration, character)\n",
      "    rules_for(configuration, character).map { |rule| rule.follow(configuration) }\n",
      "  end\n",
      "  \n",
      "  def rules_for(configuration, character)\n",
      "    rules.select { |rule| rule.applies_to?(configuration, character) }\n",
      "  end\n",
      "end"
     ],
     "language": "python",
     "metadata": {},
     "outputs": [
      {
       "metadata": {},
       "output_type": "pyout",
       "prompt_number": 54,
       "text": [
        ":rules_for"
       ]
      }
     ],
     "prompt_number": 54
    },
    {
     "cell_type": "code",
     "collapsed": false,
     "input": [
      "class NPDARulebook\n",
      "  def follow_free_moves(configurations)\n",
      "    more_configurations = next_configurations(configurations, nil)\n",
      "    if more_configurations.subset?(configurations)\n",
      "      configurations\n",
      "    else\n",
      "      follow_free_moves(configurations + more_configurations)\n",
      "    end\n",
      "  end\n",
      "end"
     ],
     "language": "python",
     "metadata": {},
     "outputs": [
      {
       "metadata": {},
       "output_type": "pyout",
       "prompt_number": 55,
       "text": [
        ":follow_free_moves"
       ]
      }
     ],
     "prompt_number": 55
    },
    {
     "cell_type": "code",
     "collapsed": false,
     "input": [
      "class NPDA < Struct.new(:current_configurations, :accept_states, :rulebook)\n",
      "  def accepting?\n",
      "    current_configurations.any? { |config| accept_states.include?(config.state) }\n",
      "  end\n",
      "  \n",
      "  def read_character(character)\n",
      "    self.current_configurations = \n",
      "      rulebook.next_configurations(current_configurations, character)\n",
      "  end\n",
      "  \n",
      "  def read_string(string)\n",
      "    string.chars.each do |character|\n",
      "      read_character(character)\n",
      "    end\n",
      "  end\n",
      "  \n",
      "  def current_configurations\n",
      "    rulebook.follow_free_moves(super)\n",
      "  end\n",
      "end"
     ],
     "language": "python",
     "metadata": {},
     "outputs": [
      {
       "metadata": {},
       "output_type": "pyout",
       "prompt_number": 56,
       "text": [
        ":current_configurations"
       ]
      }
     ],
     "prompt_number": 56
    },
    {
     "cell_type": "code",
     "collapsed": false,
     "input": [
      "rulebook = NPDARulebook.new([\n",
      "  PDARule.new(1, 'a', 1, '$', ['a', '$']),\n",
      "  PDARule.new(1, 'a', 1, 'a', ['a', 'a']),\n",
      "  PDARule.new(1, 'a', 1, 'b', ['a', 'b']),\n",
      "  PDARule.new(1, 'b', 1, '$', ['b', '$']),\n",
      "  PDARule.new(1, 'b', 1, 'a', ['b', 'a']),\n",
      "  PDARule.new(1, 'b', 1, 'b', ['b', 'b']),\n",
      "  PDARule.new(1, nil, 2, '$', ['$']),\n",
      "  PDARule.new(1, nil, 2, 'a', ['a']),\n",
      "  PDARule.new(1, nil, 2, 'b', ['b']),\n",
      "  PDARule.new(2, 'a', 2, 'a', []),\n",
      "  PDARule.new(2, 'b', 2, 'b', []),\n",
      "  PDARule.new(2, nil, 3, '$', ['$'])\n",
      "])"
     ],
     "language": "python",
     "metadata": {},
     "outputs": [
      {
       "metadata": {},
       "output_type": "pyout",
       "prompt_number": 57,
       "text": [
        "#<struct NPDARulebook rules=[#<struct PDARule state=1, character=\"a\", next_state=1, pop_character=\"$\", push_characters=[\"a\", \"$\"]>, #<struct PDARule state=1, character=\"a\", next_state=1, pop_character=\"a\", push_characters=[\"a\", \"a\"]>, #<struct PDARule state=1, character=\"a\", next_state=1, pop_character=\"b\", push_characters=[\"a\", \"b\"]>, #<struct PDARule state=1, character=\"b\", next_state=1, pop_character=\"$\", push_characters=[\"b\", \"$\"]>, #<struct PDARule state=1, character=\"b\", next_state=1, pop_character=\"a\", push_characters=[\"b\", \"a\"]>, #<struct PDARule state=1, character=\"b\", next_state=1, pop_character=\"b\", push_characters=[\"b\", \"b\"]>, #<struct PDARule state=1, character=nil, next_state=2, pop_character=\"$\", push_characters=[\"$\"]>, #<struct PDARule state=1, character=nil, next_state=2, pop_character=\"a\", push_characters=[\"a\"]>, #<struct PDARule state=1, character=nil, next_state=2, pop_character=\"b\", push_characters=[\"b\"]>, #<struct PDARule state=2, character=\"a\", next_state=2, pop_character=\"a\", push_characters=[]>, #<struct PDARule state=2, character=\"b\", next_state=2, pop_character=\"b\", push_characters=[]>, #<struct PDARule state=2, character=nil, next_state=3, pop_character=\"$\", push_characters=[\"$\"]>]>"
       ]
      }
     ],
     "prompt_number": 57
    },
    {
     "cell_type": "code",
     "collapsed": false,
     "input": [
      "configuration = PDAConfiguration.new(1, Stack.new(['$']))"
     ],
     "language": "python",
     "metadata": {},
     "outputs": [
      {
       "metadata": {},
       "output_type": "pyout",
       "prompt_number": 58,
       "text": [
        "#<struct PDAConfiguration state=1, stack=#<Stack ($)>>"
       ]
      }
     ],
     "prompt_number": 58
    },
    {
     "cell_type": "code",
     "collapsed": false,
     "input": [
      "npda = NPDA.new(Set[configuration], [3], rulebook)"
     ],
     "language": "python",
     "metadata": {},
     "outputs": [
      {
       "metadata": {},
       "output_type": "pyout",
       "prompt_number": 59,
       "text": [
        "#<struct NPDA current_configurations=#<Set: {#<struct PDAConfiguration state=1, stack=#<Stack ($)>>}>, accept_states=[3], rulebook=#<struct NPDARulebook rules=[#<struct PDARule state=1, character=\"a\", next_state=1, pop_character=\"$\", push_characters=[\"a\", \"$\"]>, #<struct PDARule state=1, character=\"a\", next_state=1, pop_character=\"a\", push_characters=[\"a\", \"a\"]>, #<struct PDARule state=1, character=\"a\", next_state=1, pop_character=\"b\", push_characters=[\"a\", \"b\"]>, #<struct PDARule state=1, character=\"b\", next_state=1, pop_character=\"$\", push_characters=[\"b\", \"$\"]>, #<struct PDARule state=1, character=\"b\", next_state=1, pop_character=\"a\", push_characters=[\"b\", \"a\"]>, #<struct PDARule state=1, character=\"b\", next_state=1, pop_character=\"b\", push_characters=[\"b\", \"b\"]>, #<struct PDARule state=1, character=nil, next_state=2, pop_character=\"$\", push_characters=[\"$\"]>, #<struct PDARule state=1, character=nil, next_state=2, pop_character=\"a\", push_characters=[\"a\"]>, #<struct PDARule state=1, character=nil, next_state=2, pop_character=\"b\", push_characters=[\"b\"]>, #<struct PDARule state=2, character=\"a\", next_state=2, pop_character=\"a\", push_characters=[]>, #<struct PDARule state=2, character=\"b\", next_state=2, pop_character=\"b\", push_characters=[]>, #<struct PDARule state=2, character=nil, next_state=3, pop_character=\"$\", push_characters=[\"$\"]>]>>"
       ]
      }
     ],
     "prompt_number": 59
    },
    {
     "cell_type": "code",
     "collapsed": false,
     "input": [
      "npda.accepting?"
     ],
     "language": "python",
     "metadata": {},
     "outputs": [
      {
       "metadata": {},
       "output_type": "pyout",
       "prompt_number": 60,
       "text": [
        "true"
       ]
      }
     ],
     "prompt_number": 60
    },
    {
     "cell_type": "code",
     "collapsed": false,
     "input": [
      "npda.current_configurations"
     ],
     "language": "python",
     "metadata": {},
     "outputs": [
      {
       "metadata": {},
       "output_type": "pyout",
       "prompt_number": 61,
       "text": [
        "#<Set: {#<struct PDAConfiguration state=1, stack=#<Stack ($)>>, #<struct PDAConfiguration state=2, stack=#<Stack ($)>>, #<struct PDAConfiguration state=3, stack=#<Stack ($)>>}>"
       ]
      }
     ],
     "prompt_number": 61
    },
    {
     "cell_type": "code",
     "collapsed": false,
     "input": [
      "npda.read_string('abb'); npda.accepting?"
     ],
     "language": "python",
     "metadata": {},
     "outputs": [
      {
       "metadata": {},
       "output_type": "pyout",
       "prompt_number": 62,
       "text": [
        "false"
       ]
      }
     ],
     "prompt_number": 62
    },
    {
     "cell_type": "code",
     "collapsed": false,
     "input": [
      "npda.current_configurations"
     ],
     "language": "python",
     "metadata": {},
     "outputs": [
      {
       "metadata": {},
       "output_type": "pyout",
       "prompt_number": 63,
       "text": [
        "#<Set: {#<struct PDAConfiguration state=1, stack=#<Stack (b)ba$>>, #<struct PDAConfiguration state=2, stack=#<Stack (a)$>>, #<struct PDAConfiguration state=2, stack=#<Stack (b)ba$>>}>"
       ]
      }
     ],
     "prompt_number": 63
    },
    {
     "cell_type": "code",
     "collapsed": false,
     "input": [
      "npda.read_string('a'); npda.accepting?"
     ],
     "language": "python",
     "metadata": {},
     "outputs": [
      {
       "metadata": {},
       "output_type": "pyout",
       "prompt_number": 64,
       "text": [
        "true"
       ]
      }
     ],
     "prompt_number": 64
    },
    {
     "cell_type": "code",
     "collapsed": false,
     "input": [
      "npda.current_configurations"
     ],
     "language": "python",
     "metadata": {},
     "outputs": [
      {
       "metadata": {},
       "output_type": "pyout",
       "prompt_number": 65,
       "text": [
        "#<Set: {#<struct PDAConfiguration state=1, stack=#<Stack (a)bba$>>, #<struct PDAConfiguration state=2, stack=#<Stack ($)>>, #<struct PDAConfiguration state=2, stack=#<Stack (a)bba$>>, #<struct PDAConfiguration state=3, stack=#<Stack ($)>>}>"
       ]
      }
     ],
     "prompt_number": 65
    },
    {
     "cell_type": "code",
     "collapsed": false,
     "input": [
      "class NPDADesign < Struct.new(:start_state, :bottom_character, :accept_states, :rulebook)\n",
      "  def accepts?(string)\n",
      "    to_npda.tap { |npda| npda.read_string(string) }.accepting?\n",
      "  end\n",
      "  \n",
      "  def to_npda\n",
      "    start_stack = Stack.new([bottom_character])\n",
      "    start_configuration = PDAConfiguration.new(start_state, start_stack)\n",
      "    NPDA.new(Set[start_configuration], accept_states, rulebook)\n",
      "  end\n",
      "end"
     ],
     "language": "python",
     "metadata": {},
     "outputs": [
      {
       "metadata": {},
       "output_type": "pyout",
       "prompt_number": 66,
       "text": [
        ":to_npda"
       ]
      }
     ],
     "prompt_number": 66
    },
    {
     "cell_type": "code",
     "collapsed": false,
     "input": [
      "npda_design = NPDADesign.new(1, '$', [3], rulebook)"
     ],
     "language": "python",
     "metadata": {},
     "outputs": [
      {
       "metadata": {},
       "output_type": "pyout",
       "prompt_number": 67,
       "text": [
        "#<struct NPDADesign start_state=1, bottom_character=\"$\", accept_states=[3], rulebook=#<struct NPDARulebook rules=[#<struct PDARule state=1, character=\"a\", next_state=1, pop_character=\"$\", push_characters=[\"a\", \"$\"]>, #<struct PDARule state=1, character=\"a\", next_state=1, pop_character=\"a\", push_characters=[\"a\", \"a\"]>, #<struct PDARule state=1, character=\"a\", next_state=1, pop_character=\"b\", push_characters=[\"a\", \"b\"]>, #<struct PDARule state=1, character=\"b\", next_state=1, pop_character=\"$\", push_characters=[\"b\", \"$\"]>, #<struct PDARule state=1, character=\"b\", next_state=1, pop_character=\"a\", push_characters=[\"b\", \"a\"]>, #<struct PDARule state=1, character=\"b\", next_state=1, pop_character=\"b\", push_characters=[\"b\", \"b\"]>, #<struct PDARule state=1, character=nil, next_state=2, pop_character=\"$\", push_characters=[\"$\"]>, #<struct PDARule state=1, character=nil, next_state=2, pop_character=\"a\", push_characters=[\"a\"]>, #<struct PDARule state=1, character=nil, next_state=2, pop_character=\"b\", push_characters=[\"b\"]>, #<struct PDARule state=2, character=\"a\", next_state=2, pop_character=\"a\", push_characters=[]>, #<struct PDARule state=2, character=\"b\", next_state=2, pop_character=\"b\", push_characters=[]>, #<struct PDARule state=2, character=nil, next_state=3, pop_character=\"$\", push_characters=[\"$\"]>]>>"
       ]
      }
     ],
     "prompt_number": 67
    },
    {
     "cell_type": "code",
     "collapsed": false,
     "input": [
      "npda_design.accepts?('abba')"
     ],
     "language": "python",
     "metadata": {},
     "outputs": [
      {
       "metadata": {},
       "output_type": "pyout",
       "prompt_number": 68,
       "text": [
        "true"
       ]
      }
     ],
     "prompt_number": 68
    },
    {
     "cell_type": "code",
     "collapsed": false,
     "input": [
      "npda_design.accepts?('babbaabbab')"
     ],
     "language": "python",
     "metadata": {},
     "outputs": [
      {
       "metadata": {},
       "output_type": "pyout",
       "prompt_number": 69,
       "text": [
        "true"
       ]
      }
     ],
     "prompt_number": 69
    },
    {
     "cell_type": "code",
     "collapsed": false,
     "input": [
      "npda_design.accepts?('abb')"
     ],
     "language": "python",
     "metadata": {},
     "outputs": [
      {
       "metadata": {},
       "output_type": "pyout",
       "prompt_number": 70,
       "text": [
        "false"
       ]
      }
     ],
     "prompt_number": 70
    },
    {
     "cell_type": "code",
     "collapsed": false,
     "input": [
      "npda_design.accepts?('baabaa')"
     ],
     "language": "python",
     "metadata": {},
     "outputs": [
      {
       "metadata": {},
       "output_type": "pyout",
       "prompt_number": 71,
       "text": [
        "false"
       ]
      }
     ],
     "prompt_number": 71
    },
    {
     "cell_type": "heading",
     "level": 2,
     "metadata": {},
     "source": [
      "4.3 \u30d7\u30c3\u30b7\u30e5\u30c0\u30a6\u30f3\u30fb\u30aa\u30fc\u30c8\u30de\u30c8\u30f3\u306b\u3088\u308b\u30d1\u30fc\u30b9"
     ]
    },
    {
     "cell_type": "heading",
     "level": 3,
     "metadata": {},
     "source": [
      "4.3.1 \u5b57\u53e5\u89e3\u6790"
     ]
    },
    {
     "cell_type": "code",
     "collapsed": false,
     "input": [
      "class LexicalAnalyzer < Struct.new(:string)\n",
      "  GRAMMER = [\n",
      "    { token: 'i', pattern: /if/         },\n",
      "    { token: 'e', pattern: /else/       },\n",
      "    { token: 'w', pattern: /while/      },\n",
      "    { token: 'd', pattern: /do-nothing/ },\n",
      "    { token: '(', pattern: /\\(/         },\n",
      "    { token: ')', pattern: /\\)/         },\n",
      "    { token: '{', pattern: /\\{/         },\n",
      "    { token: '}', pattern: /\\}/         },\n",
      "    { token: ';', pattern: /;/          },\n",
      "    { token: '=', pattern: /=/          },\n",
      "    { token: '+', pattern: /\\+/         },\n",
      "    { token: '*', pattern: /\\*/         },\n",
      "    { token: '<', pattern: /</          },\n",
      "    { token: 'n', pattern: /[0-9]+/     },\n",
      "    { token: 'b', pattern: /true|false/ },\n",
      "    { token: 'v', pattern: /[a-z]+/     }\n",
      "  ]\n",
      "  \n",
      "  def analyze\n",
      "    [].tap do |tokens|\n",
      "      while more_tokens?\n",
      "        tokens.push(next_token)\n",
      "      end\n",
      "    end\n",
      "  end\n",
      "  \n",
      "  def more_tokens?\n",
      "    !string.empty?\n",
      "  end\n",
      "  \n",
      "  def next_token\n",
      "    rule, match = rule_matching(string)\n",
      "    self.string = string_after(match)\n",
      "    rule[:token]\n",
      "  end\n",
      "  \n",
      "  def rule_matching(string)\n",
      "    matches = GRAMMER.map { |rule| match_at_beginning(rule[:pattern], string) }\n",
      "    rules_with_matches = GRAMMER.zip(matches).reject { |rule, match| match.nil? }\n",
      "    rule_with_longest_match(rules_with_matches)\n",
      "  end\n",
      "  \n",
      "  def match_at_beginning(pattern, string)\n",
      "    /\\A#{pattern}/.match(string)\n",
      "  end\n",
      "  \n",
      "  def rule_with_longest_match(rules_with_matches)\n",
      "    rules_with_matches.max_by { |rule, match| match.to_s.length }\n",
      "  end\n",
      "  \n",
      "  def string_after(match)\n",
      "    match.post_match.lstrip\n",
      "  end\n",
      "end"
     ],
     "language": "python",
     "metadata": {},
     "outputs": [
      {
       "metadata": {},
       "output_type": "pyout",
       "prompt_number": 72,
       "text": [
        ":string_after"
       ]
      }
     ],
     "prompt_number": 72
    },
    {
     "cell_type": "code",
     "collapsed": false,
     "input": [
      "LexicalAnalyzer.new('y = x * 7').analyze"
     ],
     "language": "python",
     "metadata": {},
     "outputs": [
      {
       "metadata": {},
       "output_type": "pyout",
       "prompt_number": 73,
       "text": [
        "[\"v\", \"=\", \"v\", \"*\", \"n\"]"
       ]
      }
     ],
     "prompt_number": 73
    },
    {
     "cell_type": "code",
     "collapsed": false,
     "input": [
      "LexicalAnalyzer.new('while (x < 5) { x = x * 3 }').analyze"
     ],
     "language": "python",
     "metadata": {},
     "outputs": [
      {
       "metadata": {},
       "output_type": "pyout",
       "prompt_number": 74,
       "text": [
        "[\"w\", \"(\", \"v\", \"<\", \"n\", \")\", \"{\", \"v\", \"=\", \"v\", \"*\", \"n\", \"}\"]"
       ]
      }
     ],
     "prompt_number": 74
    },
    {
     "cell_type": "code",
     "collapsed": false,
     "input": [
      "LexicalAnalyzer.new('if (x < 10) { y = true; x = 0} else { do-nothing }').analyze"
     ],
     "language": "python",
     "metadata": {},
     "outputs": [
      {
       "metadata": {},
       "output_type": "pyout",
       "prompt_number": 75,
       "text": [
        "[\"i\", \"(\", \"v\", \"<\", \"n\", \")\", \"{\", \"v\", \"=\", \"b\", \";\", \"v\", \"=\", \"n\", \"}\", \"e\", \"{\", \"d\", \"}\"]"
       ]
      }
     ],
     "prompt_number": 75
    },
    {
     "cell_type": "heading",
     "level": 3,
     "metadata": {},
     "source": [
      "4.3.2 \u69cb\u6587\u89e3\u6790"
     ]
    },
    {
     "cell_type": "code",
     "collapsed": false,
     "input": [
      "start_rule = PDARule.new(1, nil, 2, '$', ['S', '$'])"
     ],
     "language": "python",
     "metadata": {},
     "outputs": [
      {
       "metadata": {},
       "output_type": "pyout",
       "prompt_number": 76,
       "text": [
        "#<struct PDARule state=1, character=nil, next_state=2, pop_character=\"$\", push_characters=[\"S\", \"$\"]>"
       ]
      }
     ],
     "prompt_number": 76
    },
    {
     "cell_type": "code",
     "collapsed": false,
     "input": [
      "symbol_rules = [\n",
      "  PDARule.new(2, nil, 2, 'S', ['W']),\n",
      "  PDARule.new(2, nil, 2, 'S', ['A']),\n",
      "  PDARule.new(2, nil, 2, 'W', ['w', '(', 'E', ')', '{', 'S', '}']),\n",
      "  PDARule.new(2, nil, 2, 'A', ['v', '=', 'E']),\n",
      "  PDARule.new(2, nil, 2, 'E', ['L']),\n",
      "  PDARule.new(2, nil, 2, 'L', ['M', '<', 'L']),\n",
      "  PDARule.new(2, nil, 2, 'L', ['M']),\n",
      "  PDARule.new(2, nil, 2, 'M', ['T', '*', 'M']),\n",
      "  PDARule.new(2, nil, 2, 'M', ['T']),\n",
      "  PDARule.new(2, nil, 2, 'T', ['n']),\n",
      "  PDARule.new(2, nil, 2, 'T', ['v'])\n",
      "]"
     ],
     "language": "python",
     "metadata": {},
     "outputs": [
      {
       "metadata": {},
       "output_type": "pyout",
       "prompt_number": 77,
       "text": [
        "[#<struct PDARule state=2, character=nil, next_state=2, pop_character=\"S\", push_characters=[\"W\"]>, #<struct PDARule state=2, character=nil, next_state=2, pop_character=\"S\", push_characters=[\"A\"]>, #<struct PDARule state=2, character=nil, next_state=2, pop_character=\"W\", push_characters=[\"w\", \"(\", \"E\", \")\", \"{\", \"S\", \"}\"]>, #<struct PDARule state=2, character=nil, next_state=2, pop_character=\"A\", push_characters=[\"v\", \"=\", \"E\"]>, #<struct PDARule state=2, character=nil, next_state=2, pop_character=\"E\", push_characters=[\"L\"]>, #<struct PDARule state=2, character=nil, next_state=2, pop_character=\"L\", push_characters=[\"M\", \"<\", \"L\"]>, #<struct PDARule state=2, character=nil, next_state=2, pop_character=\"L\", push_characters=[\"M\"]>, #<struct PDARule state=2, character=nil, next_state=2, pop_character=\"M\", push_characters=[\"T\", \"*\", \"M\"]>, #<struct PDARule state=2, character=nil, next_state=2, pop_character=\"M\", push_characters=[\"T\"]>, #<struct PDARule state=2, character=nil, next_state=2, pop_character=\"T\", push_characters=[\"n\"]>, #<struct PDARule state=2, character=nil, next_state=2, pop_character=\"T\", push_characters=[\"v\"]>]"
       ]
      }
     ],
     "prompt_number": 77
    },
    {
     "cell_type": "code",
     "collapsed": false,
     "input": [
      "token_rules = LexicalAnalyzer::GRAMMER.map do |rule|\n",
      "  PDARule.new(2, rule[:token], 2, rule[:token], [])\n",
      "end"
     ],
     "language": "python",
     "metadata": {},
     "outputs": [
      {
       "metadata": {},
       "output_type": "pyout",
       "prompt_number": 78,
       "text": [
        "[#<struct PDARule state=2, character=\"i\", next_state=2, pop_character=\"i\", push_characters=[]>, #<struct PDARule state=2, character=\"e\", next_state=2, pop_character=\"e\", push_characters=[]>, #<struct PDARule state=2, character=\"w\", next_state=2, pop_character=\"w\", push_characters=[]>, #<struct PDARule state=2, character=\"d\", next_state=2, pop_character=\"d\", push_characters=[]>, #<struct PDARule state=2, character=\"(\", next_state=2, pop_character=\"(\", push_characters=[]>, #<struct PDARule state=2, character=\")\", next_state=2, pop_character=\")\", push_characters=[]>, #<struct PDARule state=2, character=\"{\", next_state=2, pop_character=\"{\", push_characters=[]>, #<struct PDARule state=2, character=\"}\", next_state=2, pop_character=\"}\", push_characters=[]>, #<struct PDARule state=2, character=\";\", next_state=2, pop_character=\";\", push_characters=[]>, #<struct PDARule state=2, character=\"=\", next_state=2, pop_character=\"=\", push_characters=[]>, #<struct PDARule state=2, character=\"+\", next_state=2, pop_character=\"+\", push_characters=[]>, #<struct PDARule state=2, character=\"*\", next_state=2, pop_character=\"*\", push_characters=[]>, #<struct PDARule state=2, character=\"<\", next_state=2, pop_character=\"<\", push_characters=[]>, #<struct PDARule state=2, character=\"n\", next_state=2, pop_character=\"n\", push_characters=[]>, #<struct PDARule state=2, character=\"b\", next_state=2, pop_character=\"b\", push_characters=[]>, #<struct PDARule state=2, character=\"v\", next_state=2, pop_character=\"v\", push_characters=[]>]"
       ]
      }
     ],
     "prompt_number": 78
    },
    {
     "cell_type": "code",
     "collapsed": false,
     "input": [
      "stop_rule = PDARule.new(2, nil, 3, '$', ['$'])"
     ],
     "language": "python",
     "metadata": {},
     "outputs": [
      {
       "metadata": {},
       "output_type": "pyout",
       "prompt_number": 79,
       "text": [
        "#<struct PDARule state=2, character=nil, next_state=3, pop_character=\"$\", push_characters=[\"$\"]>"
       ]
      }
     ],
     "prompt_number": 79
    },
    {
     "cell_type": "code",
     "collapsed": false,
     "input": [
      "rulebook = NPDARulebook.new([start_rule, stop_rule] + symbol_rules + token_rules)"
     ],
     "language": "python",
     "metadata": {},
     "outputs": [
      {
       "metadata": {},
       "output_type": "pyout",
       "prompt_number": 80,
       "text": [
        "#<struct NPDARulebook rules=[#<struct PDARule state=1, character=nil, next_state=2, pop_character=\"$\", push_characters=[\"S\", \"$\"]>, #<struct PDARule state=2, character=nil, next_state=3, pop_character=\"$\", push_characters=[\"$\"]>, #<struct PDARule state=2, character=nil, next_state=2, pop_character=\"S\", push_characters=[\"W\"]>, #<struct PDARule state=2, character=nil, next_state=2, pop_character=\"S\", push_characters=[\"A\"]>, #<struct PDARule state=2, character=nil, next_state=2, pop_character=\"W\", push_characters=[\"w\", \"(\", \"E\", \")\", \"{\", \"S\", \"}\"]>, #<struct PDARule state=2, character=nil, next_state=2, pop_character=\"A\", push_characters=[\"v\", \"=\", \"E\"]>, #<struct PDARule state=2, character=nil, next_state=2, pop_character=\"E\", push_characters=[\"L\"]>, #<struct PDARule state=2, character=nil, next_state=2, pop_character=\"L\", push_characters=[\"M\", \"<\", \"L\"]>, #<struct PDARule state=2, character=nil, next_state=2, pop_character=\"L\", push_characters=[\"M\"]>, #<struct PDARule state=2, character=nil, next_state=2, pop_character=\"M\", push_characters=[\"T\", \"*\", \"M\"]>, #<struct PDARule state=2, character=nil, next_state=2, pop_character=\"M\", push_characters=[\"T\"]>, #<struct PDARule state=2, character=nil, next_state=2, pop_character=\"T\", push_characters=[\"n\"]>, #<struct PDARule state=2, character=nil, next_state=2, pop_character=\"T\", push_characters=[\"v\"]>, #<struct PDARule state=2, character=\"i\", next_state=2, pop_character=\"i\", push_characters=[]>, #<struct PDARule state=2, character=\"e\", next_state=2, pop_character=\"e\", push_characters=[]>, #<struct PDARule state=2, character=\"w\", next_state=2, pop_character=\"w\", push_characters=[]>, #<struct PDARule state=2, character=\"d\", next_state=2, pop_character=\"d\", push_characters=[]>, #<struct PDARule state=2, character=\"(\", next_state=2, pop_character=\"(\", push_characters=[]>, #<struct PDARule state=2, character=\")\", next_state=2, pop_character=\")\", push_characters=[]>, #<struct PDARule state=2, character=\"{\", next_state=2, pop_character=\"{\", push_characters=[]>, #<struct PDARule state=2, character=\"}\", next_state=2, pop_character=\"}\", push_characters=[]>, #<struct PDARule state=2, character=\";\", next_state=2, pop_character=\";\", push_characters=[]>, #<struct PDARule state=2, character=\"=\", next_state=2, pop_character=\"=\", push_characters=[]>, #<struct PDARule state=2, character=\"+\", next_state=2, pop_character=\"+\", push_characters=[]>, #<struct PDARule state=2, character=\"*\", next_state=2, pop_character=\"*\", push_characters=[]>, #<struct PDARule state=2, character=\"<\", next_state=2, pop_character=\"<\", push_characters=[]>, #<struct PDARule state=2, character=\"n\", next_state=2, pop_character=\"n\", push_characters=[]>, #<struct PDARule state=2, character=\"b\", next_state=2, pop_character=\"b\", push_characters=[]>, #<struct PDARule state=2, character=\"v\", next_state=2, pop_character=\"v\", push_characters=[]>]>"
       ]
      }
     ],
     "prompt_number": 80
    },
    {
     "cell_type": "code",
     "collapsed": false,
     "input": [
      "npda_design = NPDADesign.new(1, '$', [3], rulebook)"
     ],
     "language": "python",
     "metadata": {},
     "outputs": [
      {
       "metadata": {},
       "output_type": "pyout",
       "prompt_number": 81,
       "text": [
        "#<struct NPDADesign start_state=1, bottom_character=\"$\", accept_states=[3], rulebook=#<struct NPDARulebook rules=[#<struct PDARule state=1, character=nil, next_state=2, pop_character=\"$\", push_characters=[\"S\", \"$\"]>, #<struct PDARule state=2, character=nil, next_state=3, pop_character=\"$\", push_characters=[\"$\"]>, #<struct PDARule state=2, character=nil, next_state=2, pop_character=\"S\", push_characters=[\"W\"]>, #<struct PDARule state=2, character=nil, next_state=2, pop_character=\"S\", push_characters=[\"A\"]>, #<struct PDARule state=2, character=nil, next_state=2, pop_character=\"W\", push_characters=[\"w\", \"(\", \"E\", \")\", \"{\", \"S\", \"}\"]>, #<struct PDARule state=2, character=nil, next_state=2, pop_character=\"A\", push_characters=[\"v\", \"=\", \"E\"]>, #<struct PDARule state=2, character=nil, next_state=2, pop_character=\"E\", push_characters=[\"L\"]>, #<struct PDARule state=2, character=nil, next_state=2, pop_character=\"L\", push_characters=[\"M\", \"<\", \"L\"]>, #<struct PDARule state=2, character=nil, next_state=2, pop_character=\"L\", push_characters=[\"M\"]>, #<struct PDARule state=2, character=nil, next_state=2, pop_character=\"M\", push_characters=[\"T\", \"*\", \"M\"]>, #<struct PDARule state=2, character=nil, next_state=2, pop_character=\"M\", push_characters=[\"T\"]>, #<struct PDARule state=2, character=nil, next_state=2, pop_character=\"T\", push_characters=[\"n\"]>, #<struct PDARule state=2, character=nil, next_state=2, pop_character=\"T\", push_characters=[\"v\"]>, #<struct PDARule state=2, character=\"i\", next_state=2, pop_character=\"i\", push_characters=[]>, #<struct PDARule state=2, character=\"e\", next_state=2, pop_character=\"e\", push_characters=[]>, #<struct PDARule state=2, character=\"w\", next_state=2, pop_character=\"w\", push_characters=[]>, #<struct PDARule state=2, character=\"d\", next_state=2, pop_character=\"d\", push_characters=[]>, #<struct PDARule state=2, character=\"(\", next_state=2, pop_character=\"(\", push_characters=[]>, #<struct PDARule state=2, character=\")\", next_state=2, pop_character=\")\", push_characters=[]>, #<struct PDARule state=2, character=\"{\", next_state=2, pop_character=\"{\", push_characters=[]>, #<struct PDARule state=2, character=\"}\", next_state=2, pop_character=\"}\", push_characters=[]>, #<struct PDARule state=2, character=\";\", next_state=2, pop_character=\";\", push_characters=[]>, #<struct PDARule state=2, character=\"=\", next_state=2, pop_character=\"=\", push_characters=[]>, #<struct PDARule state=2, character=\"+\", next_state=2, pop_character=\"+\", push_characters=[]>, #<struct PDARule state=2, character=\"*\", next_state=2, pop_character=\"*\", push_characters=[]>, #<struct PDARule state=2, character=\"<\", next_state=2, pop_character=\"<\", push_characters=[]>, #<struct PDARule state=2, character=\"n\", next_state=2, pop_character=\"n\", push_characters=[]>, #<struct PDARule state=2, character=\"b\", next_state=2, pop_character=\"b\", push_characters=[]>, #<struct PDARule state=2, character=\"v\", next_state=2, pop_character=\"v\", push_characters=[]>]>>"
       ]
      }
     ],
     "prompt_number": 81
    },
    {
     "cell_type": "code",
     "collapsed": false,
     "input": [
      "token_string = LexicalAnalyzer.new('while (x < 5) { x = x * 3 }').analyze.join"
     ],
     "language": "python",
     "metadata": {},
     "outputs": [
      {
       "metadata": {},
       "output_type": "pyout",
       "prompt_number": 82,
       "text": [
        "\"w(v<n){v=v*n}\""
       ]
      }
     ],
     "prompt_number": 82
    },
    {
     "cell_type": "code",
     "collapsed": false,
     "input": [
      "npda_design.accepts?(token_string)"
     ],
     "language": "python",
     "metadata": {},
     "outputs": [
      {
       "metadata": {},
       "output_type": "pyout",
       "prompt_number": 83,
       "text": [
        "true"
       ]
      }
     ],
     "prompt_number": 83
    },
    {
     "cell_type": "code",
     "collapsed": false,
     "input": [
      "npda_design.accepts?(LexicalAnalyzer.new('while (x < 5) x = x * }').analyze.join)"
     ],
     "language": "python",
     "metadata": {},
     "outputs": [
      {
       "metadata": {},
       "output_type": "pyout",
       "prompt_number": 84,
       "text": [
        "false"
       ]
      }
     ],
     "prompt_number": 84
    }
   ],
   "metadata": {}
  }
 ]
}