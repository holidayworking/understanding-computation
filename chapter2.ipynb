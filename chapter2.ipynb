{
 "metadata": {
  "language": "ruby",
  "name": "",
  "signature": "sha256:a606520bcc4e33dcfaefee072005fb69b0c1ac3170541ffa3a76308fdd33eb5c"
 },
 "nbformat": 3,
 "nbformat_minor": 0,
 "worksheets": [
  {
   "cells": [
    {
     "cell_type": "heading",
     "level": 1,
     "metadata": {},
     "source": [
      "2\u7ae0 \u30d7\u30ed\u30b0\u30e9\u30e0\u306e\u610f\u5473"
     ]
    },
    {
     "cell_type": "heading",
     "level": 2,
     "metadata": {},
     "source": [
      "2.3 \u64cd\u4f5c\u7684\u610f\u5473\u8ad6"
     ]
    },
    {
     "cell_type": "heading",
     "level": 3,
     "metadata": {},
     "source": [
      "2.3.1 \u30b9\u30e2\u30fc\u30eb\u30b9\u30c6\u30c3\u30d7\u610f\u5473\u8ad6"
     ]
    },
    {
     "cell_type": "heading",
     "level": 4,
     "metadata": {},
     "source": [
      "2.3.1.1 \u5f0f"
     ]
    },
    {
     "cell_type": "markdown",
     "metadata": {},
     "source": [
      "`Number`\u3001`Add`\u3001`Multiply` \u3068\u3044\u3046\u30af\u30e9\u30b9\u306f\u306e\u5b9a\u7fa9\u306f\u4ee5\u4e0b\u306e\u3088\u3046\u306b\u306a\u308b\u3002"
     ]
    },
    {
     "cell_type": "code",
     "collapsed": true,
     "input": [
      "class Number < Struct.new(:value)\n",
      "end\n",
      "\n",
      "class Add < Struct.new(:left, :right)\n",
      "end\n",
      "\n",
      "class Multiply < Struct.new(:left, :right)\n",
      "end"
     ],
     "language": "python",
     "metadata": {},
     "outputs": [],
     "prompt_number": 1
    },
    {
     "cell_type": "markdown",
     "metadata": {},
     "source": [
      "\u3053\u308c\u3089\u306e\u30af\u30e9\u30b9\u3092\u30a4\u30f3\u30b9\u30bf\u30f3\u30b9\u5316\u3059\u308b\u3053\u3068\u3067\u3001\u624b\u4f5c\u696d\u3067\u62bd\u8c61\u69cb\u6587\u6728\u3092\u69cb\u7bc9\u3059\u308b\u3053\u3068\u304c\u3067\u304d\u308b\u3002"
     ]
    },
    {
     "cell_type": "code",
     "collapsed": false,
     "input": [
      "Add.new(\n",
      "  Multiply.new(Number.new(1), Number.new(2)),\n",
      "  Multiply.new(Number.new(3), Number.new(4))\n",
      ")"
     ],
     "language": "python",
     "metadata": {},
     "outputs": [
      {
       "metadata": {},
       "output_type": "pyout",
       "prompt_number": 2,
       "text": [
        "#<struct Add left=#<struct Multiply left=#<struct Number value=1>, right=#<struct Number value=2>>, right=#<struct Multiply left=#<struct Number value=3>, right=#<struct Number value=4>>>"
       ]
      }
     ],
     "prompt_number": 2
    },
    {
     "cell_type": "markdown",
     "metadata": {},
     "source": [
      "\u62bd\u8c61\u69cb\u6587\u6728\u306e\u5185\u5bb9\u304c\u898b\u3084\u3059\u304f\u306a\u308b\u3088\u3046\u306b\u3001\u5404\u30af\u30e9\u30b9\u306e `#inspect` \u3092\u30aa\u30fc\u30d0\u30fc\u30e9\u30a4\u30c9\u3059\u308b\u3002"
     ]
    },
    {
     "cell_type": "code",
     "collapsed": false,
     "input": [
      "class Number\n",
      "  def to_s\n",
      "    value.to_s\n",
      "  end\n",
      "  \n",
      "  def inspect\n",
      "    \"<<#{self}>>\"\n",
      "  end\n",
      "end\n",
      "\n",
      "class Add\n",
      "  def to_s\n",
      "    \"#{left} + #{right}\"\n",
      "  end\n",
      "  \n",
      "  def inspect\n",
      "    \"<<#{self}>>\"\n",
      "  end\n",
      "end\n",
      "\n",
      "class Multiply\n",
      "  def to_s\n",
      "    \"#{left} * #{right}\"\n",
      "  end\n",
      "  \n",
      "  def inspect\n",
      "    \"<<#{self}>>\"\n",
      "  end\n",
      "end"
     ],
     "language": "python",
     "metadata": {},
     "outputs": [
      {
       "metadata": {},
       "output_type": "pyout",
       "prompt_number": 3,
       "text": [
        ":inspect"
       ]
      }
     ],
     "prompt_number": 3
    },
    {
     "cell_type": "code",
     "collapsed": false,
     "input": [
      "Add.new(\n",
      "  Multiply.new(Number.new(1), Number.new(2)),\n",
      "  Multiply.new(Number.new(3), Number.new(4))\n",
      ")"
     ],
     "language": "python",
     "metadata": {},
     "outputs": [
      {
       "metadata": {},
       "output_type": "pyout",
       "prompt_number": 4,
       "text": [
        "<<1 * 2 + 3 * 4>>"
       ]
      }
     ],
     "prompt_number": 4
    },
    {
     "cell_type": "code",
     "collapsed": false,
     "input": [
      "Number.new(5)"
     ],
     "language": "python",
     "metadata": {},
     "outputs": [
      {
       "metadata": {},
       "output_type": "pyout",
       "prompt_number": 5,
       "text": [
        "<<5>>"
       ]
      }
     ],
     "prompt_number": 5
    },
    {
     "cell_type": "markdown",
     "metadata": {},
     "source": [
      "\u62bd\u8c61\u69cb\u6587\u6728\u3067\u7c21\u7d04\u3092\u5b9f\u884c\u3059\u308b\u30e1\u30bd\u30c3\u30c9\u3092\u5404\u30af\u30e9\u30b9\u306b\u5b9a\u7fa9\u3057\u3066\u3044\u304f\u3002"
     ]
    },
    {
     "cell_type": "code",
     "collapsed": false,
     "input": [
      "class Number\n",
      "  def reducible?\n",
      "    false\n",
      "  end\n",
      "end\n",
      "\n",
      "class Add\n",
      "  def reducible?\n",
      "    true\n",
      "  end\n",
      "end\n",
      "\n",
      "class Multiply\n",
      "  def reducible?\n",
      "    true\n",
      "  end\n",
      "end"
     ],
     "language": "python",
     "metadata": {},
     "outputs": [
      {
       "metadata": {},
       "output_type": "pyout",
       "prompt_number": 6,
       "text": [
        ":reducible?"
       ]
      }
     ],
     "prompt_number": 6
    },
    {
     "cell_type": "code",
     "collapsed": false,
     "input": [
      "Number.new(1).reducible?"
     ],
     "language": "python",
     "metadata": {},
     "outputs": [
      {
       "metadata": {},
       "output_type": "pyout",
       "prompt_number": 7,
       "text": [
        "false"
       ]
      }
     ],
     "prompt_number": 7
    },
    {
     "cell_type": "code",
     "collapsed": false,
     "input": [
      "Add.new(Number.new(1), Number.new(2)).reducible?"
     ],
     "language": "python",
     "metadata": {},
     "outputs": [
      {
       "metadata": {},
       "output_type": "pyout",
       "prompt_number": 8,
       "text": [
        "true"
       ]
      }
     ],
     "prompt_number": 8
    },
    {
     "cell_type": "code",
     "collapsed": false,
     "input": [
      "class Add\n",
      "  def reduce\n",
      "    if left.reducible?\n",
      "      Add.new(left.reduce, right)\n",
      "    elsif right.reducible?\n",
      "      Add.new(left, right.reduce)\n",
      "    else\n",
      "      Number.new(left.value + right.value)\n",
      "    end\n",
      "  end\n",
      "end\n",
      "\n",
      "class Multiply\n",
      "  def reduce\n",
      "    if left.reducible?\n",
      "      Multiply.new(left.reduce, right)\n",
      "    elsif right.reducible?\n",
      "      Multiply.new(left, right.reduce)\n",
      "    else\n",
      "      Number.new(left.value * right.value)\n",
      "    end\n",
      "  end\n",
      "end"
     ],
     "language": "python",
     "metadata": {},
     "outputs": [
      {
       "metadata": {},
       "output_type": "pyout",
       "prompt_number": 9,
       "text": [
        ":reduce"
       ]
      }
     ],
     "prompt_number": 9
    },
    {
     "cell_type": "markdown",
     "metadata": {},
     "source": [
      "\u5f0f\u306e\u7a2e\u985e\u3054\u3068\u306b `#reduce` \u3092\u5b9f\u88c5\u3057\u305f\u306e\u3067\u3001\u3053\u308c\u3089\u3092\u30b9\u30e2\u30fc\u30eb\u30b9\u30c6\u30c3\u30d7\u3067\u7e70\u308a\u8fd4\u3057\u547c\u3073\u51fa\u3059\u3053\u3068\u3067\u3001\u5f0f\u3092\u5b8c\u5168\u306b\u8a55\u4fa1\u3067\u304d\u308b\u3002"
     ]
    },
    {
     "cell_type": "code",
     "collapsed": false,
     "input": [
      "expression = Add.new(\n",
      "  Multiply.new(Number.new(1), Number.new(2)),\n",
      "  Multiply.new(Number.new(3), Number.new(4))\n",
      ")"
     ],
     "language": "python",
     "metadata": {},
     "outputs": [
      {
       "metadata": {},
       "output_type": "pyout",
       "prompt_number": 10,
       "text": [
        "<<1 * 2 + 3 * 4>>"
       ]
      }
     ],
     "prompt_number": 10
    },
    {
     "cell_type": "code",
     "collapsed": false,
     "input": [
      "expression.reducible?"
     ],
     "language": "python",
     "metadata": {},
     "outputs": [
      {
       "metadata": {},
       "output_type": "pyout",
       "prompt_number": 11,
       "text": [
        "true"
       ]
      }
     ],
     "prompt_number": 11
    },
    {
     "cell_type": "code",
     "collapsed": false,
     "input": [
      "expression = expression.reduce"
     ],
     "language": "python",
     "metadata": {},
     "outputs": [
      {
       "metadata": {},
       "output_type": "pyout",
       "prompt_number": 12,
       "text": [
        "<<2 + 3 * 4>>"
       ]
      }
     ],
     "prompt_number": 12
    },
    {
     "cell_type": "code",
     "collapsed": false,
     "input": [
      "expression.reducible?"
     ],
     "language": "python",
     "metadata": {},
     "outputs": [
      {
       "metadata": {},
       "output_type": "pyout",
       "prompt_number": 13,
       "text": [
        "true"
       ]
      }
     ],
     "prompt_number": 13
    },
    {
     "cell_type": "code",
     "collapsed": false,
     "input": [
      "expression = expression.reduce"
     ],
     "language": "python",
     "metadata": {},
     "outputs": [
      {
       "metadata": {},
       "output_type": "pyout",
       "prompt_number": 14,
       "text": [
        "<<2 + 12>>"
       ]
      }
     ],
     "prompt_number": 14
    },
    {
     "cell_type": "code",
     "collapsed": false,
     "input": [
      "expression.reducible?"
     ],
     "language": "python",
     "metadata": {},
     "outputs": [
      {
       "metadata": {},
       "output_type": "pyout",
       "prompt_number": 15,
       "text": [
        "true"
       ]
      }
     ],
     "prompt_number": 15
    },
    {
     "cell_type": "code",
     "collapsed": false,
     "input": [
      "expression = expression.reduce"
     ],
     "language": "python",
     "metadata": {},
     "outputs": [
      {
       "metadata": {},
       "output_type": "pyout",
       "prompt_number": 16,
       "text": [
        "<<14>>"
       ]
      }
     ],
     "prompt_number": 16
    },
    {
     "cell_type": "code",
     "collapsed": false,
     "input": [
      "expression.reducible?"
     ],
     "language": "python",
     "metadata": {},
     "outputs": [
      {
       "metadata": {},
       "output_type": "pyout",
       "prompt_number": 17,
       "text": [
        "false"
       ]
      }
     ],
     "prompt_number": 17
    },
    {
     "cell_type": "markdown",
     "metadata": {},
     "source": [
      "\u624b\u9593\u3092\u7701\u304f\u305f\u3081\u306b\u3001\u307e\u305f\u62bd\u8c61\u6a5f\u68b0\u3068\u3044\u3046\u6982\u5ff5\u3092\u3088\u308a\u5177\u4f53\u5316\u3059\u308b\u305f\u3081\u306b\u3001\u3053\u306e\u4f5c\u696d\u3092\u3084\u3063\u3066\u304f\u308c\u308b Ruby \u30b3\u30fc\u30c9\u3092\u66f8\u304f\u3002\u305d\u306e\u30b3\u30fc\u30c9\u3068\u72b6\u614b\u3092\u30af\u30e9\u30b9\u306b\u307e\u3068\u3081\u3001\u305d\u308c\u3092\u4eee\u60f3\u6a5f\u68b0\u3068\u547c\u3076\u3053\u3068\u306b\u3059\u308b\u3002"
     ]
    },
    {
     "cell_type": "code",
     "collapsed": false,
     "input": [
      "class Machine < Struct.new(:expression)\n",
      "  def step\n",
      "    self.expression = expression.reduce\n",
      "  end\n",
      "  \n",
      "  def run\n",
      "    while expression.reducible?\n",
      "      puts expression\n",
      "      step\n",
      "    end\n",
      "    puts expression\n",
      "  end\n",
      "end"
     ],
     "language": "python",
     "metadata": {},
     "outputs": [
      {
       "metadata": {},
       "output_type": "pyout",
       "prompt_number": 18,
       "text": [
        ":run"
       ]
      }
     ],
     "prompt_number": 18
    },
    {
     "cell_type": "markdown",
     "metadata": {},
     "source": [
      "\u4eee\u60f3\u6a5f\u68b0\u306b\u5f0f\u3092\u4e0e\u3048\u3066\u30a4\u30f3\u30b9\u30bf\u30f3\u30b9\u5316\u3057\u3001\u305d\u308c\u3092 `run` \u3059\u308b\u3053\u3068\u3067\u3001\u7c21\u7d04\u30b9\u30c6\u30c3\u30d7\u3092\u89b3\u5bdf\u3067\u304d\u308b\u3002"
     ]
    },
    {
     "cell_type": "code",
     "collapsed": false,
     "input": [
      "Machine.new(\n",
      "  Add.new(\n",
      "    Multiply.new(Number.new(1), Number.new(2)),\n",
      "    Multiply.new(Number.new(3), Number.new(4))\n",
      "  )\n",
      ").run"
     ],
     "language": "python",
     "metadata": {},
     "outputs": [
      {
       "output_type": "stream",
       "stream": "stdout",
       "text": [
        "1 * 2 + 3 * 4\n"
       ]
      },
      {
       "output_type": "stream",
       "stream": "stdout",
       "text": [
        "2 + 3 * 4\n"
       ]
      },
      {
       "output_type": "stream",
       "stream": "stdout",
       "text": [
        "2 + 12\n"
       ]
      },
      {
       "output_type": "stream",
       "stream": "stdout",
       "text": [
        "14\n"
       ]
      }
     ],
     "prompt_number": 19
    },
    {
     "cell_type": "markdown",
     "metadata": {},
     "source": [
      "\u3053\u306e\u5b9f\u88c5\u3092\u62e1\u5f35\u3057\u3066\u3001\u5f15\u304d\u7b97\u3068\u5272\u308a\u7b97\u3001\u30d6\u30fc\u30eb\u5024\u306e `true` \u3068 `false`\u3001\u8ad6\u7406\u6f14\u7b97\u306e `and`\u3001`or`\u3001`not`\u3001\u30d6\u30fc\u30eb\u5024\u3092\u8fd4\u3059\u6570\u5024\u306e\u6bd4\u8f03\u6f14\u7b97\u3068\u3044\u3063\u305f\u3001\u4ed6\u306e\u5358\u7d14\u306a\u5024\u3084\u64cd\u4f5c\u3092\u30b5\u30dd\u30fc\u30c8\u3059\u308b\u306e\u306f\u96e3\u3057\u304f\u306a\u3044\u3002\u305f\u3068\u3048\u3070\u3001\u30d6\u30fc\u30eb\u5024\u3068\u5c0f\u306a\u308a\u6f14\u7b97\u5b50\u306e\u5b9f\u88c5\u306f\u4ee5\u4e0b\u306e\u3088\u3046\u306b\u306a\u308b\u3002"
     ]
    },
    {
     "cell_type": "code",
     "collapsed": false,
     "input": [
      "class Boolean < Struct.new(:value)\n",
      "  def to_s\n",
      "    value.to_s\n",
      "  end\n",
      "  \n",
      "  def inspect\n",
      "    \"<<#{self}>>\"\n",
      "  end\n",
      "\n",
      "  def reducible?\n",
      "    false\n",
      "  end\n",
      "end\n",
      "\n",
      "class LessThan < Struct.new(:left, :right)\n",
      "  def to_s\n",
      "    \"#{left} < #{right}\"\n",
      "  end\n",
      "  \n",
      "  def inspect\n",
      "    \"<<#{self}>>\"\n",
      "  end\n",
      "\n",
      "  def reducible?\n",
      "    true\n",
      "  end\n",
      "\n",
      "  def reduce\n",
      "    if left.reducible?\n",
      "      LessThan.new(left.reduce, right)\n",
      "    elsif right.reducible?\n",
      "      LessThan.new(left, right.reduce)\n",
      "    else\n",
      "      Boolean.new(left.value < right.value)\n",
      "    end\n",
      "  end\n",
      "end"
     ],
     "language": "python",
     "metadata": {},
     "outputs": [
      {
       "metadata": {},
       "output_type": "pyout",
       "prompt_number": 20,
       "text": [
        ":reduce"
       ]
      }
     ],
     "prompt_number": 20
    },
    {
     "cell_type": "markdown",
     "metadata": {},
     "source": [
      "\u3053\u308c\u3067\u30d6\u30fc\u30eb\u5f0f\u3082\u30b9\u30e2\u30fc\u30eb\u30b9\u30c6\u30c3\u30d7\u3067\u7c21\u7d04\u3067\u304d\u308b\u3002"
     ]
    },
    {
     "cell_type": "code",
     "collapsed": false,
     "input": [
      "Machine.new(\n",
      "  LessThan.new(Number.new(5), Add.new(Number.new(2), Number.new(2)))\n",
      ").run"
     ],
     "language": "python",
     "metadata": {},
     "outputs": [
      {
       "output_type": "stream",
       "stream": "stdout",
       "text": [
        "5 < 2 + 2\n"
       ]
      },
      {
       "output_type": "stream",
       "stream": "stdout",
       "text": [
        "5 < 4\n"
       ]
      },
      {
       "output_type": "stream",
       "stream": "stdout",
       "text": [
        "false\n"
       ]
      }
     ],
     "prompt_number": 21
    },
    {
     "cell_type": "markdown",
     "metadata": {},
     "source": [
      "SIMPLE \u3067\u5909\u6570\u3092\u8868\u73fe\u3059\u308b\u305f\u3081\u3001\u65b0\u305f\u306b `Variable` \u3068\u3044\u3046\u5f0f\u306e\u30af\u30e9\u30b9\u3092\u5c0e\u5165\u3059\u308b\u3002"
     ]
    },
    {
     "cell_type": "code",
     "collapsed": false,
     "input": [
      "class Variable < Struct.new(:name)\n",
      "  def to_s\n",
      "    name.to_s\n",
      "  end\n",
      "  \n",
      "  def inspect\n",
      "    \"<<#{self}>>\"\n",
      "  end\n",
      "\n",
      "  def reducible?\n",
      "    true\n",
      "  end\n",
      "  \n",
      "  def reduce(environment)\n",
      "    environment[name]\n",
      "  end\n",
      "end"
     ],
     "language": "python",
     "metadata": {},
     "outputs": [
      {
       "metadata": {},
       "output_type": "pyout",
       "prompt_number": 22,
       "text": [
        ":reduce"
       ]
      }
     ],
     "prompt_number": 22
    },
    {
     "cell_type": "markdown",
     "metadata": {},
     "source": [
      "`#reduce` \u306b\u5f15\u6570 `environment` \u3092\u6e21\u3057\u3066\u3044\u308b\u3053\u3068\u306b\u6ce8\u610f\u3059\u308b\u3002\u4ed6\u306e\u30af\u30e9\u30b9\u306e `#reduce` \u306e\u5b9f\u88c5\u3082\u5909\u66f4\u3059\u308b\u5fc5\u8981\u304c\u3042\u308b\u3002"
     ]
    },
    {
     "cell_type": "code",
     "collapsed": false,
     "input": [
      "class Add\n",
      "  def reduce(environment)\n",
      "    if left.reducible?\n",
      "      Add.new(left.reduce(environment), right)\n",
      "    elsif right.reducible?\n",
      "      Add.new(left, right.reduce(environment))\n",
      "    else\n",
      "      Number.new(left.value + right.value)\n",
      "    end\n",
      "  end\n",
      "end\n",
      "\n",
      "class Multiply\n",
      "  def reduce(environment)\n",
      "    if left.reducible?\n",
      "      Multiply.new(left.reduce(environment), right)\n",
      "    elsif right.reducible?\n",
      "      Multiply.new(left, right.reduce(environment))\n",
      "    else\n",
      "      Number.new(left.value * right.value)\n",
      "    end\n",
      "  end\n",
      "end\n",
      "\n",
      "class LessThan\n",
      "  def reduce(environment)\n",
      "    if left.reducible?\n",
      "      LessThan.new(left.reduce(environment), right)\n",
      "    elsif right.reducible?\n",
      "      LessThan.new(left, right.reduce(environment))\n",
      "    else\n",
      "      Boolean.new(left.value < right.value)\n",
      "    end\n",
      "  end\n",
      "end"
     ],
     "language": "python",
     "metadata": {},
     "outputs": [
      {
       "metadata": {},
       "output_type": "pyout",
       "prompt_number": 23,
       "text": [
        ":reduce"
       ]
      }
     ],
     "prompt_number": 23
    },
    {
     "cell_type": "markdown",
     "metadata": {},
     "source": [
      "\u4eee\u60f3\u6a5f\u68b0\u3082\u518d\u5b9a\u7fa9\u3059\u308b\u5fc5\u8981\u304c\u3042\u308b\u3002"
     ]
    },
    {
     "cell_type": "code",
     "collapsed": false,
     "input": [
      "Object.send(:remove_const, :Machine)\n",
      "class Machine < Struct.new(:expression, :environment)\n",
      "  def step\n",
      "    self.expression = expression.reduce(environment)\n",
      "  end\n",
      "  \n",
      "  def run\n",
      "    while expression.reducible?\n",
      "      puts expression\n",
      "      step\n",
      "    end\n",
      "    puts expression\n",
      "  end\n",
      "end"
     ],
     "language": "python",
     "metadata": {},
     "outputs": [
      {
       "metadata": {},
       "output_type": "pyout",
       "prompt_number": 24,
       "text": [
        ":run"
       ]
      }
     ],
     "prompt_number": 24
    },
    {
     "cell_type": "markdown",
     "metadata": {},
     "source": [
      "\u3053\u308c\u306b\u3088\u3063\u3066\u3001\u5909\u6570\u306e\u5024\u3092\u542b\u3093\u3060\u74b0\u5883\u304c\u4e0e\u3048\u3089\u308c\u308b\u9650\u308a\u3001\u4eee\u60f3\u6a5f\u68b0\u306f\u5909\u6570\u3092\u542b\u3080\u5f0f\u3092\u7c21\u7d04\u3059\u308b\u3053\u3068\u304c\u3067\u304d\u308b\u3002"
     ]
    },
    {
     "cell_type": "code",
     "collapsed": false,
     "input": [
      "Machine.new(\n",
      "  Add.new(Variable.new(:x), Variable.new(:y)),\n",
      "  { x: Number.new(3), y: Number.new(4) }\n",
      ").run"
     ],
     "language": "python",
     "metadata": {},
     "outputs": [
      {
       "output_type": "stream",
       "stream": "stdout",
       "text": [
        "x + y\n"
       ]
      },
      {
       "output_type": "stream",
       "stream": "stdout",
       "text": [
        "3 + y\n"
       ]
      },
      {
       "output_type": "stream",
       "stream": "stdout",
       "text": [
        "3 + 4\n"
       ]
      },
      {
       "output_type": "stream",
       "stream": "stdout",
       "text": [
        "7\n"
       ]
      }
     ],
     "prompt_number": 25
    },
    {
     "cell_type": "heading",
     "level": 4,
     "metadata": {},
     "source": [
      "2.3.1.2 \u6587"
     ]
    },
    {
     "cell_type": "markdown",
     "metadata": {},
     "source": [
      "\u6700\u3082\u5358\u7d14\u306a\u6587\u306f\u4f55\u3082\u3057\u306a\u3044\u6587\u3067\u3042\u308b\u3002\u3053\u308c\u306f\u7c21\u7d04\u4e0d\u53ef\u80fd\u306a\u306e\u3067\u3001\u74b0\u5883\u306b\u4f55\u3082\u5f71\u97ff\u3092\u4e0e\u3048\u306a\u3044\u3002\u5b9f\u88c5\u3082\u7c21\u5358\u3067\u3042\u308b\u3002"
     ]
    },
    {
     "cell_type": "code",
     "collapsed": false,
     "input": [
      "class DoNothing\n",
      "  def to_s\n",
      "    'do-nothing'\n",
      "  end\n",
      "  \n",
      "  def inspect\n",
      "    \"<<#{self}>>\"\n",
      "  end\n",
      "  \n",
      "  def ==(other_statement)\n",
      "    other_statement.instance_of?(DoNothing)\n",
      "  end\n",
      "  \n",
      "  def reducible?\n",
      "    false\n",
      "  end\n",
      "end"
     ],
     "language": "python",
     "metadata": {},
     "outputs": [
      {
       "metadata": {},
       "output_type": "pyout",
       "prompt_number": 26,
       "text": [
        ":reducible?"
       ]
      }
     ],
     "prompt_number": 26
    },
    {
     "cell_type": "markdown",
     "metadata": {},
     "source": [
      "`Assign` \u30af\u30e9\u30b9\u306e\u5b9f\u88c5\u306f\u4ee5\u4e0b\u306e\u3088\u3046\u306b\u306a\u308b\u3002"
     ]
    },
    {
     "cell_type": "code",
     "collapsed": false,
     "input": [
      "class Assign < Struct.new(:name, :expression)\n",
      "  def to_s\n",
      "    \"#{name} = #{expression}\"\n",
      "  end\n",
      "\n",
      "  def inspect\n",
      "    \"<<#{self}>>\"\n",
      "  end\n",
      "\n",
      "  def reducible?\n",
      "    true\n",
      "  end\n",
      "\n",
      "  def reduce(environment)\n",
      "    if expression.reducible?\n",
      "      [Assign.new(name, expression.reduce(environment)), environment]\n",
      "    else\n",
      "      [DoNothing.new, environment.merge({ name => expression })]\n",
      "    end\n",
      "  end\n",
      "end"
     ],
     "language": "python",
     "metadata": {},
     "outputs": [
      {
       "metadata": {},
       "output_type": "pyout",
       "prompt_number": 27,
       "text": [
        ":reduce"
       ]
      }
     ],
     "prompt_number": 27
    },
    {
     "cell_type": "markdown",
     "metadata": {},
     "source": [
      "\u5f0f\u306e\u5834\u5408\u3068\u540c\u3058\u3088\u3046\u306b\u3001\u3053\u308c\u4ee5\u4e0a\u7c21\u7d04\u3067\u304d\u306a\u304f\u306a\u308b\u307e\u3067\u7e70\u308a\u8fd4\u3057\u7c21\u7d04\u3059\u308b\u3053\u3068\u3067\u3001\u4ee3\u5165\u6587\u3092\u624b\u4f5c\u696d\u3067\u8a55\u4fa1\u3059\u308b\u3053\u3068\u304c\u3067\u304d\u308b\u3002"
     ]
    },
    {
     "cell_type": "code",
     "collapsed": false,
     "input": [
      "statement = Assign.new(:x, Add.new(Variable.new(:x), Number.new(1)))"
     ],
     "language": "python",
     "metadata": {},
     "outputs": [
      {
       "metadata": {},
       "output_type": "pyout",
       "prompt_number": 28,
       "text": [
        "<<x = x + 1>>"
       ]
      }
     ],
     "prompt_number": 28
    },
    {
     "cell_type": "code",
     "collapsed": false,
     "input": [
      "environment = { x: Number.new(2) }"
     ],
     "language": "python",
     "metadata": {},
     "outputs": [
      {
       "metadata": {},
       "output_type": "pyout",
       "prompt_number": 29,
       "text": [
        "{:x=><<2>>}"
       ]
      }
     ],
     "prompt_number": 29
    },
    {
     "cell_type": "code",
     "collapsed": false,
     "input": [
      "statement.reducible?"
     ],
     "language": "python",
     "metadata": {},
     "outputs": [
      {
       "metadata": {},
       "output_type": "pyout",
       "prompt_number": 30,
       "text": [
        "true"
       ]
      }
     ],
     "prompt_number": 30
    },
    {
     "cell_type": "code",
     "collapsed": false,
     "input": [
      "statement, environment = statement.reduce(environment)"
     ],
     "language": "python",
     "metadata": {},
     "outputs": [
      {
       "metadata": {},
       "output_type": "pyout",
       "prompt_number": 31,
       "text": [
        "[<<x = 2 + 1>>, {:x=><<2>>}]"
       ]
      }
     ],
     "prompt_number": 31
    },
    {
     "cell_type": "code",
     "collapsed": false,
     "input": [
      "statement, environment = statement.reduce(environment)"
     ],
     "language": "python",
     "metadata": {},
     "outputs": [
      {
       "metadata": {},
       "output_type": "pyout",
       "prompt_number": 32,
       "text": [
        "[<<x = 3>>, {:x=><<2>>}]"
       ]
      }
     ],
     "prompt_number": 32
    },
    {
     "cell_type": "code",
     "collapsed": false,
     "input": [
      "statement, environment = statement.reduce(environment)"
     ],
     "language": "python",
     "metadata": {},
     "outputs": [
      {
       "metadata": {},
       "output_type": "pyout",
       "prompt_number": 33,
       "text": [
        "[<<do-nothing>>, {:x=><<3>>}]"
       ]
      }
     ],
     "prompt_number": 33
    },
    {
     "cell_type": "code",
     "collapsed": false,
     "input": [
      "statement.reducible?"
     ],
     "language": "python",
     "metadata": {},
     "outputs": [
      {
       "metadata": {},
       "output_type": "pyout",
       "prompt_number": 34,
       "text": [
        "false"
       ]
      }
     ],
     "prompt_number": 34
    },
    {
     "cell_type": "markdown",
     "metadata": {},
     "source": [
      "\u6587\u304c\u6271\u3048\u308b\u3088\u3046\u306b\u4eee\u60f3\u6a5f\u68b0\u3092\u518d\u5b9f\u88c5\u3059\u308b\u3002"
     ]
    },
    {
     "cell_type": "code",
     "collapsed": false,
     "input": [
      "Object.send(:remove_const, :Machine)\n",
      "class Machine < Struct.new(:statement, :environment)\n",
      "  def step\n",
      "    self.statement, self.environment = statement.reduce(environment)\n",
      "  end\n",
      "  \n",
      "  def run\n",
      "    while statement.reducible?\n",
      "      puts \"#{statement}, #{environment}\"\n",
      "      step\n",
      "    end\n",
      "    puts \"#{statement}, #{environment}\"\n",
      "  end\n",
      "end"
     ],
     "language": "python",
     "metadata": {},
     "outputs": [
      {
       "metadata": {},
       "output_type": "pyout",
       "prompt_number": 35,
       "text": [
        ":run"
       ]
      }
     ],
     "prompt_number": 35
    },
    {
     "cell_type": "code",
     "collapsed": false,
     "input": [
      "Machine.new(\n",
      "  Assign.new(:x, Add.new(Variable.new(:x), Number.new(1))),\n",
      "  { x: Number.new(2) }\n",
      ").run"
     ],
     "language": "python",
     "metadata": {},
     "outputs": [
      {
       "output_type": "stream",
       "stream": "stdout",
       "text": [
        "x = x + 1, {:x=><<2>>}\n"
       ]
      },
      {
       "output_type": "stream",
       "stream": "stdout",
       "text": [
        "x = 2 + 1, {:x=><<2>>}\n"
       ]
      },
      {
       "output_type": "stream",
       "stream": "stdout",
       "text": [
        "x = 3, {:x=><<2>>}\n"
       ]
      },
      {
       "output_type": "stream",
       "stream": "stdout",
       "text": [
        "do-nothing, {:x=><<3>>}\n"
       ]
      }
     ],
     "prompt_number": 36
    },
    {
     "cell_type": "markdown",
     "metadata": {},
     "source": [
      "If \u30af\u30e9\u30b9\u306e\u5b9f\u88c5\u306f\u4ee5\u4e0b\u306e\u3088\u3046\u306b\u306a\u308b\u3002"
     ]
    },
    {
     "cell_type": "code",
     "collapsed": false,
     "input": [
      "class If < Struct.new(:condition, :consequence, :alternative)\n",
      "  def to_s\n",
      "    \"if (#{condition}) { #{consequence} } } else { #{alternative} }\"\n",
      "  end\n",
      "\n",
      "  def inspect\n",
      "    \"<<#{self}>>\"\n",
      "  end\n",
      "\n",
      "  def reducible?\n",
      "    true\n",
      "  end\n",
      "\n",
      "  def reduce(environment)\n",
      "    if condition.reducible?\n",
      "      [If.new(condition.reduce(environment), consequence, alternative), environment]\n",
      "    else\n",
      "      case condition\n",
      "      when Boolean.new(true)\n",
      "        [consequence, environment]\n",
      "      when Boolean.new(false)\n",
      "        [alternative, environment]\n",
      "      end\n",
      "    end\n",
      "  end\n",
      "end"
     ],
     "language": "python",
     "metadata": {},
     "outputs": [
      {
       "metadata": {},
       "output_type": "pyout",
       "prompt_number": 37,
       "text": [
        ":reduce"
       ]
      }
     ],
     "prompt_number": 37
    },
    {
     "cell_type": "markdown",
     "metadata": {},
     "source": [
      "\u7c21\u7d04\u30b9\u30c6\u30c3\u30d7\u306f\u4ee5\u4e0b\u306e\u3088\u3046\u306b\u306a\u308b\u3002"
     ]
    },
    {
     "cell_type": "code",
     "collapsed": false,
     "input": [
      "Machine.new(\n",
      "  If.new(\n",
      "    Variable.new(:x),\n",
      "    Assign.new(:y, Number.new(1)),\n",
      "    Assign.new(:y, Number.new(2))\n",
      "  ),\n",
      "  { x: Boolean.new(true) }\n",
      ").run"
     ],
     "language": "python",
     "metadata": {},
     "outputs": [
      {
       "output_type": "stream",
       "stream": "stdout",
       "text": [
        "if (x) { y = 1 } } else { y = 2 }, {:x=><<true>>}\n"
       ]
      },
      {
       "output_type": "stream",
       "stream": "stdout",
       "text": [
        "if (true) { y = 1 } } else { y = 2 }, {:x=><<true>>}\n"
       ]
      },
      {
       "output_type": "stream",
       "stream": "stdout",
       "text": [
        "y = 1, {:x=><<true>>}\n"
       ]
      },
      {
       "output_type": "stream",
       "stream": "stdout",
       "text": [
        "do-nothing, {:x=><<true>>, :y=><<1>>}\n"
       ]
      }
     ],
     "prompt_number": 38
    },
    {
     "cell_type": "markdown",
     "metadata": {},
     "source": [
      "`<<else>>` \u7bc0\u306e\u306a\u3044\u6761\u4ef6\u6587\u3082\u30b5\u30dd\u30fc\u30c8\u3057\u3066\u3044\u308b\u3002"
     ]
    },
    {
     "cell_type": "code",
     "collapsed": false,
     "input": [
      "Machine.new(\n",
      "  If.new(\n",
      "    Variable.new(:x),\n",
      "    Assign.new(:y, Number.new(1)),\n",
      "    DoNothing.new\n",
      "  ),\n",
      "  { x: Boolean.new(false) }\n",
      ").run"
     ],
     "language": "python",
     "metadata": {},
     "outputs": [
      {
       "output_type": "stream",
       "stream": "stdout",
       "text": [
        "if (x) { y = 1 } } else { do-nothing }, {:x=><<false>>}\n"
       ]
      },
      {
       "output_type": "stream",
       "stream": "stdout",
       "text": [
        "if (false) { y = 1 } } else { do-nothing }, {:x=><<false>>}\n"
       ]
      },
      {
       "output_type": "stream",
       "stream": "stdout",
       "text": [
        "do-nothing, {:x=><<false>>}\n"
       ]
      }
     ],
     "prompt_number": 39
    },
    {
     "cell_type": "markdown",
     "metadata": {},
     "source": [
      "`Sequence` \u30af\u30e9\u30b9\u306e\u5b9f\u88c5\u306f\u4ee5\u4e0b\u306e\u3088\u3046\u306b\u306a\u308b\u3002"
     ]
    },
    {
     "cell_type": "code",
     "collapsed": false,
     "input": [
      "class Sequence < Struct.new(:first, :second)\n",
      "  def to_s\n",
      "    \"#{first}; #{second}\"\n",
      "  end\n",
      "  \n",
      "  def inspect\n",
      "    \"<<#{self}>>\"\n",
      "  end\n",
      "\n",
      "  def reducible?\n",
      "    true\n",
      "  end\n",
      "\n",
      "  def reduce(environment)\n",
      "    case first\n",
      "    when DoNothing.new\n",
      "      [second, environment]\n",
      "    else\n",
      "      reduced_first, reduced_environment = first.reduce(environment)\n",
      "      [Sequence.new(reduced_first, second), reduced_environment]\n",
      "    end\n",
      "  end\n",
      "end"
     ],
     "language": "python",
     "metadata": {},
     "outputs": [
      {
       "metadata": {},
       "output_type": "pyout",
       "prompt_number": 40,
       "text": [
        ":reduce"
       ]
      }
     ],
     "prompt_number": 40
    },
    {
     "cell_type": "markdown",
     "metadata": {},
     "source": [
      "\u7c21\u7d04\u30b9\u30c6\u30c3\u30d7\u306f\u4ee5\u4e0b\u306e\u3088\u3046\u306b\u306a\u308b\u3002"
     ]
    },
    {
     "cell_type": "code",
     "collapsed": false,
     "input": [
      "Machine.new(\n",
      "  Sequence.new(\n",
      "    Assign.new(:x, Add.new(Number.new(1), Number.new(1))),\n",
      "    Assign.new(:y, Add.new(Variable.new(:x), Number.new(3)))\n",
      "  ),\n",
      "  {}\n",
      ").run"
     ],
     "language": "python",
     "metadata": {},
     "outputs": [
      {
       "output_type": "stream",
       "stream": "stdout",
       "text": [
        "x = 1 + 1; y = x + 3, {}\n"
       ]
      },
      {
       "output_type": "stream",
       "stream": "stdout",
       "text": [
        "x = 2; y = x + 3, {}\n"
       ]
      },
      {
       "output_type": "stream",
       "stream": "stdout",
       "text": [
        "do-nothing; y = x + 3, {:x=><<2>>}\n"
       ]
      },
      {
       "output_type": "stream",
       "stream": "stdout",
       "text": [
        "y = x + 3, {:x=><<2>>}\n"
       ]
      },
      {
       "output_type": "stream",
       "stream": "stdout",
       "text": [
        "y = 2 + 3, {:x=><<2>>}\n"
       ]
      },
      {
       "output_type": "stream",
       "stream": "stdout",
       "text": [
        "y = 5, {:x=><<2>>}\n"
       ]
      },
      {
       "output_type": "stream",
       "stream": "stdout",
       "text": [
        "do-nothing, {:x=><<2>>, :y=><<5>>}\n"
       ]
      }
     ],
     "prompt_number": 41
    },
    {
     "cell_type": "markdown",
     "metadata": {},
     "source": [
      "`While` \u30af\u30e9\u30b9\u306e\u5b9f\u88c5\u306f\u4ee5\u4e0b\u306e\u3088\u3046\u306b\u306a\u308b\u3002"
     ]
    },
    {
     "cell_type": "code",
     "collapsed": false,
     "input": [
      "class While < Struct.new(:condition, :body)\n",
      "  def to_s\n",
      "    \"while (#{condition}) { #{body} }\"\n",
      "  end\n",
      "  \n",
      "  def inspect\n",
      "    \"<<#{self}>>\"\n",
      "  end\n",
      "\n",
      "  def reducible?\n",
      "    true\n",
      "  end\n",
      "\n",
      "  def reduce(environment)\n",
      "    [If.new(condition, Sequence.new(body, self), DoNothing.new), environment]\n",
      "  end\n",
      "end"
     ],
     "language": "python",
     "metadata": {},
     "outputs": [
      {
       "metadata": {},
       "output_type": "pyout",
       "prompt_number": 42,
       "text": [
        ":reduce"
       ]
      }
     ],
     "prompt_number": 42
    },
    {
     "cell_type": "markdown",
     "metadata": {},
     "source": [
      "\u7c21\u7d04\u30b9\u30c6\u30c3\u30d7\u306f\u4ee5\u4e0b\u306e\u3088\u3046\u306b\u306a\u308b\u3002"
     ]
    },
    {
     "cell_type": "code",
     "collapsed": false,
     "input": [
      "Machine.new(\n",
      "  While.new(\n",
      "    LessThan.new(Variable.new(:x), Number.new(5)),\n",
      "    Assign.new(:x, Multiply.new(Variable.new(:x), Number.new(3))),\n",
      "  ),\n",
      "  { x: Number.new(1) }\n",
      ").run"
     ],
     "language": "python",
     "metadata": {},
     "outputs": [
      {
       "output_type": "stream",
       "stream": "stdout",
       "text": [
        "while (x < 5) { x = x * 3 }, {:x=><<1>>}\n"
       ]
      },
      {
       "output_type": "stream",
       "stream": "stdout",
       "text": [
        "if (x < 5) { x = x * 3; while (x < 5) { x = x * 3 } } } else { do-nothing }, {:x=><<1>>}\n"
       ]
      },
      {
       "output_type": "stream",
       "stream": "stdout",
       "text": [
        "if (1 < 5) { x = x * 3; while (x < 5) { x = x * 3 } } } else { do-nothing }, {:x=><<1>>}\n"
       ]
      },
      {
       "output_type": "stream",
       "stream": "stdout",
       "text": [
        "if (true) { x = x * 3; while (x < 5) { x = x * 3 } } } else { do-nothing }, {:x=><<1>>}\n"
       ]
      },
      {
       "output_type": "stream",
       "stream": "stdout",
       "text": [
        "x = x * 3; while (x < 5) { x = x * 3 }, {:x=><<1>>}\n"
       ]
      },
      {
       "output_type": "stream",
       "stream": "stdout",
       "text": [
        "x = 1 * 3; while (x < 5) { x = x * 3 }, {:x=><<1>>}\n"
       ]
      },
      {
       "output_type": "stream",
       "stream": "stdout",
       "text": [
        "x = 3; while (x < 5) { x = x * 3 }, {:x=><<1>>}\n"
       ]
      },
      {
       "output_type": "stream",
       "stream": "stdout",
       "text": [
        "do-nothing; while (x < 5) { x = x * 3 }, {:x=><<3>>}\n"
       ]
      },
      {
       "output_type": "stream",
       "stream": "stdout",
       "text": [
        "while (x < 5) { x = x * 3 }, {:x=><<3>>}\n"
       ]
      },
      {
       "output_type": "stream",
       "stream": "stdout",
       "text": [
        "if (x < 5) { x = x * 3; while (x < 5) { x = x * 3 } } } else { do-nothing }, {:x=><<3>>}\n"
       ]
      },
      {
       "output_type": "stream",
       "stream": "stdout",
       "text": [
        "if (3 < 5) { x = x * 3; while (x < 5) { x = x * 3 } } } else { do-nothing }, {:x=><<3>>}\n"
       ]
      },
      {
       "output_type": "stream",
       "stream": "stdout",
       "text": [
        "if (true) { x = x * 3; while (x < 5) { x = x * 3 } } } else { do-nothing }, {:x=><<3>>}\n"
       ]
      },
      {
       "output_type": "stream",
       "stream": "stdout",
       "text": [
        "x = x * 3; while (x < 5) { x = x * 3 }, {:x=><<3>>}\n"
       ]
      },
      {
       "output_type": "stream",
       "stream": "stdout",
       "text": [
        "x = 3 * 3; while (x < 5) { x = x * 3 }, {:x=><<3>>}\n"
       ]
      },
      {
       "output_type": "stream",
       "stream": "stdout",
       "text": [
        "x = 9; while (x < 5) { x = x * 3 }, {:x=><<3>>}\n"
       ]
      },
      {
       "output_type": "stream",
       "stream": "stdout",
       "text": [
        "do-nothing; while (x < 5) { x = x * 3 }, {:x=><<9>>}\n"
       ]
      },
      {
       "output_type": "stream",
       "stream": "stdout",
       "text": [
        "while (x < 5) { x = x * 3 }, {:x=><<9>>}\n"
       ]
      },
      {
       "output_type": "stream",
       "stream": "stdout",
       "text": [
        "if (x < 5) { x = x * 3; while (x < 5) { x = x * 3 } } } else { do-nothing }, {:x=><<9>>}\n"
       ]
      },
      {
       "output_type": "stream",
       "stream": "stdout",
       "text": [
        "if (9 < 5) { x = x * 3; while (x < 5) { x = x * 3 } } } else { do-nothing }, {:x=><<9>>}\n"
       ]
      },
      {
       "output_type": "stream",
       "stream": "stdout",
       "text": [
        "if (false) { x = x * 3; while (x < 5) { x = x * 3 } } } else { do-nothing }, {:x=><<9>>}\n"
       ]
      },
      {
       "output_type": "stream",
       "stream": "stdout",
       "text": [
        "do-nothing, {:x=><<9>>}\n"
       ]
      }
     ],
     "prompt_number": 43
    },
    {
     "cell_type": "heading",
     "level": 4,
     "metadata": {},
     "source": [
      "2.3.1.3 \u6b63\u5f53\u6027"
     ]
    },
    {
     "cell_type": "code",
     "collapsed": false,
     "input": [
      "Machine.new(\n",
      "  Sequence.new(\n",
      "    Assign.new(:x, Boolean.new(true)),\n",
      "    Assign.new(:y, Add.new(Variable.new(:x), Number.new(1)))\n",
      "  ),\n",
      "  {}\n",
      ").run"
     ],
     "language": "python",
     "metadata": {},
     "outputs": [
      {
       "output_type": "stream",
       "stream": "stdout",
       "text": [
        "x = true; y = x + 1, {}\n"
       ]
      },
      {
       "output_type": "stream",
       "stream": "stdout",
       "text": [
        "do-nothing; y = x + 1, {:x=><<true>>}\n"
       ]
      },
      {
       "output_type": "stream",
       "stream": "stdout",
       "text": [
        "y = x + 1, {:x=><<true>>}\n"
       ]
      },
      {
       "output_type": "stream",
       "stream": "stdout",
       "text": [
        "y = true + 1, {:x=><<true>>}\n"
       ]
      },
      {
       "ename": "NoMethodError",
       "evalue": "undefined method `+' for true:TrueClass",
       "output_type": "pyerr",
       "traceback": [
        "\u001b[31mNoMethodError\u001b[0m: undefined method `+' for true:TrueClass",
        "\u001b[37m(pry):183:in `reduce'\u001b[0m",
        "\u001b[37m(pry):261:in `reduce'\u001b[0m",
        "\u001b[37m(pry):277:in `step'\u001b[0m",
        "\u001b[37m(pry):283:in `run'\u001b[0m",
        "\u001b[37m(pry):394:in `<main>'\u001b[0m",
        "\u001b[37m/usr/local/opt/rbenv/versions/2.2.0/lib/ruby/gems/2.2.0/gems/pry-0.10.1/lib/pry/pry_instance.rb:355:in `eval'\u001b[0m",
        "\u001b[37m/usr/local/opt/rbenv/versions/2.2.0/lib/ruby/gems/2.2.0/gems/pry-0.10.1/lib/pry/pry_instance.rb:355:in `evaluate_ruby'\u001b[0m",
        "\u001b[37m/usr/local/opt/rbenv/versions/2.2.0/lib/ruby/gems/2.2.0/gems/pry-0.10.1/lib/pry/pry_instance.rb:323:in `handle_line'\u001b[0m",
        "\u001b[37m/usr/local/opt/rbenv/versions/2.2.0/lib/ruby/gems/2.2.0/gems/pry-0.10.1/lib/pry/pry_instance.rb:243:in `block (2 levels) in eval'\u001b[0m",
        "\u001b[37m/usr/local/opt/rbenv/versions/2.2.0/lib/ruby/gems/2.2.0/gems/pry-0.10.1/lib/pry/pry_instance.rb:242:in `catch'\u001b[0m",
        "\u001b[37m/usr/local/opt/rbenv/versions/2.2.0/lib/ruby/gems/2.2.0/gems/pry-0.10.1/lib/pry/pry_instance.rb:242:in `block in eval'\u001b[0m",
        "\u001b[37m/usr/local/opt/rbenv/versions/2.2.0/lib/ruby/gems/2.2.0/gems/pry-0.10.1/lib/pry/pry_instance.rb:241:in `catch'\u001b[0m",
        "\u001b[37m/usr/local/opt/rbenv/versions/2.2.0/lib/ruby/gems/2.2.0/gems/pry-0.10.1/lib/pry/pry_instance.rb:241:in `eval'\u001b[0m",
        "\u001b[37m/usr/local/opt/rbenv/versions/2.2.0/lib/ruby/gems/2.2.0/gems/iruby-0.1.13/lib/iruby/backend.rb:28:in `eval'\u001b[0m",
        "\u001b[37m/usr/local/opt/rbenv/versions/2.2.0/lib/ruby/gems/2.2.0/gems/iruby-0.1.13/lib/iruby/kernel.rb:110:in `execute_request'\u001b[0m",
        "\u001b[37m/usr/local/opt/rbenv/versions/2.2.0/lib/ruby/gems/2.2.0/gems/iruby-0.1.13/lib/iruby/kernel.rb:62:in `run'\u001b[0m",
        "\u001b[37m/usr/local/opt/rbenv/versions/2.2.0/lib/ruby/gems/2.2.0/gems/iruby-0.1.13/lib/iruby/command.rb:30:in `run_kernel'\u001b[0m",
        "\u001b[37m/usr/local/opt/rbenv/versions/2.2.0/lib/ruby/gems/2.2.0/gems/iruby-0.1.13/lib/iruby/command.rb:16:in `run'\u001b[0m",
        "\u001b[37m/usr/local/opt/rbenv/versions/2.2.0/lib/ruby/gems/2.2.0/gems/iruby-0.1.13/bin/iruby:6:in `<top (required)>'\u001b[0m",
        "\u001b[37m/usr/local/opt/rbenv/versions/2.2.0/bin/iruby:23:in `load'\u001b[0m",
        "\u001b[37m/usr/local/opt/rbenv/versions/2.2.0/bin/iruby:23:in `<main>'\u001b[0m"
       ]
      }
     ],
     "prompt_number": 44
    },
    {
     "cell_type": "heading",
     "level": 3,
     "metadata": {},
     "source": [
      "2.3.2 \u30d3\u30c3\u30af\u30b9\u30c6\u30c3\u30d7\u610f\u5473\u8ad6"
     ]
    },
    {
     "cell_type": "heading",
     "level": 4,
     "metadata": {},
     "source": [
      "2.3.2.1 \u5f0f"
     ]
    },
    {
     "cell_type": "code",
     "collapsed": false,
     "input": [
      "class Number\n",
      "  def evaluate(enviroment)\n",
      "    self\n",
      "  end\n",
      "end\n",
      "\n",
      "class Boolean\n",
      "  def evaluate(enviroment)\n",
      "    self\n",
      "  end\n",
      "end\n",
      "\n",
      "class Variable\n",
      "  def evaluate(enviroment)\n",
      "    enviroment[name]\n",
      "  end\n",
      "end\n",
      "\n",
      "class Add\n",
      "  def evaluate(enviroment)\n",
      "    Number.new(left.evaluate(enviroment).value + right.evaluate(enviroment).value)\n",
      "  end\n",
      "end\n",
      "\n",
      "class Multiply\n",
      "  def evaluate(enviroment)\n",
      "    Number.new(left.evaluate(enviroment).value * right.evaluate(enviroment).value)\n",
      "  end\n",
      "end\n",
      "\n",
      "class LessThan\n",
      "  def evaluate(enviroment)\n",
      "    Boolean.new(left.evaluate(enviroment).value < right.evaluate(enviroment).value)\n",
      "  end\n",
      "end"
     ],
     "language": "python",
     "metadata": {},
     "outputs": [
      {
       "metadata": {},
       "output_type": "pyout",
       "prompt_number": 45,
       "text": [
        ":evaluate"
       ]
      }
     ],
     "prompt_number": 45
    },
    {
     "cell_type": "code",
     "collapsed": false,
     "input": [
      "Number.new(23).evaluate({})"
     ],
     "language": "python",
     "metadata": {},
     "outputs": [
      {
       "metadata": {},
       "output_type": "pyout",
       "prompt_number": 46,
       "text": [
        "<<23>>"
       ]
      }
     ],
     "prompt_number": 46
    },
    {
     "cell_type": "code",
     "collapsed": false,
     "input": [
      "Variable.new(:x).evaluate({ x: Number.new(23) })"
     ],
     "language": "python",
     "metadata": {},
     "outputs": [
      {
       "metadata": {},
       "output_type": "pyout",
       "prompt_number": 47,
       "text": [
        "<<23>>"
       ]
      }
     ],
     "prompt_number": 47
    },
    {
     "cell_type": "code",
     "collapsed": false,
     "input": [
      "LessThan.new(\n",
      "  Add.new(Variable.new(:x), Number.new(2)),\n",
      "  Variable.new(:y)\n",
      ").evaluate({ x: Number.new(2), y: Number.new(5) })"
     ],
     "language": "python",
     "metadata": {},
     "outputs": [
      {
       "metadata": {},
       "output_type": "pyout",
       "prompt_number": 48,
       "text": [
        "<<true>>"
       ]
      }
     ],
     "prompt_number": 48
    },
    {
     "cell_type": "heading",
     "level": 4,
     "metadata": {},
     "source": [
      "2.3.2.2 \u6587"
     ]
    },
    {
     "cell_type": "code",
     "collapsed": false,
     "input": [
      "class Assign\n",
      "  def evaluate(enviroment)\n",
      "    enviroment.merge({ name => expression.evaluate(enviroment) })\n",
      "  end\n",
      "end\n",
      "\n",
      "class DoNothing\n",
      "  def evaluate(enviroment)\n",
      "    enviroment\n",
      "  end\n",
      "end\n",
      "\n",
      "class If\n",
      "  def evaluate(enviroment)\n",
      "    case condition.evaluate(enviroment)\n",
      "    when Boolean.new(true)\n",
      "      consequence.evaluate(enviroment)\n",
      "    when Boolean.new(false)\n",
      "      alternative.evaluate(enviroment)\n",
      "    end\n",
      "  end\n",
      "end\n",
      "\n",
      "class Sequence\n",
      "  def evaluate(enviroment)\n",
      "    second.evaluate(first.evaluate(enviroment))\n",
      "  end\n",
      "end"
     ],
     "language": "python",
     "metadata": {},
     "outputs": [
      {
       "metadata": {},
       "output_type": "pyout",
       "prompt_number": 49,
       "text": [
        ":evaluate"
       ]
      }
     ],
     "prompt_number": 49
    },
    {
     "cell_type": "code",
     "collapsed": false,
     "input": [
      "statement =\n",
      "  Sequence.new(\n",
      "    Assign.new(:x, Add.new(Number.new(1), Number.new(1))),\n",
      "    Assign.new(:y, Add.new(Variable.new(:x), Number.new(3)))\n",
      "  )"
     ],
     "language": "python",
     "metadata": {},
     "outputs": [
      {
       "metadata": {},
       "output_type": "pyout",
       "prompt_number": 50,
       "text": [
        "<<x = 1 + 1; y = x + 3>>"
       ]
      }
     ],
     "prompt_number": 50
    },
    {
     "cell_type": "code",
     "collapsed": false,
     "input": [
      "statement.evaluate({})"
     ],
     "language": "python",
     "metadata": {},
     "outputs": [
      {
       "metadata": {},
       "output_type": "pyout",
       "prompt_number": 51,
       "text": [
        "{:x=><<2>>, :y=><<5>>}"
       ]
      }
     ],
     "prompt_number": 51
    },
    {
     "cell_type": "code",
     "collapsed": false,
     "input": [
      "class While\n",
      "  def evaluate(enviroment)\n",
      "    case condition.evaluate(enviroment)\n",
      "    when Boolean.new(true)\n",
      "      evaluate(body.evaluate(enviroment))\n",
      "    when Boolean.new(false)\n",
      "      enviroment\n",
      "    end\n",
      "  end\n",
      "end "
     ],
     "language": "python",
     "metadata": {},
     "outputs": [
      {
       "metadata": {},
       "output_type": "pyout",
       "prompt_number": 52,
       "text": [
        ":evaluate"
       ]
      }
     ],
     "prompt_number": 52
    },
    {
     "cell_type": "code",
     "collapsed": false,
     "input": [
      "statement =\n",
      "  While.new(\n",
      "    LessThan.new(Variable.new(:x), Number.new(5)),\n",
      "    Assign.new(:x, Multiply.new(Variable.new(:x), Number.new(3)))\n",
      "  )"
     ],
     "language": "python",
     "metadata": {},
     "outputs": [
      {
       "metadata": {},
       "output_type": "pyout",
       "prompt_number": 53,
       "text": [
        "<<while (x < 5) { x = x * 3 }>>"
       ]
      }
     ],
     "prompt_number": 53
    },
    {
     "cell_type": "code",
     "collapsed": false,
     "input": [
      "statement.evaluate({ x: Number.new(1) })"
     ],
     "language": "python",
     "metadata": {},
     "outputs": [
      {
       "metadata": {},
       "output_type": "pyout",
       "prompt_number": 54,
       "text": [
        "{:x=><<9>>}"
       ]
      }
     ],
     "prompt_number": 54
    }
   ],
   "metadata": {}
  }
 ]
}